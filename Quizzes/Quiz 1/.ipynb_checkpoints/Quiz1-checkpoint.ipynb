{
 "cells": [
  {
   "cell_type": "markdown",
   "id": "ff6b89f2",
   "metadata": {},
   "source": [
    "<div align=\"center\"><font size=\"6\">CS345: Quiz 1</font></div>"
   ]
  },
  {
   "cell_type": "markdown",
   "id": "f49af8e6",
   "metadata": {},
   "source": [
    "**Instructions**\n",
    "\n",
    "Download this notebook and edit it.  Start by replacing the text in the following markdown cell with your name.\n",
    "\n",
    "Each question is worth 10 points."
   ]
  },
  {
   "cell_type": "markdown",
   "id": "4a9c26d3",
   "metadata": {},
   "source": [
    "**Ryan Blocker**"
   ]
  },
  {
   "cell_type": "markdown",
   "id": "51eb9097",
   "metadata": {},
   "source": [
    "### Question 1\n",
    "\n",
    "After executing\n",
    "\n",
    "        z = [1, 2, 3, 'me', 'you', True, False]\n",
    "        \n",
    "which of the following statements generate errors?  You are welcome to try each statement in a separate jupyter notebook or just in the ipython REPL.\n",
    "\n",
    "Edit this markdown text and mark the statements that produce errors by typing an 'x' between the `[]` brackets at the start of the line. Try each statement in a separate jupyter notebook or just in the ipython REPL. Before running each one, try to guess what the result is.  Once you see the result, work on understanding why that is the result.\n",
    "\n",
    "Here is an example:\n",
    "\n",
    "0. [x] this * 2 will produce an error\n",
    "\n",
    "1. [] z[0]\n",
    "\n",
    "1. [x] z[len(z)]\n",
    "\n",
    "1. [] z[0:2]\n",
    "\n",
    "1. [] z[::2]\n",
    "\n",
    "1. [] z[1] * 2\n",
    "\n",
    "1. [] z[3] * 3\n",
    "\n",
    "1. [] z[:80]\n",
    "\n",
    "1. [] z[5] * 2\n",
    "\n",
    "1. [] z[5:7] * 2\n",
    "\n",
    "1. [] z[6] * 2\n",
    "\n",
    "1. [] z += z\n",
    "\n",
    "1. [] z.append(z)\n",
    "\n",
    "1. [] z.index('you')\n",
    "\n",
    "1. [] z.index('False')\n",
    "\n",
    "1. [] 3 in z\n",
    "\n",
    "1. [] False in z\n",
    "\n",
    "1. [] z * z\n",
    "\n",
    "1. z + 5\n",
    "\n",
    "1. [huh for huh in z[2:5]]\n",
    "\n",
    "1. length(z)\n"
   ]
  },
  {
   "cell_type": "markdown",
   "id": "c93ed3f8",
   "metadata": {},
   "source": [
    "### Question 2\n",
    "\n",
    "Write a function that accepts a single argument that is a list, and returns three things:\n",
    "\n",
    "* the number of elements in the list,\n",
    "* a set of element types with each type just appearing once,\n",
    "* and the list in reverse order.\n",
    "\n",
    "For the set of element types, consider using `set` or `np.unique`.\n",
    "\n",
    "After the function definition, write some lines of python that demonstrate its use and shows the result."
   ]
  },
  {
   "cell_type": "code",
   "execution_count": 1,
   "id": "61930b6c",
   "metadata": {},
   "outputs": [],
   "source": [
    "# Function definition\n",
    "\n",
    "# ....\n",
    "\n",
    "# Example of its use, with the last line showing the result as output from this cell.\n",
    "\n",
    "# ...."
   ]
  },
  {
   "cell_type": "markdown",
   "id": "a16a4876",
   "metadata": {},
   "source": [
    "### Question 3\n",
    "\n",
    "Assign to variable `data` a `numpy` array that represents this matrix, and evaluate `data` as the last line of the same code cell to print its value.\n",
    "\n",
    "$$\n",
    "\\begin{pmatrix}\n",
    "1 & 2 & 3 & 4\\\\\n",
    "5 & 6 & 7 & 8\n",
    "\\end{pmatrix}\n",
    "$$\n",
    "\n",
    "What is the shape of this array?"
   ]
  },
  {
   "cell_type": "code",
   "execution_count": 2,
   "id": "c2f695be",
   "metadata": {
    "ExecuteTime": {
     "end_time": "2023-01-23T19:52:22.211471Z",
     "start_time": "2023-01-23T19:52:22.208571Z"
    }
   },
   "outputs": [],
   "source": [
    "# Define the numpy array and print its shape.\n",
    "\n",
    "# ..."
   ]
  },
  {
   "cell_type": "markdown",
   "id": "756300e9",
   "metadata": {},
   "source": [
    "### Question 4\n",
    "\n",
    "Change the value 6 to 99 and again evaluate `data` to show its new value."
   ]
  },
  {
   "cell_type": "code",
   "execution_count": 3,
   "id": "dd6fd991",
   "metadata": {
    "ExecuteTime": {
     "end_time": "2023-01-23T19:53:27.218907Z",
     "start_time": "2023-01-23T19:53:27.216562Z"
    }
   },
   "outputs": [],
   "source": [
    "# ..."
   ]
  },
  {
   "cell_type": "markdown",
   "id": "4405dca1",
   "metadata": {},
   "source": [
    "### Question 5\n",
    "\n",
    "Change the shape of this array to four rows and two columns with the first row being `[1, 2]`."
   ]
  },
  {
   "cell_type": "code",
   "execution_count": 4,
   "id": "20de520f",
   "metadata": {
    "ExecuteTime": {
     "end_time": "2023-01-23T19:54:15.931304Z",
     "start_time": "2023-01-23T19:54:15.928708Z"
    }
   },
   "outputs": [],
   "source": [
    "# ..."
   ]
  },
  {
   "cell_type": "markdown",
   "id": "ade18b0d",
   "metadata": {},
   "source": [
    "### Question 6\n",
    "\n",
    "What is the largest value in the array that results from   `A * A`  ?"
   ]
  },
  {
   "cell_type": "code",
   "execution_count": 5,
   "id": "abd92be4",
   "metadata": {
    "ExecuteTime": {
     "end_time": "2023-01-23T19:55:07.530875Z",
     "start_time": "2023-01-23T19:55:07.528484Z"
    }
   },
   "outputs": [],
   "source": [
    "# Just type your answer here\n",
    "\n"
   ]
  },
  {
   "cell_type": "markdown",
   "id": "283d11dc",
   "metadata": {},
   "source": [
    "### Question 7\n",
    "\n",
    "Create this array using `data` and no numbers.\n",
    "\n",
    "    array([[1, 2, 3, 4, 1, 2, 3, 4],\n",
    "           [5, 6, 7, 8, 5, 6, 7, 8]])\n"
   ]
  },
  {
   "cell_type": "code",
   "execution_count": 6,
   "id": "2eb68b79",
   "metadata": {
    "ExecuteTime": {
     "end_time": "2023-01-23T19:57:43.373885Z",
     "start_time": "2023-01-23T19:57:43.371502Z"
    }
   },
   "outputs": [],
   "source": [
    "# This code should produce as output the above array\n",
    "# ....."
   ]
  },
  {
   "cell_type": "markdown",
   "id": "e51671e0",
   "metadata": {},
   "source": [
    "### Question 8\n",
    "\n",
    "And now make this array without typing numbers.\n",
    "\n",
    "    array([[1, 2, 3, 4],\n",
    "           [5, 6, 7, 8],\n",
    "           [1, 2, 3, 4],\n",
    "           [5, 6, 7, 8]])"
   ]
  },
  {
   "cell_type": "code",
   "execution_count": 7,
   "id": "2fc0da5c",
   "metadata": {
    "ExecuteTime": {
     "end_time": "2023-01-23T19:57:43.373885Z",
     "start_time": "2023-01-23T19:57:43.371502Z"
    }
   },
   "outputs": [],
   "source": [
    "# This code should produce as output the above array\n",
    "# ....."
   ]
  },
  {
   "cell_type": "markdown",
   "id": "fd23aca1",
   "metadata": {},
   "source": [
    "### Question 9\n",
    "\n",
    "Write a function that accepts two matrices (2-dimensional numpy arrays) of the same shape as arguments and returns a new matrix of the same shape containing the maximum of the corresponding elements in the two matrices given as arguments.\n",
    "\n",
    "Demonstrate its use on these two matrices:\n",
    "\n",
    "$$\n",
    "\\begin{pmatrix}\n",
    "1 & 42\\\\\n",
    "10 & -3\n",
    "\\end{pmatrix}\n",
    "$$\n",
    "\n",
    "$$\n",
    "\\begin{pmatrix}\n",
    "5 & 40\\\\\n",
    "10 & -5\n",
    "\\end{pmatrix}\n",
    "$$\n",
    " "
   ]
  },
  {
   "cell_type": "code",
   "execution_count": 6,
   "id": "d7c96683",
   "metadata": {
    "ExecuteTime": {
     "end_time": "2023-01-23T20:04:52.418925Z",
     "start_time": "2023-01-23T20:04:52.416808Z"
    }
   },
   "outputs": [],
   "source": [
    "# Define function here\n",
    "\n",
    "# ....\n",
    "\n",
    "# Demonstrate its use on the given matrices.\n",
    "\n",
    "# ..."
   ]
  },
  {
   "cell_type": "markdown",
   "id": "2987f9d2",
   "metadata": {
    "lines_to_next_cell": 2
   },
   "source": [
    "### Question 10\n",
    "\n",
    "Write code that uses `numpy` and `matplotlib.pyplot` to plot three curves:\n",
    "\n",
    "1. the $\\sin$ of 20 values from 0 to 10,\n",
    "2. the $\\cos$ of 20 values from 0 to 10, and\n",
    "3. the sum of $\\sin^2 + \\cos^2$ of the 20 values.\n",
    "\n",
    "Include x and y axis labels and a legend with entries for each curve.\n",
    "\n",
    "Does this plot make sense to you?  Why?"
   ]
  },
  {
   "cell_type": "code",
   "execution_count": 7,
   "id": "869f5265",
   "metadata": {
    "ExecuteTime": {
     "end_time": "2023-01-23T20:08:02.989148Z",
     "start_time": "2023-01-23T20:08:02.986701Z"
    }
   },
   "outputs": [],
   "source": [
    "# Write code to make the plot here.\n",
    "\n",
    "# ...."
   ]
  },
  {
   "cell_type": "markdown",
   "id": "6c6a2bd9",
   "metadata": {},
   "source": [
    "(Edit this markdown cell.)  My explanation of what this plot shows is as follows.   ..."
   ]
  },
  {
   "cell_type": "code",
   "execution_count": null,
   "id": "c7753000",
   "metadata": {},
   "outputs": [],
   "source": []
  }
 ],
 "metadata": {
  "jupytext": {
   "cell_metadata_filter": "-all",
   "notebook_metadata_filter": "-all"
  },
  "kernelspec": {
   "display_name": "Python 3 (ipykernel)",
   "language": "python",
   "name": "python3"
  },
  "language_info": {
   "codemirror_mode": {
    "name": "ipython",
    "version": 3
   },
   "file_extension": ".py",
   "mimetype": "text/x-python",
   "name": "python",
   "nbconvert_exporter": "python",
   "pygments_lexer": "ipython3",
   "version": "3.9.13"
  },
  "toc": {
   "base_numbering": 1,
   "nav_menu": {},
   "number_sections": true,
   "sideBar": true,
   "skip_h1_title": false,
   "title_cell": "Table of Contents",
   "title_sidebar": "Contents",
   "toc_cell": false,
   "toc_position": {
    "height": "calc(100% - 180px)",
    "left": "10px",
    "top": "150px",
    "width": "187.543px"
   },
   "toc_section_display": true,
   "toc_window_display": false
  }
 },
 "nbformat": 4,
 "nbformat_minor": 5
}
