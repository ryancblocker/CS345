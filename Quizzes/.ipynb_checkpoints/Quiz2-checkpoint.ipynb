{
 "cells": [
  {
   "cell_type": "markdown",
   "id": "ff6b89f2",
   "metadata": {},
   "source": [
    "<div align=\"center\"><font size=\"6\">CS345: Quiz 2</font></div>"
   ]
  },
  {
   "cell_type": "markdown",
   "id": "f49af8e6",
   "metadata": {},
   "source": [
    "**Instructions**\n",
    "\n",
    "Download this notebook and edit it.  Start by replacing the text in the following markdown cell with your name.  When you have completed the quiz, submit it in Canvas."
   ]
  },
  {
   "cell_type": "markdown",
   "id": "4a9c26d3",
   "metadata": {},
   "source": [
    "**Ryan Blocker**"
   ]
  },
  {
   "cell_type": "markdown",
   "id": "51eb9097",
   "metadata": {},
   "source": [
    "### Question 1\n",
    "\n",
    "For the given list \n",
    "    \n",
    "    A = [1, 2, 3, 4, 5, 6, 7, 8, 9, 10] \n",
    "    \n",
    "write a code that produces each of the desired output lists: \n",
    "\n",
    "1. A1 = [3, 4, 5]\n",
    "\n",
    "1. A2 = [1, 3, 5, 7]\n",
    "\n",
    "1. A3 = [8, 7, 6]\n",
    "\n",
    "1. A4 = [10, 7, 4]\n",
    "\n",
    "1. A5 = [3, 8, 1, 3]\n",
    "\n",
    "\n",
    "Note: edit the code cell below to implement the code. **Please have one line of code per list.**"
   ]
  },
  {
   "cell_type": "code",
   "execution_count": 1,
   "id": "c85b4fe0",
   "metadata": {},
   "outputs": [],
   "source": [
    "A = [1, 2, 3, 4, 5, 6, 7, 8, 9, 10] \n",
    "    \n",
    "A1 = A[2:5]\n",
    "\n",
    "A2 = A[0::2][:4]\n",
    "\n",
    "A3 = A[-3::-1][:3]\n",
    "\n",
    "A4 = A[-1:-8:-3]\n",
    "\n",
    "A5 = [A[i] for i in [2, 7, 0, 2]]\n"
   ]
  },
  {
   "cell_type": "code",
   "execution_count": 2,
   "id": "25424807",
   "metadata": {},
   "outputs": [
    {
     "name": "stdout",
     "output_type": "stream",
     "text": [
      "A1 = [3, 4, 5]\n",
      "A2 = [1, 3, 5, 7]\n",
      "A3 = [8, 7, 6]\n",
      "A4 = [10, 7, 4]\n",
      "A5 = [3, 8, 1, 3]\n"
     ]
    }
   ],
   "source": [
    "print(\"A1 =\",A1)\n",
    "print(\"A2 =\",A2)\n",
    "print(\"A3 =\",A3)\n",
    "print(\"A4 =\",A4)\n",
    "print(\"A5 =\",A5)"
   ]
  },
  {
   "cell_type": "markdown",
   "id": "88321fbc",
   "metadata": {
    "ExecuteTime": {
     "end_time": "2023-02-01T19:13:30.528191Z",
     "start_time": "2023-02-01T19:13:30.522046Z"
    }
   },
   "source": [
    "### Question 2\n",
    "\n",
    "For the given NumPy array \n",
    "    \n",
    "    [[1 2 3]\n",
    "     [4 5 6]\n",
    "     [7 8 9]]\n",
    "    \n",
    "write a code that produces each of the desired output arrays as shown here:\n",
    "\n",
    "```\n",
    "B1 = \n",
    " [2 5 8]\n",
    "\n",
    "B2 = \n",
    " [[1]\n",
    "  [4]\n",
    "  [7]]\n",
    "\n",
    "B3 = \n",
    " [1 2 3 7 8 9]\n",
    "\n",
    "B4 = \n",
    " [[1 2]\n",
    "  [4 5]\n",
    "  [7 8]]\n",
    "\n",
    "B5 = \n",
    " [[2 3]\n",
    "  [8 9]]\n",
    "\n",
    "B6 = \n",
    " [[1]\n",
    "  [2]\n",
    "  [3]\n",
    "  [4]\n",
    "  [5]\n",
    "  [6]\n",
    "  [7]\n",
    "  [8]\n",
    "  [9]]\n",
    "  \n",
    "B7 = \n",
    " [[1 1 2 3]\n",
    "  [1 4 5 6]\n",
    "  [1 7 8 9]]\n",
    "\n",
    "B8 = \n",
    " [[1 0 2 3]\n",
    "  [4 0 5 6]\n",
    "  [7 0 8 9]]\n",
    "\n",
    "B9 = \n",
    " [[10 12]\n",
    "  [25 24]\n",
    "  [40 36]]\n",
    "\n",
    "B10 = \n",
    " [[ 1  8 21]\n",
    "  [ 4 20 42]\n",
    "  [ 7 32 63]]\n",
    "```\n",
    "\n",
    "\n",
    "Note: edit the code cell below to implement the code. You can only use indexing, `reshape()`, `flatten()` or `insert()` for `B1` through `B8`.  For `B9` and `B10` use indexing and multiplication `*`.\n",
    "\n",
    "**Please have one line of code per array.**"
   ]
  },
  {
   "cell_type": "code",
   "execution_count": 3,
   "id": "b0fc21e5",
   "metadata": {
    "ExecuteTime": {
     "end_time": "2023-04-14T15:02:53.827637Z",
     "start_time": "2023-04-14T15:02:53.817684Z"
    }
   },
   "outputs": [],
   "source": [
    "import numpy as np\n",
    "\n",
    "B = np.array([[1, 2, 3], [4, 5, 6], [7, 8, 9]])\n",
    "\n",
    "B1 = B[:, 1]\n",
    "\n",
    "B2 = B[:, 0].reshape(-1, 1)\n",
    "\n",
    "B3 = B[[0,2]].flatten()\n",
    "\n",
    "B4 = B[:, 0:2]\n",
    "\n",
    "B5 = B[0::2, 1:]\n",
    "\n",
    "B6 = B.flatten().reshape(-1, 1)\n",
    "\n",
    "B7 = np.insert(B, 0, 1, axis=1)\n",
    "\n",
    "B8 = np.insert(B, 1, 0, axis=1)\n",
    "\n",
    "B9 = np.hstack([(B[:,[1]]*5) , (B[:,[2]]*4)])\n",
    "\n",
    "B10 = np.hstack([(B[:,[0]]*1) , (B[:,[1]]*4) , (B[:,[2]]*7)])"
   ]
  },
  {
   "cell_type": "code",
   "execution_count": 4,
   "id": "61159746",
   "metadata": {},
   "outputs": [
    {
     "name": "stdout",
     "output_type": "stream",
     "text": [
      "B1 = \n",
      " [2 5 8]\n",
      "B2 = \n",
      " [[1]\n",
      " [4]\n",
      " [7]]\n",
      "B3 = \n",
      " [1 2 3 7 8 9]\n",
      "B4 = \n",
      " [[1 2]\n",
      " [4 5]\n",
      " [7 8]]\n",
      "B5 = \n",
      " [[2 3]\n",
      " [8 9]]\n",
      "B6 = \n",
      " [[1]\n",
      " [2]\n",
      " [3]\n",
      " [4]\n",
      " [5]\n",
      " [6]\n",
      " [7]\n",
      " [8]\n",
      " [9]]\n",
      "B7 = \n",
      " [[1 1 2 3]\n",
      " [1 4 5 6]\n",
      " [1 7 8 9]]\n",
      "B8 = \n",
      " [[1 0 2 3]\n",
      " [4 0 5 6]\n",
      " [7 0 8 9]]\n",
      "B9 = \n",
      " [[10 12]\n",
      " [25 24]\n",
      " [40 36]]\n",
      "B10 = \n",
      " [[ 1  8 21]\n",
      " [ 4 20 42]\n",
      " [ 7 32 63]]\n"
     ]
    }
   ],
   "source": [
    "print(\"B1 = \\n\", B1)\n",
    "print(\"B2 = \\n\", B2)\n",
    "print(\"B3 = \\n\", B3)\n",
    "print(\"B4 = \\n\", B4)\n",
    "print(\"B5 = \\n\", B5)\n",
    "print(\"B6 = \\n\", B6)\n",
    "print(\"B7 = \\n\", B7)\n",
    "print(\"B8 = \\n\", B8)\n",
    "print(\"B9 = \\n\", B9)\n",
    "print(\"B10 = \\n\", B10)"
   ]
  },
  {
   "cell_type": "markdown",
   "id": "a16a4876",
   "metadata": {},
   "source": [
    "### Question 3\n",
    "\n",
    "Let's assume we are implementing a classification model that has 3 distinct classes `[2, 5, 15]`. Write code to create indicator variable `Tiv` for this case. \n",
    "\n",
    "Shortly explain the advantage of using indicator variables as output compared to a single value prediction in this case?  "
   ]
  },
  {
   "cell_type": "code",
   "execution_count": 5,
   "id": "c2f695be",
   "metadata": {
    "ExecuteTime": {
     "end_time": "2023-02-01T19:19:07.571594Z",
     "start_time": "2023-02-01T19:19:07.566654Z"
    }
   },
   "outputs": [
    {
     "name": "stdout",
     "output_type": "stream",
     "text": [
      "indicator variable values are: \n",
      " [[1 0 0]\n",
      " [0 1 0]\n",
      " [0 0 1]]\n"
     ]
    }
   ],
   "source": [
    "def make_indicator_vars(T):\n",
    "    return (T.reshape(-1,1) == np.array(classes)).astype(int)\n",
    "\n",
    "classes = np.array([2, 5, 15])\n",
    "Tiv = make_indicator_vars(classes)\n",
    "print('indicator variable values are: \\n', Tiv)"
   ]
  },
  {
   "cell_type": "markdown",
   "id": "933c112f",
   "metadata": {},
   "source": [
    "**Explanation:** The advantage of using indicator variables as output compared to a single value prediction is that it allows the model to predict the probability of an instance belonging to each class. This can be useful in cases where the dividing line between classes is not clear, or when multiple classes are valid for a given input. Indicator variables also give us more info about each input, and allow us to evaluate the performance of the model across all classes."
   ]
  },
  {
   "cell_type": "markdown",
   "id": "756300e9",
   "metadata": {},
   "source": [
    "### Question 4\n",
    "\n",
    "We often pass output of a model through a softmax function. Shortly describe why we do this.\n",
    "\n",
    "Hint: probabilities are always in the range `[0,1]` and take into account that we use indicator variables that are arrays with one `1` value and the rest values are `0`."
   ]
  },
  {
   "cell_type": "markdown",
   "id": "9d4978be",
   "metadata": {
    "ExecuteTime": {
     "end_time": "2023-02-01T19:19:08.642660Z",
     "start_time": "2023-02-01T19:19:08.638580Z"
    }
   },
   "source": [
    "**Answer:** We pass outputs through softmax because we need to convert the output of a model into a probability distribution over the classes.The softmax function make sure that the output probabilities are in the range of 0-1 which makes it easier to interpret and compare the model's predictions."
   ]
  },
  {
   "cell_type": "markdown",
   "id": "4405dca1",
   "metadata": {},
   "source": [
    "### Question 5\n",
    "\n",
    "\n",
    "For a simple weight matrix `W = [W1, W2]` for input `X = [X1, X2]` the output `Y` of a simple model can be written as: \n",
    "    \n",
    "    Y = X1 * W1 + X2 * W2\n",
    "    \n",
    "By adding  a column of `1`s to the input and an additional weights column `W0` to our weight matrix `W`, our simple model becomes: \n",
    "\n",
    "    Y_with_bias = 1 * W0 + X1 * W1 + X2 * W2\n",
    "    \n",
    "where `1` is an array of ones with dimension `(N, 1)` and `N = X.shape[0]` is the number of rows or  data samples in `X`.\n",
    "\n",
    "What is the reasoning behind adding bias to our model? \n",
    "\n",
    "Note: you can also think in terms of plotting `Y` and `Y_with_bias` on a 2-dimensional plot. Think in what ways they differ and if one of them is more powerful function to capture data (and why). "
   ]
  },
  {
   "cell_type": "markdown",
   "id": "47638535",
   "metadata": {},
   "source": [
    "**Answer:** We add bias term to our models because we need to introduce an intercept term, that is independent from the input variables. This is important because it allows the model to fit the data even when the input variables have a value of zero. In other words, adding bias allows our model to shift the output away from the origin, which can be important in certain cases where the origin may not be a good fit for the data. In terms of plotting Y and Y_with_bias on a two dimensional plot, adding bias would shift the function along the y-axis, allowing it to better fit the data. This is important when the relationship between the input and output is not linear. A linear function with no bias would not be able to fit the data that good."
   ]
  },
  {
   "cell_type": "markdown",
   "id": "ade18b0d",
   "metadata": {},
   "source": [
    "### Question 6\n",
    "\n",
    "Let's assume we want to create a machine learning model for a data set that has 10 samples and 5 features in each sample. The data has 3 distinct classes.  \n",
    "\n",
    "In the cell below define `Sympy` matrices for the input data `X` and the weight matrix `W`. Make sure to include bias term. "
   ]
  },
  {
   "cell_type": "code",
   "execution_count": 6,
   "id": "abd92be4",
   "metadata": {
    "ExecuteTime": {
     "end_time": "2023-02-01T19:19:11.906952Z",
     "start_time": "2023-02-01T19:19:11.903208Z"
    }
   },
   "outputs": [],
   "source": [
    "import sympy as sp\n",
    "\n",
    "n_samples = 10\n",
    "\n",
    "n_features = 5\n",
    "\n",
    "n_outputs = 3\n",
    "\n",
    "\n",
    "X = sp.Matrix(sp.MatrixSymbol('X', n_samples, n_features+1))\n",
    "    \n",
    "W = sp.Matrix(sp.MatrixSymbol('W', n_features+1, n_outputs))\n"
   ]
  },
  {
   "cell_type": "code",
   "execution_count": 7,
   "id": "662f149d",
   "metadata": {},
   "outputs": [
    {
     "name": "stdout",
     "output_type": "stream",
     "text": [
      "X = \n",
      "\n"
     ]
    },
    {
     "data": {
      "text/latex": [
       "$\\displaystyle \\left[\\begin{array}{cccccc}X_{0, 0} & X_{0, 1} & X_{0, 2} & X_{0, 3} & X_{0, 4} & X_{0, 5}\\\\X_{1, 0} & X_{1, 1} & X_{1, 2} & X_{1, 3} & X_{1, 4} & X_{1, 5}\\\\X_{2, 0} & X_{2, 1} & X_{2, 2} & X_{2, 3} & X_{2, 4} & X_{2, 5}\\\\X_{3, 0} & X_{3, 1} & X_{3, 2} & X_{3, 3} & X_{3, 4} & X_{3, 5}\\\\X_{4, 0} & X_{4, 1} & X_{4, 2} & X_{4, 3} & X_{4, 4} & X_{4, 5}\\\\X_{5, 0} & X_{5, 1} & X_{5, 2} & X_{5, 3} & X_{5, 4} & X_{5, 5}\\\\X_{6, 0} & X_{6, 1} & X_{6, 2} & X_{6, 3} & X_{6, 4} & X_{6, 5}\\\\X_{7, 0} & X_{7, 1} & X_{7, 2} & X_{7, 3} & X_{7, 4} & X_{7, 5}\\\\X_{8, 0} & X_{8, 1} & X_{8, 2} & X_{8, 3} & X_{8, 4} & X_{8, 5}\\\\X_{9, 0} & X_{9, 1} & X_{9, 2} & X_{9, 3} & X_{9, 4} & X_{9, 5}\\end{array}\\right]$"
      ],
      "text/plain": [
       "Matrix([\n",
       "[X[0, 0], X[0, 1], X[0, 2], X[0, 3], X[0, 4], X[0, 5]],\n",
       "[X[1, 0], X[1, 1], X[1, 2], X[1, 3], X[1, 4], X[1, 5]],\n",
       "[X[2, 0], X[2, 1], X[2, 2], X[2, 3], X[2, 4], X[2, 5]],\n",
       "[X[3, 0], X[3, 1], X[3, 2], X[3, 3], X[3, 4], X[3, 5]],\n",
       "[X[4, 0], X[4, 1], X[4, 2], X[4, 3], X[4, 4], X[4, 5]],\n",
       "[X[5, 0], X[5, 1], X[5, 2], X[5, 3], X[5, 4], X[5, 5]],\n",
       "[X[6, 0], X[6, 1], X[6, 2], X[6, 3], X[6, 4], X[6, 5]],\n",
       "[X[7, 0], X[7, 1], X[7, 2], X[7, 3], X[7, 4], X[7, 5]],\n",
       "[X[8, 0], X[8, 1], X[8, 2], X[8, 3], X[8, 4], X[8, 5]],\n",
       "[X[9, 0], X[9, 1], X[9, 2], X[9, 3], X[9, 4], X[9, 5]]])"
      ]
     },
     "execution_count": 7,
     "metadata": {},
     "output_type": "execute_result"
    }
   ],
   "source": [
    "print('X = \\n')\n",
    "X"
   ]
  },
  {
   "cell_type": "code",
   "execution_count": 8,
   "id": "bd88f14e",
   "metadata": {},
   "outputs": [
    {
     "name": "stdout",
     "output_type": "stream",
     "text": [
      "W = \n",
      "\n"
     ]
    },
    {
     "data": {
      "text/latex": [
       "$\\displaystyle \\left[\\begin{array}{ccc}W_{0, 0} & W_{0, 1} & W_{0, 2}\\\\W_{1, 0} & W_{1, 1} & W_{1, 2}\\\\W_{2, 0} & W_{2, 1} & W_{2, 2}\\\\W_{3, 0} & W_{3, 1} & W_{3, 2}\\\\W_{4, 0} & W_{4, 1} & W_{4, 2}\\\\W_{5, 0} & W_{5, 1} & W_{5, 2}\\end{array}\\right]$"
      ],
      "text/plain": [
       "Matrix([\n",
       "[W[0, 0], W[0, 1], W[0, 2]],\n",
       "[W[1, 0], W[1, 1], W[1, 2]],\n",
       "[W[2, 0], W[2, 1], W[2, 2]],\n",
       "[W[3, 0], W[3, 1], W[3, 2]],\n",
       "[W[4, 0], W[4, 1], W[4, 2]],\n",
       "[W[5, 0], W[5, 1], W[5, 2]]])"
      ]
     },
     "execution_count": 8,
     "metadata": {},
     "output_type": "execute_result"
    }
   ],
   "source": [
    "print('W = \\n')\n",
    "W"
   ]
  },
  {
   "cell_type": "markdown",
   "id": "b111c90b",
   "metadata": {},
   "source": [
    "\n",
    "\n",
    "### Question 7\n",
    "\n",
    "Now use NumPy to create input data array `X` and weights array `W` for the same model from Q6. You can fill the arrays with any values though the weights must be in the range `[-1, 1]`. Don't forget to add the bias term.\n"
   ]
  },
  {
   "cell_type": "code",
   "execution_count": 13,
   "id": "2eb68b79",
   "metadata": {
    "ExecuteTime": {
     "end_time": "2023-02-01T19:19:14.163531Z",
     "start_time": "2023-02-01T19:19:14.159006Z"
    }
   },
   "outputs": [
    {
     "name": "stdout",
     "output_type": "stream",
     "text": [
      "X1 has shape  (10, 6)  and X = \n",
      " [[ 0.85627066 -0.37486509  0.23285454 -0.34581106 -0.61058051]\n",
      " [ 0.59189204 -0.48122012 -0.8048604  -0.38421794 -0.34315802]\n",
      " [-0.98070305  0.77104242  0.79341827  0.03746582  0.64117437]\n",
      " [ 0.42025658  0.72996036  0.86842443  0.91936217  0.91021392]\n",
      " [ 0.57042709 -0.79892271  0.95593713  0.76664332  0.53832994]\n",
      " [ 0.1294535   0.99174911 -0.26647083 -0.36987266  0.47705314]\n",
      " [ 0.29960497 -0.90096357  0.49903851 -0.18590119 -0.87961405]\n",
      " [-0.09543967 -0.74863157 -0.85798018 -0.63198753 -0.89663818]\n",
      " [ 0.20372281 -0.68707125 -0.08003273  0.31397183  0.69324954]\n",
      " [ 0.89370726  0.92587115 -0.18110177  0.08656861 -0.43296889]]\n",
      "W has shape  (6, 3)  and W = \n",
      " [[ 0.53122866 -0.83631484  0.58959134]\n",
      " [-0.53979667 -0.01771125  0.86878857]\n",
      " [ 0.36705271 -0.49752797 -0.24246226]\n",
      " [-0.05685295  0.87735434 -0.2724421 ]\n",
      " [-0.06581252  0.24655139  0.55714113]\n",
      " [-0.36518983 -0.20791234 -0.15452987]]\n"
     ]
    }
   ],
   "source": [
    "n_samples = 10\n",
    "\n",
    "n_features = 5\n",
    "\n",
    "n_outputs = 3\n",
    "\n",
    "\n",
    "W = np.random.uniform(-1,1, size=(n_features+1, n_outputs))\n",
    "\n",
    "X = np.random.uniform(-1,1, size=(n_samples, n_features))\n",
    "\n",
    "X1 = np.hstack((np.ones((n_samples, 1)), X))\n",
    "\n",
    "print('X1 has shape ', X1.shape,' and X = \\n',X)\n",
    "print('W has shape ', W.shape,' and W = \\n',W)"
   ]
  },
  {
   "cell_type": "markdown",
   "id": "d2f08f81",
   "metadata": {},
   "source": [
    "### Question 8\n",
    "\n",
    "Now that we have input and weight matrices, a simple model will calculate the output by multiplying the input after adding the bias term `X1` with the weight matrix `W`\n",
    "\n",
    "Write one line of code that will perform this operation. \n",
    "\n",
    "Does the order of `X1` and `W` in the multiplication matter? Why or why not?\n",
    "\n",
    "What will be the dimensions of the output array `Y`? What will $Y_{5,1}$ refer to?"
   ]
  },
  {
   "cell_type": "code",
   "execution_count": 14,
   "id": "3e489d75",
   "metadata": {},
   "outputs": [
    {
     "name": "stdout",
     "output_type": "stream",
     "text": [
      "Y has dimensions: (10, 3)  and Y = \n",
      " [[ 0.16391939 -0.41899163  1.26264812]\n",
      " [ 0.23145701 -1.33690797  1.27874051]\n",
      " [ 1.06189786 -0.63052238 -0.74374833]\n",
      " [ 0.13003058 -0.40759255  0.91268147]\n",
      " [-0.37132792  0.4668557   1.36238343]\n",
      " [ 0.69065123 -1.75619774  0.25440497]\n",
      " [ 0.3438907   0.18151539  0.96472872]\n",
      " [ 0.72577397 -1.18430724  0.70839041]\n",
      " [-0.10021247 -0.63502787  1.02277538]\n",
      " [ 0.55136667 -1.36031756  1.30602248]]\n"
     ]
    }
   ],
   "source": [
    "Y = X1 @ W\n",
    "\n",
    "print(\"Y has dimensions:\", Y.shape, \" and Y = \\n\", Y)"
   ]
  },
  {
   "cell_type": "markdown",
   "id": "0340c471",
   "metadata": {},
   "source": [
    "**Answer:** \n",
    "\n",
    "The order of `X1` and `W` is following the communitive law of math (MxN * NxQ = MxQ). If you switched the order the shape would be incorrect for Y if you multiplied W @ X1. \n",
    "\n",
    "The output array `Y` will have dimensions of (10, 3)\n",
    "\n",
    "$Y_{5,1}$ refers to to 5th row and first column of Y. It is the output for the 5th sample and first output feature. "
   ]
  },
  {
   "cell_type": "markdown",
   "id": "89aff363",
   "metadata": {},
   "source": [
    "### Question 9\n",
    "\n",
    "Write three nested `for` loops that compute the same result as your answer to Question 8 only using scalar multiplications with `*`.  Compute your answer as `Y2`. The test for equality below must return `True`.\n"
   ]
  },
  {
   "cell_type": "code",
   "execution_count": 15,
   "id": "d13428ba",
   "metadata": {},
   "outputs": [
    {
     "name": "stdout",
     "output_type": "stream",
     "text": [
      "True\n"
     ]
    }
   ],
   "source": [
    "# YOUR CODE IN MULTIPLE LINES\n",
    "\n",
    "Y2 = np.zeros((n_samples, n_outputs))\n",
    "\n",
    "for sample_i in range(n_samples):\n",
    "    for output_i in range(n_outputs):\n",
    "        for features_i in range(n_features+1):\n",
    "            Y2[sample_i, output_i] += X1[sample_i, features_i] * W[features_i, output_i]\n",
    "            \n",
    "print(np.all(np.abs(Y2 - Y) < 1e-8))  # must print True\n"
   ]
  },
  {
   "cell_type": "code",
   "execution_count": null,
   "id": "375511b0",
   "metadata": {},
   "outputs": [],
   "source": []
  }
 ],
 "metadata": {
  "jupytext": {
   "cell_metadata_filter": "-all",
   "notebook_metadata_filter": "-all"
  },
  "kernelspec": {
   "display_name": "Python 3 (ipykernel)",
   "language": "python",
   "name": "python3"
  },
  "language_info": {
   "codemirror_mode": {
    "name": "ipython",
    "version": 3
   },
   "file_extension": ".py",
   "mimetype": "text/x-python",
   "name": "python",
   "nbconvert_exporter": "python",
   "pygments_lexer": "ipython3",
   "version": "3.9.13"
  },
  "toc": {
   "base_numbering": 1,
   "nav_menu": {},
   "number_sections": true,
   "sideBar": true,
   "skip_h1_title": false,
   "title_cell": "Table of Contents",
   "title_sidebar": "Contents",
   "toc_cell": false,
   "toc_position": {
    "height": "calc(100% - 180px)",
    "left": "10px",
    "top": "150px",
    "width": "187.543px"
   },
   "toc_section_display": true,
   "toc_window_display": false
  }
 },
 "nbformat": 4,
 "nbformat_minor": 5
}
