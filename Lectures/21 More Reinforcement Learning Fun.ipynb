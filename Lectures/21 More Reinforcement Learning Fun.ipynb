{
 "cells": [
  {
   "cell_type": "markdown",
   "metadata": {},
   "source": [
    "<div align=\"center\"><font size=6>More Reinforcement Learning Fun</font></div>"
   ]
  },
  {
   "cell_type": "markdown",
   "metadata": {},
   "source": [
    "Here we continue with more RL and maze fun, in preparation for assigment A7.\n",
    "\n",
    "Let's develop some useful functions for learning to solve a maze."
   ]
  },
  {
   "cell_type": "code",
   "execution_count": 2,
   "metadata": {
    "ExecuteTime": {
     "end_time": "2023-04-14T16:00:02.255199Z",
     "start_time": "2023-04-14T16:00:01.622456Z"
    }
   },
   "outputs": [],
   "source": [
    "import numpy as np\n",
    "import matplotlib.pyplot as plt\n",
    "from IPython.display import display, clear_output"
   ]
  },
  {
   "cell_type": "markdown",
   "metadata": {},
   "source": [
    "Our maze with be square with the same number of rows as columns.  With size of 16, we will have 14 rows and columns in our maze, inside the outer walls."
   ]
  },
  {
   "cell_type": "code",
   "execution_count": 3,
   "metadata": {
    "ExecuteTime": {
     "end_time": "2023-04-14T16:00:02.303708Z",
     "start_time": "2023-04-14T16:00:02.300983Z"
    }
   },
   "outputs": [],
   "source": [
    "size = 16"
   ]
  },
  {
   "cell_type": "markdown",
   "metadata": {},
   "source": [
    "Let's build our walls by defining horizontal walls as \n",
    "\n",
    "        (row, (beginning column, ending column)\n",
    "    \n",
    "and vertical walls as \n",
    "\n",
    "        ((beginning row, ending row), column)\n",
    "        \n",
    "Our walls will be a list of such items."
   ]
  },
  {
   "cell_type": "code",
   "execution_count": 4,
   "metadata": {
    "ExecuteTime": {
     "end_time": "2023-04-14T16:00:07.401400Z",
     "start_time": "2023-04-14T16:00:07.395690Z"
    }
   },
   "outputs": [],
   "source": [
    "n = size - 1\n",
    "walls = [[0, (0, n)],  # bottom wall\n",
    "         [n, (0, n)],  # top wall\n",
    "         [(0, n), 0],  # left wall\n",
    "         [(0, n), n],  # right wall\n",
    "\n",
    "         [(3, 9), 9],  # box right wall\n",
    "         [(3, 9), 2],  # box bottom wall\n",
    "         [9, (4, 8)],  # box top wall\n",
    "         [3, (3, 8)],  # box bottom wall\n",
    "         [(4, 12), 12]] # additional vertical wall"
   ]
  },
  {
   "cell_type": "markdown",
   "metadata": {},
   "source": [
    "Now we can place the goal inside the box."
   ]
  },
  {
   "cell_type": "code",
   "execution_count": 5,
   "metadata": {
    "ExecuteTime": {
     "end_time": "2023-04-14T16:00:08.713015Z",
     "start_time": "2023-04-14T16:00:08.709721Z"
    }
   },
   "outputs": [],
   "source": [
    "goal = np.array([6, 6])"
   ]
  },
  {
   "cell_type": "markdown",
   "metadata": {},
   "source": [
    "Our actions will be steps up, down, left, or right.  We can code them as increments or decrements to the row and column values of our position."
   ]
  },
  {
   "cell_type": "code",
   "execution_count": 6,
   "metadata": {
    "ExecuteTime": {
     "end_time": "2023-04-14T16:00:09.689428Z",
     "start_time": "2023-04-14T16:00:09.685840Z"
    }
   },
   "outputs": [],
   "source": [
    "actions = [(1, 0),   # up\n",
    "           (-1, 0),  # down\n",
    "           (0, -1),  # left\n",
    "           (0, 1)]   # right"
   ]
  },
  {
   "cell_type": "markdown",
   "metadata": {},
   "source": [
    "Now we need some functions to do things like\n",
    "* determine if we have hit a wall, ```hit_walls(position)```\n",
    "* apply an action to our position, ```take_action(position, actioni)```\n",
    "* randomly pick a starting position, ```pick_random_position(position, actioni)```\n",
    "* pick an action based on Q values, ```pick_action(Q, position)```"
   ]
  },
  {
   "cell_type": "code",
   "execution_count": 7,
   "metadata": {
    "ExecuteTime": {
     "end_time": "2023-04-14T16:00:11.476991Z",
     "start_time": "2023-04-14T16:00:11.469620Z"
    }
   },
   "outputs": [
    {
     "name": "stdout",
     "output_type": "stream",
     "text": [
      "False\n",
      "Position (1, 1) hit_walls= False\n",
      "Position (5, 5) hit_walls= False\n",
      "Position (0, 0) hit_walls= True\n",
      "Position (9, 5) hit_walls= True\n",
      "Position (8, 5) hit_walls= False\n"
     ]
    }
   ],
   "source": [
    "def hit_walls(position, walls):\n",
    "    r, c = position    # r is position row, c is position column\n",
    "    for wall in walls:\n",
    "        if isinstance(wall[0], int):\n",
    "            # horizontal\n",
    "            row = wall[0]\n",
    "            cols = wall[1]\n",
    "            if r == row and cols[0] <= c <= cols[1]:\n",
    "                return True\n",
    "        else:\n",
    "            # vertical wall\n",
    "            rows = wall[0]\n",
    "            col = wall[1]\n",
    "            if c == col and rows[0] <= r <= rows[1]:\n",
    "                return True\n",
    "    return False\n",
    "\n",
    "print(hit_walls((1, 1), walls))\n",
    "for p in [(1, 1), (5, 5), (0, 0), (9, 5), (8, 5)]:\n",
    "    print('Position', p, 'hit_walls=', hit_walls(p, walls))"
   ]
  },
  {
   "cell_type": "code",
   "execution_count": 8,
   "metadata": {
    "ExecuteTime": {
     "end_time": "2023-04-14T16:00:13.363153Z",
     "start_time": "2023-04-14T16:00:13.356889Z"
    }
   },
   "outputs": [
    {
     "name": "stdout",
     "output_type": "stream",
     "text": [
      "Position (8, 5) action 0 (1, 0) takes us to position [9 5]\n",
      "Position [9 5] action 1 (-1, 0) takes us to position [8 5]\n",
      "Position [8 5] action 2 (0, -1) takes us to position [8 4]\n",
      "Position [8 4] action 3 (0, 1) takes us to position [8 5]\n"
     ]
    }
   ],
   "source": [
    "def take_action(position, actioni):\n",
    "    action = actions[actioni]\n",
    "    next_position = [position[0] + action[0],\n",
    "                     position[1] + action[1]]\n",
    "    return np.clip(next_position, 0, size - 1)\n",
    "\n",
    "[3, 2]\n",
    "for actioni in range(4):\n",
    "    print('Position', p, end='')\n",
    "    print(' action', actioni, actions[actioni], end='')\n",
    "    p = take_action(p, actioni)\n",
    "    print(' takes us to position', p)"
   ]
  },
  {
   "cell_type": "code",
   "execution_count": 9,
   "metadata": {
    "ExecuteTime": {
     "end_time": "2023-04-14T16:00:14.213605Z",
     "start_time": "2023-04-14T16:00:14.205257Z"
    }
   },
   "outputs": [
    {
     "name": "stdout",
     "output_type": "stream",
     "text": [
      "[10  8]\n",
      "[11 11]\n",
      "[2 8]\n",
      "[9 1]\n",
      "[12  5]\n",
      "[4 7]\n",
      "[4 3]\n",
      "[2 1]\n",
      "[7 6]\n",
      "[10 11]\n"
     ]
    }
   ],
   "source": [
    "def pick_random_position(walls):\n",
    "    while True:\n",
    "        position = np.random.randint(1, size - 2, 2)\n",
    "        if not hit_walls(position, walls):\n",
    "            break\n",
    "    return position\n",
    "\n",
    "for i in range(10):\n",
    "    print(pick_random_position(walls))"
   ]
  },
  {
   "cell_type": "markdown",
   "metadata": {},
   "source": [
    "To pick an action, we need our Q function, represented as a table like last time."
   ]
  },
  {
   "cell_type": "code",
   "execution_count": 10,
   "metadata": {
    "ExecuteTime": {
     "end_time": "2023-04-14T16:00:18.084412Z",
     "start_time": "2023-04-14T16:00:18.081410Z"
    }
   },
   "outputs": [],
   "source": [
    "Q = np.zeros((size, size, 4))"
   ]
  },
  {
   "cell_type": "code",
   "execution_count": 11,
   "metadata": {
    "ExecuteTime": {
     "end_time": "2023-04-14T16:00:19.593954Z",
     "start_time": "2023-04-14T16:00:19.585172Z"
    }
   },
   "outputs": [
    {
     "data": {
      "text/plain": [
       "(0, (1, 0))"
      ]
     },
     "execution_count": 11,
     "metadata": {},
     "output_type": "execute_result"
    }
   ],
   "source": [
    "def pick_action(Q, position):\n",
    "    row, col = position\n",
    "    Qs = Q[row, col, :]\n",
    "    return np.argmin(Qs)\n",
    "\n",
    "actioni = pick_action(Q, [1, 1])\n",
    "actioni, actions[actioni]"
   ]
  },
  {
   "cell_type": "markdown",
   "metadata": {},
   "source": [
    "To start our main training loop, we need a starting position and action from that position, and initial, empty, lists to keep traces of positions and reinforcements, to be used to display our progress.\n",
    "\n",
    "Then, we can start our loop, which consists of these steps:\n",
    "\n",
    "1. Apply action to position to get next position.\n",
    "2. If we just hit a wall, set Q value of previous position to a large number, like 500, to avoid ever taking this action again.  Go back to previous position and pick another action.\n",
    "3. If we just found the goal, set Q value of previous position to 1, because it took just one step to reach the goal from that previous position.  Pick a new starting position and action.\n",
    "4. Otherwise, pick action to take for next position, calculate the TD error between Q value at next position and action, and previous position and action, plus r of 1. Update Q value at previous position and action according to the TD error.\n",
    "5. Copy next position to position, and next_action to action variables.\n",
    "6. Repeat!"
   ]
  },
  {
   "cell_type": "code",
   "execution_count": 12,
   "metadata": {
    "ExecuteTime": {
     "end_time": "2023-04-14T16:02:06.829730Z",
     "start_time": "2023-04-14T16:00:21.386230Z"
    }
   },
   "outputs": [
    {
     "data": {
      "image/png": "[encoded data removed]",
      "text/plain": [
       "<Figure size 1000x1200 with 3 Axes>"
      ]
     },
     "metadata": {},
     "output_type": "display_data"
    }
   ],
   "source": [
    "fig = plt.figure(figsize=(10, 12))\n",
    "\n",
    "n_steps = 100_000\n",
    "learning_rate = 0.2\n",
    "\n",
    "Q = np.zeros((size, size, 4))\n",
    "\n",
    "position = pick_random_position(walls)\n",
    "actioni = pick_action(Q, position)\n",
    "\n",
    "n_goals = 0\n",
    "steps_to_goal = []\n",
    "last_path = []\n",
    "starting_step = 0\n",
    "goal_found = False\n",
    "\n",
    "for step in range(n_steps):\n",
    "\n",
    "    if goal_found:\n",
    "        last_path = []\n",
    "        goal_found = False\n",
    "        \n",
    "    next_position = take_action(position, actioni)\n",
    "    last_path.append(next_position)\n",
    "    \n",
    "    if hit_walls(next_position, walls):\n",
    "        row, col = position\n",
    "        Q[row, col, actioni] = 500  # Make Q so high this action never selected again.\n",
    "        last_path.append(position)\n",
    "        actioni = pick_action(Q, position)\n",
    "        \n",
    "    elif np.all(next_position == goal):\n",
    "        # Found goal\n",
    "        goal_found = True\n",
    "        n_goals += 1\n",
    "        r = 1\n",
    "        row, col = position\n",
    "        Q[row, col, actioni] = r  # No future. Just found the goal.\n",
    "        # Start at new random position\n",
    "        position = pick_random_position(walls)\n",
    "        actioni = pick_action(Q, position)\n",
    "        steps_to_goal.append(step - starting_step)\n",
    "        starting_step = step\n",
    "\n",
    "    else:\n",
    "        # Take one step to get next_Q at next position to make TD error\n",
    "        r = 1\n",
    "        next_actioni = pick_action(Q, next_position) \n",
    "        Q_value = Q[position[0], position[1], actioni]\n",
    "        next_Q_value = Q[next_position[0], next_position[1], next_actioni]\n",
    "        TD_error = r + next_Q_value - Q_value\n",
    "        Q[position[0], position[1], actioni] += learning_rate * TD_error\n",
    "\n",
    "        position = next_position.copy()\n",
    "        actioni = next_actioni\n",
    "\n",
    "    if goal_found and (n_goals < 100 or n_goals % 100 == 0):\n",
    "        \n",
    "        fig.clf()\n",
    "        \n",
    "        # Draw Q function as image with walls\n",
    "        image = np.min(Q[:, :, :], axis=-1)\n",
    "        imagemax = np.max(image)\n",
    "        vmax = imagemax if imagemax > 5 else 5\n",
    "        plt.figure(1)\n",
    "        plt.clf()\n",
    "        plt.subplot(2, 1, 1)\n",
    "        plt.imshow(image, origin='lower', cmap='binary',\n",
    "                   interpolation='nearest')\n",
    "        plt.colorbar()\n",
    "        \n",
    "        # Draw walls\n",
    "        for row in range(size):\n",
    "            for col in range(size):\n",
    "                if hit_walls([row, col], walls):\n",
    "                    plt.plot(col, row, 'rs', ms=10)\n",
    "\n",
    "        # Draw last path\n",
    "        last_path_array = np.array(last_path)\n",
    "        plt.plot(last_path_array[:, 1], last_path_array[:, 0], 'o-')\n",
    "\n",
    "        # Draw goal\n",
    "        plt.plot(goal[1], goal[0], 'mD', ms=10)\n",
    "\n",
    "        # Plot steps to goal for each path tried\n",
    "        plt.subplot(2, 1, 2)\n",
    "        plt.plot(steps_to_goal)\n",
    "        plt.xlabel('Goals Found')\n",
    "        plt.ylabel('Steps to Goal')\n",
    "           \n",
    "        clear_output(wait=True)\n",
    "        display(fig);\n",
    "\n",
    "\n",
    "clear_output(wait=True)"
   ]
  },
  {
   "cell_type": "code",
   "execution_count": null,
   "metadata": {},
   "outputs": [],
   "source": []
  }
 ],
 "metadata": {
  "kernelspec": {
   "display_name": "Python 3 (ipykernel)",
   "language": "python",
   "name": "python3"
  },
  "language_info": {
   "codemirror_mode": {
    "name": "ipython",
    "version": 3
   },
   "file_extension": ".py",
   "mimetype": "text/x-python",
   "name": "python",
   "nbconvert_exporter": "python",
   "pygments_lexer": "ipython3",
   "version": "3.9.6"
  },
  "toc": {
   "base_numbering": 1,
   "nav_menu": {},
   "number_sections": true,
   "sideBar": true,
   "skip_h1_title": false,
   "title_cell": "Table of Contents",
   "title_sidebar": "Contents",
   "toc_cell": false,
   "toc_position": {},
   "toc_section_display": true,
   "toc_window_display": false
  }
 },
 "nbformat": 4,
 "nbformat_minor": 1
}
