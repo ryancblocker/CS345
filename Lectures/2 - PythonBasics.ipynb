{
 "cells": [
  {
   "cell_type": "markdown",
   "id": "e6218eb8",
   "metadata": {
    "ExecuteTime": {
     "end_time": "2022-12-29T23:05:31.917635Z",
     "start_time": "2022-12-29T23:05:31.909767Z"
    }
   },
   "source": [
    "<div align=\"center\"><font size=\"6\">Python Basics Refresher</font></div>"
   ]
  },
  {
   "cell_type": "markdown",
   "id": "7bb04547",
   "metadata": {},
   "source": [
    "Review the keyboard shortcuts available in jupyter notebooks in the `Help` menu above."
   ]
  },
  {
   "cell_type": "markdown",
   "id": "60e2c044",
   "metadata": {},
   "source": [
    "# Variables, Value Types, and Operators"
   ]
  },
  {
   "cell_type": "code",
   "execution_count": 3,
   "id": "5168da39",
   "metadata": {
    "ExecuteTime": {
     "end_time": "2022-12-30T17:42:24.217312Z",
     "start_time": "2022-12-30T17:42:24.213598Z"
    }
   },
   "outputs": [
    {
     "data": {
      "text/plain": [
       "int"
      ]
     },
     "execution_count": 3,
     "metadata": {},
     "output_type": "execute_result"
    }
   ],
   "source": [
    "type(5)"
   ]
  },
  {
   "cell_type": "code",
   "execution_count": 4,
   "id": "27456612",
   "metadata": {
    "ExecuteTime": {
     "end_time": "2022-12-30T17:42:32.868254Z",
     "start_time": "2022-12-30T17:42:32.865165Z"
    }
   },
   "outputs": [
    {
     "data": {
      "text/plain": [
       "42"
      ]
     },
     "execution_count": 4,
     "metadata": {},
     "output_type": "execute_result"
    }
   ],
   "source": [
    "x = 42\n",
    "x"
   ]
  },
  {
   "cell_type": "code",
   "execution_count": 5,
   "id": "a003f743",
   "metadata": {
    "ExecuteTime": {
     "end_time": "2022-12-30T17:42:36.667665Z",
     "start_time": "2022-12-30T17:42:36.664639Z"
    }
   },
   "outputs": [
    {
     "data": {
      "text/plain": [
       "int"
      ]
     },
     "execution_count": 5,
     "metadata": {},
     "output_type": "execute_result"
    }
   ],
   "source": [
    "type(x)"
   ]
  },
  {
   "cell_type": "code",
   "execution_count": 6,
   "id": "ead81d22",
   "metadata": {
    "ExecuteTime": {
     "end_time": "2022-12-30T17:42:53.023800Z",
     "start_time": "2022-12-30T17:42:53.020405Z"
    }
   },
   "outputs": [
    {
     "data": {
      "text/plain": [
       "float"
      ]
     },
     "execution_count": 6,
     "metadata": {},
     "output_type": "execute_result"
    }
   ],
   "source": [
    "x = 42.42\n",
    "type(x)"
   ]
  },
  {
   "cell_type": "code",
   "execution_count": 7,
   "id": "e82a4b4e",
   "metadata": {
    "ExecuteTime": {
     "end_time": "2022-12-30T17:43:22.108320Z",
     "start_time": "2022-12-30T17:43:22.104760Z"
    }
   },
   "outputs": [
    {
     "data": {
      "text/plain": [
       "(42, int)"
      ]
     },
     "execution_count": 7,
     "metadata": {},
     "output_type": "execute_result"
    }
   ],
   "source": [
    "x = int(42.42)\n",
    "x, type(x)"
   ]
  },
  {
   "cell_type": "code",
   "execution_count": 8,
   "id": "ce509dfd",
   "metadata": {
    "ExecuteTime": {
     "end_time": "2022-12-30T17:43:30.948953Z",
     "start_time": "2022-12-30T17:43:30.945299Z"
    }
   },
   "outputs": [
    {
     "data": {
      "text/plain": [
       "(42.0, float)"
      ]
     },
     "execution_count": 8,
     "metadata": {},
     "output_type": "execute_result"
    }
   ],
   "source": [
    "y = float(42)\n",
    "y, type(y)"
   ]
  },
  {
   "cell_type": "code",
   "execution_count": 9,
   "id": "47445c0b",
   "metadata": {
    "ExecuteTime": {
     "end_time": "2022-12-30T17:44:09.401029Z",
     "start_time": "2022-12-30T17:44:09.397249Z"
    }
   },
   "outputs": [
    {
     "data": {
      "text/plain": [
       "('Yoo Hoo!', str)"
      ]
     },
     "execution_count": 9,
     "metadata": {},
     "output_type": "execute_result"
    }
   ],
   "source": [
    "x = 'Yoo Hoo!'\n",
    "x, type(x)"
   ]
  },
  {
   "cell_type": "code",
   "execution_count": 10,
   "id": "eaeaacbc",
   "metadata": {
    "ExecuteTime": {
     "end_time": "2022-12-30T17:44:20.419936Z",
     "start_time": "2022-12-30T17:44:20.416362Z"
    }
   },
   "outputs": [
    {
     "data": {
      "text/plain": [
       "('Yoo Hoo!', str)"
      ]
     },
     "execution_count": 10,
     "metadata": {},
     "output_type": "execute_result"
    }
   ],
   "source": [
    "x = \"Yoo Hoo!\"\n",
    "x, type(x)"
   ]
  },
  {
   "cell_type": "code",
   "execution_count": 11,
   "id": "00bfabea",
   "metadata": {
    "ExecuteTime": {
     "end_time": "2022-12-30T17:44:30.814386Z",
     "start_time": "2022-12-30T17:44:30.810890Z"
    }
   },
   "outputs": [
    {
     "data": {
      "text/plain": [
       "(True, bool)"
      ]
     },
     "execution_count": 11,
     "metadata": {},
     "output_type": "execute_result"
    }
   ],
   "source": [
    "x = True\n",
    "x, type(x)"
   ]
  },
  {
   "cell_type": "code",
   "execution_count": 12,
   "id": "4607ce39",
   "metadata": {
    "ExecuteTime": {
     "end_time": "2022-12-30T17:46:09.258798Z",
     "start_time": "2022-12-30T17:46:09.254702Z"
    }
   },
   "outputs": [
    {
     "data": {
      "text/plain": [
       "(1.8, 1)"
      ]
     },
     "execution_count": 12,
     "metadata": {},
     "output_type": "execute_result"
    }
   ],
   "source": [
    "9 / 5,  9 // 5"
   ]
  },
  {
   "cell_type": "code",
   "execution_count": 13,
   "id": "78d392d5",
   "metadata": {
    "ExecuteTime": {
     "end_time": "2022-12-30T17:46:52.629059Z",
     "start_time": "2022-12-30T17:46:52.625453Z"
    }
   },
   "outputs": [
    {
     "data": {
      "text/plain": [
       "(8, 9.18958683997628, 18.767569280959865)"
      ]
     },
     "execution_count": 13,
     "metadata": {},
     "output_type": "execute_result"
    }
   ],
   "source": [
    "2 ** 3, 2 ** 3.2, 2.5 ** 3.2"
   ]
  },
  {
   "cell_type": "code",
   "execution_count": 14,
   "id": "7922d867",
   "metadata": {
    "ExecuteTime": {
     "end_time": "2022-12-30T17:47:02.269388Z",
     "start_time": "2022-12-30T17:47:02.265822Z"
    }
   },
   "outputs": [
    {
     "data": {
      "text/plain": [
       "True"
      ]
     },
     "execution_count": 14,
     "metadata": {},
     "output_type": "execute_result"
    }
   ],
   "source": [
    "'Hi' == \"Hi\""
   ]
  },
  {
   "cell_type": "markdown",
   "id": "1577b6e1",
   "metadata": {
    "ExecuteTime": {
     "end_time": "2022-12-30T17:47:55.115587Z",
     "start_time": "2022-12-30T17:47:55.112149Z"
    }
   },
   "source": [
    "The order of cell execution matters."
   ]
  },
  {
   "cell_type": "code",
   "execution_count": 15,
   "id": "894e50b7",
   "metadata": {
    "ExecuteTime": {
     "end_time": "2022-12-30T17:48:35.632322Z",
     "start_time": "2022-12-30T17:48:35.629095Z"
    }
   },
   "outputs": [
    {
     "data": {
      "text/plain": [
       "42"
      ]
     },
     "execution_count": 15,
     "metadata": {},
     "output_type": "execute_result"
    }
   ],
   "source": [
    "x = 42\n",
    "x"
   ]
  },
  {
   "cell_type": "code",
   "execution_count": 16,
   "id": "a1553a8f",
   "metadata": {
    "ExecuteTime": {
     "end_time": "2022-12-30T17:48:28.604809Z",
     "start_time": "2022-12-30T17:48:28.601763Z"
    }
   },
   "outputs": [
    {
     "data": {
      "text/plain": [
       "84"
      ]
     },
     "execution_count": 16,
     "metadata": {},
     "output_type": "execute_result"
    }
   ],
   "source": [
    "x *= 2\n",
    "x"
   ]
  },
  {
   "cell_type": "markdown",
   "id": "fef8b38c",
   "metadata": {},
   "source": [
    "Now go back and execute the `x = 42` cell before executing this cell again."
   ]
  },
  {
   "cell_type": "code",
   "execution_count": 17,
   "id": "ba7ea63f",
   "metadata": {
    "ExecuteTime": {
     "end_time": "2022-12-30T17:48:37.945119Z",
     "start_time": "2022-12-30T17:48:37.942225Z"
    }
   },
   "outputs": [
    {
     "data": {
      "text/plain": [
       "84"
      ]
     },
     "execution_count": 17,
     "metadata": {},
     "output_type": "execute_result"
    }
   ],
   "source": [
    "x"
   ]
  },
  {
   "cell_type": "markdown",
   "id": "68df13ec",
   "metadata": {},
   "source": [
    "So, when working on an assignment solution, remember to `Restart & Run All` in the `Kernel` menu."
   ]
  },
  {
   "cell_type": "code",
   "execution_count": 18,
   "id": "30b4d482",
   "metadata": {
    "ExecuteTime": {
     "end_time": "2022-12-30T18:15:02.519760Z",
     "start_time": "2022-12-30T18:15:02.516196Z"
    }
   },
   "outputs": [
    {
     "data": {
      "text/plain": [
       "True"
      ]
     },
     "execution_count": 18,
     "metadata": {},
     "output_type": "execute_result"
    }
   ],
   "source": [
    "3 < 4.2"
   ]
  },
  {
   "cell_type": "code",
   "execution_count": 19,
   "id": "e6dd9cc7",
   "metadata": {
    "ExecuteTime": {
     "end_time": "2022-12-30T18:15:10.894990Z",
     "start_time": "2022-12-30T18:15:10.891364Z"
    }
   },
   "outputs": [
    {
     "data": {
      "text/plain": [
       "True"
      ]
     },
     "execution_count": 19,
     "metadata": {},
     "output_type": "execute_result"
    }
   ],
   "source": [
    "1 < 3 and 3 < 4.2"
   ]
  },
  {
   "cell_type": "code",
   "execution_count": 20,
   "id": "9ea1c4e7",
   "metadata": {
    "ExecuteTime": {
     "end_time": "2022-12-30T18:15:15.516230Z",
     "start_time": "2022-12-30T18:15:15.512902Z"
    }
   },
   "outputs": [
    {
     "data": {
      "text/plain": [
       "True"
      ]
     },
     "execution_count": 20,
     "metadata": {},
     "output_type": "execute_result"
    }
   ],
   "source": [
    "1 < 3 < 4.2"
   ]
  },
  {
   "cell_type": "code",
   "execution_count": 21,
   "id": "f224be03",
   "metadata": {
    "ExecuteTime": {
     "end_time": "2022-12-30T18:15:33.073406Z",
     "start_time": "2022-12-30T18:15:33.069767Z"
    }
   },
   "outputs": [
    {
     "data": {
      "text/plain": [
       "False"
      ]
     },
     "execution_count": 21,
     "metadata": {},
     "output_type": "execute_result"
    }
   ],
   "source": [
    "8 < 3 < 4.2"
   ]
  },
  {
   "cell_type": "markdown",
   "id": "f29e0979",
   "metadata": {
    "ExecuteTime": {
     "end_time": "2022-12-30T17:53:55.442334Z",
     "start_time": "2022-12-30T17:53:55.439984Z"
    }
   },
   "source": [
    "# Formatted Output"
   ]
  },
  {
   "cell_type": "code",
   "execution_count": 22,
   "id": "4fefeee0",
   "metadata": {
    "ExecuteTime": {
     "end_time": "2022-12-30T17:55:54.553282Z",
     "start_time": "2022-12-30T17:55:54.549825Z"
    }
   },
   "outputs": [
    {
     "data": {
      "text/plain": [
       "'In the year 2023 the answer is 42'"
      ]
     },
     "execution_count": 22,
     "metadata": {},
     "output_type": "execute_result"
    }
   ],
   "source": [
    "the_answer = 42\n",
    "year = 2023\n",
    "f'In the year {year} the answer is {the_answer}'"
   ]
  },
  {
   "cell_type": "markdown",
   "id": "6f7b133a",
   "metadata": {},
   "source": [
    "Python versions earliear than 3.6 do not include f-strings.  In earlier versions, you can use the `format` function."
   ]
  },
  {
   "cell_type": "code",
   "execution_count": 23,
   "id": "77cca4c3",
   "metadata": {
    "ExecuteTime": {
     "end_time": "2022-12-30T17:56:27.403941Z",
     "start_time": "2022-12-30T17:56:27.400253Z"
    }
   },
   "outputs": [
    {
     "data": {
      "text/plain": [
       "'In the year 2023 the answer is 42'"
      ]
     },
     "execution_count": 23,
     "metadata": {},
     "output_type": "execute_result"
    }
   ],
   "source": [
    "the_answer = 42\n",
    "year = 2023\n",
    "'In the year {} the answer is {}'.format(year, the_answer)"
   ]
  },
  {
   "cell_type": "code",
   "execution_count": 24,
   "id": "39806544",
   "metadata": {
    "ExecuteTime": {
     "end_time": "2022-12-30T17:56:42.890807Z",
     "start_time": "2022-12-30T17:56:42.887805Z"
    }
   },
   "outputs": [
    {
     "name": "stdout",
     "output_type": "stream",
     "text": [
      "In the year 2023 the answer is 42\n"
     ]
    }
   ],
   "source": [
    "the_answer = 42\n",
    "year = 2023\n",
    "print(f'In the year {year} the answer is {the_answer}')"
   ]
  },
  {
   "cell_type": "code",
   "execution_count": 25,
   "id": "4b5d0bd6",
   "metadata": {
    "ExecuteTime": {
     "end_time": "2022-12-30T17:57:09.164483Z",
     "start_time": "2022-12-30T17:57:09.161408Z"
    }
   },
   "outputs": [
    {
     "name": "stdout",
     "output_type": "stream",
     "text": [
      "In the year 2023 the answer is 42.17\n"
     ]
    }
   ],
   "source": [
    "the_answer = 42.17\n",
    "year = 2023\n",
    "print(f'In the year {year} the answer is {the_answer}')"
   ]
  },
  {
   "cell_type": "code",
   "execution_count": 26,
   "id": "882d1c1d",
   "metadata": {
    "ExecuteTime": {
     "end_time": "2022-12-30T17:57:18.662305Z",
     "start_time": "2022-12-30T17:57:18.659588Z"
    }
   },
   "outputs": [
    {
     "name": "stdout",
     "output_type": "stream",
     "text": [
      "In the year 2023 the answer is 42.2\n"
     ]
    }
   ],
   "source": [
    "the_answer = 42.17\n",
    "year = 2023\n",
    "print(f'In the year {year} the answer is {the_answer:.1f}')"
   ]
  },
  {
   "cell_type": "markdown",
   "id": "e3fdd650",
   "metadata": {},
   "source": [
    "# Lists"
   ]
  },
  {
   "cell_type": "code",
   "execution_count": 27,
   "id": "2f579477",
   "metadata": {
    "ExecuteTime": {
     "end_time": "2022-12-30T17:59:47.397202Z",
     "start_time": "2022-12-30T17:59:47.393338Z"
    }
   },
   "outputs": [
    {
     "data": {
      "text/plain": [
       "['hi', 'there', 'you', 'fantastic', 'student']"
      ]
     },
     "execution_count": 27,
     "metadata": {},
     "output_type": "execute_result"
    }
   ],
   "source": [
    "words = ['hi', 'there', 'you', 'fantastic', 'student']\n",
    "words"
   ]
  },
  {
   "cell_type": "code",
   "execution_count": 28,
   "id": "54361373",
   "metadata": {
    "ExecuteTime": {
     "end_time": "2022-12-30T18:02:25.969708Z",
     "start_time": "2022-12-30T18:02:25.965965Z"
    }
   },
   "outputs": [
    {
     "data": {
      "text/plain": [
       "[95.2, 98, 100, 95, 81]"
      ]
     },
     "execution_count": 28,
     "metadata": {},
     "output_type": "execute_result"
    }
   ],
   "source": [
    "grades = [95.2, 98, 100, 95, 81]\n",
    "grades"
   ]
  },
  {
   "cell_type": "code",
   "execution_count": 29,
   "id": "2975c080",
   "metadata": {
    "ExecuteTime": {
     "end_time": "2022-12-30T18:02:26.596840Z",
     "start_time": "2022-12-30T18:02:26.593576Z"
    }
   },
   "outputs": [
    {
     "data": {
      "text/plain": [
       "[95.2, 98, 100, 95, 81, 'Splendid']"
      ]
     },
     "execution_count": 29,
     "metadata": {},
     "output_type": "execute_result"
    }
   ],
   "source": [
    "grades.append('Splendid')\n",
    "grades"
   ]
  },
  {
   "cell_type": "code",
   "execution_count": 31,
   "id": "74b3f865",
   "metadata": {
    "ExecuteTime": {
     "end_time": "2022-12-30T18:02:38.040219Z",
     "start_time": "2022-12-30T18:02:37.726288Z"
    }
   },
   "outputs": [
    {
     "ename": "NameError",
     "evalue": "name 'append' is not defined",
     "output_type": "error",
     "traceback": [
      "\u001b[0;31m---------------------------------------------------------------------------\u001b[0m",
      "\u001b[0;31mNameError\u001b[0m                                 Traceback (most recent call last)",
      "\u001b[0;32m/var/folders/5s/_68k3zsd12q1r1v36_nt1jsm0000gn/T/ipykernel_31758/2730351675.py\u001b[0m in \u001b[0;36m<module>\u001b[0;34m\u001b[0m\n\u001b[0;32m----> 1\u001b[0;31m \u001b[0mhelp\u001b[0m\u001b[0;34m(\u001b[0m\u001b[0mappend\u001b[0m\u001b[0;34m)\u001b[0m\u001b[0;34m\u001b[0m\u001b[0;34m\u001b[0m\u001b[0m\n\u001b[0m",
      "\u001b[0;31mNameError\u001b[0m: name 'append' is not defined"
     ]
    }
   ],
   "source": [
    "help(append)"
   ]
  },
  {
   "cell_type": "code",
   "execution_count": 32,
   "id": "02126cd6",
   "metadata": {
    "ExecuteTime": {
     "end_time": "2022-12-30T18:01:24.012643Z",
     "start_time": "2022-12-30T18:01:24.009295Z"
    }
   },
   "outputs": [
    {
     "name": "stdout",
     "output_type": "stream",
     "text": [
      "Help on built-in function append:\n",
      "\n",
      "append(object, /) method of builtins.list instance\n",
      "    Append object to the end of the list.\n",
      "\n"
     ]
    }
   ],
   "source": [
    "help(grades.append)"
   ]
  },
  {
   "cell_type": "code",
   "execution_count": 33,
   "id": "86313d3d",
   "metadata": {
    "ExecuteTime": {
     "end_time": "2022-12-30T18:01:34.991040Z",
     "start_time": "2022-12-30T18:01:34.987945Z"
    }
   },
   "outputs": [
    {
     "name": "stdout",
     "output_type": "stream",
     "text": [
      "Help on method_descriptor:\n",
      "\n",
      "append(self, object, /)\n",
      "    Append object to the end of the list.\n",
      "\n"
     ]
    }
   ],
   "source": [
    "help(list.append)"
   ]
  },
  {
   "cell_type": "code",
   "execution_count": 34,
   "id": "9a8e30cf",
   "metadata": {
    "ExecuteTime": {
     "end_time": "2022-12-30T18:02:58.055827Z",
     "start_time": "2022-12-30T18:02:58.052266Z"
    }
   },
   "outputs": [
    {
     "data": {
      "text/plain": [
       "[95.2, 98, 100, 95, 81, 'Splendid']"
      ]
     },
     "execution_count": 34,
     "metadata": {},
     "output_type": "execute_result"
    }
   ],
   "source": [
    "grades"
   ]
  },
  {
   "cell_type": "code",
   "execution_count": 35,
   "id": "53c04e7e",
   "metadata": {
    "ExecuteTime": {
     "end_time": "2022-12-30T18:02:51.590247Z",
     "start_time": "2022-12-30T18:02:51.586824Z"
    }
   },
   "outputs": [
    {
     "data": {
      "text/plain": [
       "95.2"
      ]
     },
     "execution_count": 35,
     "metadata": {},
     "output_type": "execute_result"
    }
   ],
   "source": [
    "grades[0]"
   ]
  },
  {
   "cell_type": "code",
   "execution_count": 36,
   "id": "8660a5fa",
   "metadata": {
    "ExecuteTime": {
     "end_time": "2022-12-30T18:03:13.297988Z",
     "start_time": "2022-12-30T18:03:13.294017Z"
    }
   },
   "outputs": [
    {
     "data": {
      "text/plain": [
       "100"
      ]
     },
     "execution_count": 36,
     "metadata": {},
     "output_type": "execute_result"
    }
   ],
   "source": [
    "grades[2]"
   ]
  },
  {
   "cell_type": "code",
   "execution_count": 37,
   "id": "9340c359",
   "metadata": {
    "ExecuteTime": {
     "end_time": "2022-12-30T18:03:26.282390Z",
     "start_time": "2022-12-30T18:03:26.279190Z"
    }
   },
   "outputs": [
    {
     "data": {
      "text/plain": [
       "[95.2, 98]"
      ]
     },
     "execution_count": 37,
     "metadata": {},
     "output_type": "execute_result"
    }
   ],
   "source": [
    "grades[0:2]"
   ]
  },
  {
   "cell_type": "code",
   "execution_count": 38,
   "id": "13418f0f",
   "metadata": {
    "ExecuteTime": {
     "end_time": "2022-12-30T18:03:53.640910Z",
     "start_time": "2022-12-30T18:03:53.637579Z"
    }
   },
   "outputs": [
    {
     "data": {
      "text/plain": [
       "6"
      ]
     },
     "execution_count": 38,
     "metadata": {},
     "output_type": "execute_result"
    }
   ],
   "source": [
    "len(grades)"
   ]
  },
  {
   "cell_type": "code",
   "execution_count": 39,
   "id": "8dadb05c",
   "metadata": {
    "ExecuteTime": {
     "end_time": "2022-12-30T18:04:02.642324Z",
     "start_time": "2022-12-30T18:04:02.636579Z"
    }
   },
   "outputs": [
    {
     "ename": "IndexError",
     "evalue": "list index out of range",
     "output_type": "error",
     "traceback": [
      "\u001b[0;31m---------------------------------------------------------------------------\u001b[0m",
      "\u001b[0;31mIndexError\u001b[0m                                Traceback (most recent call last)",
      "\u001b[0;32m/var/folders/5s/_68k3zsd12q1r1v36_nt1jsm0000gn/T/ipykernel_31758/1381369480.py\u001b[0m in \u001b[0;36m<module>\u001b[0;34m\u001b[0m\n\u001b[0;32m----> 1\u001b[0;31m \u001b[0mgrades\u001b[0m\u001b[0;34m[\u001b[0m\u001b[0;36m6\u001b[0m\u001b[0;34m]\u001b[0m\u001b[0;34m\u001b[0m\u001b[0;34m\u001b[0m\u001b[0m\n\u001b[0m",
      "\u001b[0;31mIndexError\u001b[0m: list index out of range"
     ]
    }
   ],
   "source": [
    "grades[6]"
   ]
  },
  {
   "cell_type": "code",
   "execution_count": 40,
   "id": "b0e95119",
   "metadata": {
    "ExecuteTime": {
     "end_time": "2022-12-30T18:04:11.156530Z",
     "start_time": "2022-12-30T18:04:11.151000Z"
    }
   },
   "outputs": [
    {
     "ename": "IndexError",
     "evalue": "list index out of range",
     "output_type": "error",
     "traceback": [
      "\u001b[0;31m---------------------------------------------------------------------------\u001b[0m",
      "\u001b[0;31mIndexError\u001b[0m                                Traceback (most recent call last)",
      "\u001b[0;32m/var/folders/5s/_68k3zsd12q1r1v36_nt1jsm0000gn/T/ipykernel_31758/2698324707.py\u001b[0m in \u001b[0;36m<module>\u001b[0;34m\u001b[0m\n\u001b[0;32m----> 1\u001b[0;31m \u001b[0mgrades\u001b[0m\u001b[0;34m[\u001b[0m\u001b[0mlen\u001b[0m\u001b[0;34m(\u001b[0m\u001b[0mgrades\u001b[0m\u001b[0;34m)\u001b[0m\u001b[0;34m]\u001b[0m\u001b[0;34m\u001b[0m\u001b[0;34m\u001b[0m\u001b[0m\n\u001b[0m",
      "\u001b[0;31mIndexError\u001b[0m: list index out of range"
     ]
    }
   ],
   "source": [
    "grades[len(grades)]"
   ]
  },
  {
   "cell_type": "code",
   "execution_count": 41,
   "id": "1bfdf993",
   "metadata": {
    "ExecuteTime": {
     "end_time": "2022-12-30T18:04:16.264027Z",
     "start_time": "2022-12-30T18:04:16.260695Z"
    }
   },
   "outputs": [
    {
     "data": {
      "text/plain": [
       "'Splendid'"
      ]
     },
     "execution_count": 41,
     "metadata": {},
     "output_type": "execute_result"
    }
   ],
   "source": [
    "grades[5]"
   ]
  },
  {
   "cell_type": "code",
   "execution_count": 42,
   "id": "569959a8",
   "metadata": {
    "ExecuteTime": {
     "end_time": "2022-12-30T18:04:20.738224Z",
     "start_time": "2022-12-30T18:04:20.734847Z"
    }
   },
   "outputs": [
    {
     "data": {
      "text/plain": [
       "'Splendid'"
      ]
     },
     "execution_count": 42,
     "metadata": {},
     "output_type": "execute_result"
    }
   ],
   "source": [
    "grades[-1]"
   ]
  },
  {
   "cell_type": "code",
   "execution_count": null,
   "id": "977e92b6",
   "metadata": {
    "ExecuteTime": {
     "end_time": "2022-12-30T18:04:34.050940Z",
     "start_time": "2022-12-30T18:04:34.047192Z"
    }
   },
   "outputs": [],
   "source": [
    "print(grades)\n",
    "grades[-2]"
   ]
  },
  {
   "cell_type": "code",
   "execution_count": 43,
   "id": "3cab93c1",
   "metadata": {
    "ExecuteTime": {
     "end_time": "2022-12-30T18:04:45.386068Z",
     "start_time": "2022-12-30T18:04:45.382505Z"
    }
   },
   "outputs": [
    {
     "data": {
      "text/plain": [
       "[95.2, 98, 100, 95]"
      ]
     },
     "execution_count": 43,
     "metadata": {},
     "output_type": "execute_result"
    }
   ],
   "source": [
    "grades[:4]"
   ]
  },
  {
   "cell_type": "code",
   "execution_count": null,
   "id": "bdaf0f12",
   "metadata": {
    "ExecuteTime": {
     "end_time": "2022-12-30T18:04:51.314398Z",
     "start_time": "2022-12-30T18:04:51.311260Z"
    }
   },
   "outputs": [],
   "source": [
    "grades[-3:]"
   ]
  },
  {
   "cell_type": "code",
   "execution_count": 44,
   "id": "38c76979",
   "metadata": {
    "ExecuteTime": {
     "end_time": "2022-12-30T18:12:01.055596Z",
     "start_time": "2022-12-30T18:12:01.051405Z"
    }
   },
   "outputs": [
    {
     "name": "stdout",
     "output_type": "stream",
     "text": [
      "[95.2, 98, 100, 95, 81, 'Splendid']\n"
     ]
    },
    {
     "data": {
      "text/plain": [
       "[95.2, 100, 81]"
      ]
     },
     "execution_count": 44,
     "metadata": {},
     "output_type": "execute_result"
    }
   ],
   "source": [
    "print(grades)\n",
    "grades[0:6:2]"
   ]
  },
  {
   "cell_type": "code",
   "execution_count": 57,
   "id": "d74293ed",
   "metadata": {
    "ExecuteTime": {
     "end_time": "2022-12-30T18:12:21.447992Z",
     "start_time": "2022-12-30T18:12:21.444388Z"
    }
   },
   "outputs": [
    {
     "data": {
      "text/plain": [
       "[95.2, 100, 81]"
      ]
     },
     "execution_count": 57,
     "metadata": {},
     "output_type": "execute_result"
    }
   ],
   "source": [
    "grades[::2]"
   ]
  },
  {
   "cell_type": "code",
   "execution_count": 45,
   "id": "c8702a84",
   "metadata": {
    "ExecuteTime": {
     "end_time": "2022-12-30T18:05:08.023375Z",
     "start_time": "2022-12-30T18:05:08.020369Z"
    }
   },
   "outputs": [
    {
     "name": "stdout",
     "output_type": "stream",
     "text": [
      "95.2\n",
      "98\n",
      "100\n",
      "95\n",
      "81\n",
      "Splendid\n"
     ]
    }
   ],
   "source": [
    "for g in grades:\n",
    "    print(g)"
   ]
  },
  {
   "cell_type": "code",
   "execution_count": 46,
   "id": "ded96c78",
   "metadata": {
    "ExecuteTime": {
     "end_time": "2022-12-30T18:05:49.360021Z",
     "start_time": "2022-12-30T18:05:49.357037Z"
    }
   },
   "outputs": [
    {
     "name": "stdout",
     "output_type": "stream",
     "text": [
      "0 95.2\n",
      "1 98\n",
      "2 100\n",
      "3 95\n",
      "4 81\n",
      "5 Splendid\n"
     ]
    }
   ],
   "source": [
    "for i in range(len(grades)):\n",
    "    print(i, grades[i])"
   ]
  },
  {
   "cell_type": "code",
   "execution_count": 47,
   "id": "aa108cd5",
   "metadata": {
    "ExecuteTime": {
     "end_time": "2022-12-30T18:06:25.727213Z",
     "start_time": "2022-12-30T18:06:25.724245Z"
    }
   },
   "outputs": [
    {
     "name": "stdout",
     "output_type": "stream",
     "text": [
      "2 100\n",
      "4 81\n"
     ]
    }
   ],
   "source": [
    "for i in range(2, 6, 2):\n",
    "    print(i, grades[i])"
   ]
  },
  {
   "cell_type": "code",
   "execution_count": 52,
   "id": "ff5a9632",
   "metadata": {
    "ExecuteTime": {
     "end_time": "2022-12-30T18:06:59.816305Z",
     "start_time": "2022-12-30T18:06:59.812831Z"
    }
   },
   "outputs": [
    {
     "data": {
      "text/plain": [
       "['hi', 'there', 'you', 'fantastic', 'student']"
      ]
     },
     "execution_count": 52,
     "metadata": {},
     "output_type": "execute_result"
    }
   ],
   "source": [
    "words"
   ]
  },
  {
   "cell_type": "code",
   "execution_count": 53,
   "id": "0cc970c1",
   "metadata": {
    "ExecuteTime": {
     "end_time": "2022-12-30T18:07:11.744446Z",
     "start_time": "2022-12-30T18:07:11.740532Z"
    }
   },
   "outputs": [
    {
     "data": {
      "text/plain": [
       "['hi', 'there', 'you', 'fantastic', 'student']"
      ]
     },
     "execution_count": 53,
     "metadata": {},
     "output_type": "execute_result"
    }
   ],
   "source": [
    "[w for w in words]"
   ]
  },
  {
   "cell_type": "code",
   "execution_count": 54,
   "id": "add4cbae",
   "metadata": {
    "ExecuteTime": {
     "end_time": "2022-12-30T18:07:46.888535Z",
     "start_time": "2022-12-30T18:07:46.885052Z"
    }
   },
   "outputs": [
    {
     "data": {
      "text/plain": [
       "'WOW'"
      ]
     },
     "execution_count": 54,
     "metadata": {},
     "output_type": "execute_result"
    }
   ],
   "source": [
    "'wow'.upper()"
   ]
  },
  {
   "cell_type": "code",
   "execution_count": 55,
   "id": "83b83f4f",
   "metadata": {
    "ExecuteTime": {
     "end_time": "2022-12-30T18:07:53.166142Z",
     "start_time": "2022-12-30T18:07:53.162816Z"
    }
   },
   "outputs": [
    {
     "data": {
      "text/plain": [
       "['HI', 'THERE', 'YOU', 'FANTASTIC', 'STUDENT']"
      ]
     },
     "execution_count": 55,
     "metadata": {},
     "output_type": "execute_result"
    }
   ],
   "source": [
    "[w.upper() for w in words]"
   ]
  },
  {
   "cell_type": "code",
   "execution_count": 56,
   "id": "9468ac73",
   "metadata": {
    "ExecuteTime": {
     "end_time": "2022-12-30T18:08:34.933523Z",
     "start_time": "2022-12-30T18:08:34.924017Z"
    }
   },
   "outputs": [
    {
     "ename": "TypeError",
     "evalue": "can only concatenate str (not \"int\") to str",
     "output_type": "error",
     "traceback": [
      "\u001b[0;31m---------------------------------------------------------------------------\u001b[0m",
      "\u001b[0;31mTypeError\u001b[0m                                 Traceback (most recent call last)",
      "\u001b[0;32m/var/folders/5s/_68k3zsd12q1r1v36_nt1jsm0000gn/T/ipykernel_31758/3383466539.py\u001b[0m in \u001b[0;36m<module>\u001b[0;34m\u001b[0m\n\u001b[0;32m----> 1\u001b[0;31m \u001b[0mbetter_grades\u001b[0m \u001b[0;34m=\u001b[0m \u001b[0;34m[\u001b[0m\u001b[0mg\u001b[0m \u001b[0;34m+\u001b[0m \u001b[0;36m10\u001b[0m \u001b[0;32mfor\u001b[0m \u001b[0mg\u001b[0m \u001b[0;32min\u001b[0m \u001b[0mgrades\u001b[0m\u001b[0;34m]\u001b[0m\u001b[0;34m\u001b[0m\u001b[0;34m\u001b[0m\u001b[0m\n\u001b[0m",
      "\u001b[0;32m/var/folders/5s/_68k3zsd12q1r1v36_nt1jsm0000gn/T/ipykernel_31758/3383466539.py\u001b[0m in \u001b[0;36m<listcomp>\u001b[0;34m(.0)\u001b[0m\n\u001b[0;32m----> 1\u001b[0;31m \u001b[0mbetter_grades\u001b[0m \u001b[0;34m=\u001b[0m \u001b[0;34m[\u001b[0m\u001b[0mg\u001b[0m \u001b[0;34m+\u001b[0m \u001b[0;36m10\u001b[0m \u001b[0;32mfor\u001b[0m \u001b[0mg\u001b[0m \u001b[0;32min\u001b[0m \u001b[0mgrades\u001b[0m\u001b[0;34m]\u001b[0m\u001b[0;34m\u001b[0m\u001b[0;34m\u001b[0m\u001b[0m\n\u001b[0m",
      "\u001b[0;31mTypeError\u001b[0m: can only concatenate str (not \"int\") to str"
     ]
    }
   ],
   "source": [
    "better_grades = [g + 10 for g in grades]"
   ]
  },
  {
   "cell_type": "code",
   "execution_count": 58,
   "id": "3851811b",
   "metadata": {
    "ExecuteTime": {
     "end_time": "2022-12-30T18:09:18.390479Z",
     "start_time": "2022-12-30T18:09:18.386768Z"
    }
   },
   "outputs": [
    {
     "data": {
      "text/plain": [
       "[105.2, 108, 110, 105, 91]"
      ]
     },
     "execution_count": 58,
     "metadata": {},
     "output_type": "execute_result"
    }
   ],
   "source": [
    "better_grades = [g + 10 for g in grades if type(g) != str]\n",
    "better_grades"
   ]
  },
  {
   "cell_type": "code",
   "execution_count": 59,
   "id": "d911920c",
   "metadata": {
    "ExecuteTime": {
     "end_time": "2022-12-30T18:10:13.823530Z",
     "start_time": "2022-12-30T18:10:13.819396Z"
    }
   },
   "outputs": [
    {
     "data": {
      "text/plain": [
       "[100, 100, 100, 100, 91]"
      ]
     },
     "execution_count": 59,
     "metadata": {},
     "output_type": "execute_result"
    }
   ],
   "source": [
    "grades = [95.2, 98, 100, 95, 81]\n",
    "\n",
    "better_grades = [min(100, g + 10) for g in grades if type(g) != str]\n",
    "better_grades"
   ]
  },
  {
   "cell_type": "code",
   "execution_count": 60,
   "id": "1d15e994",
   "metadata": {
    "ExecuteTime": {
     "end_time": "2022-12-30T18:11:02.122828Z",
     "start_time": "2022-12-30T18:11:02.118515Z"
    }
   },
   "outputs": [
    {
     "data": {
      "text/plain": [
       "[[95.2, '->', 100],\n",
       " [98, '->', 100],\n",
       " [100, '->', 100],\n",
       " [95, '->', 100],\n",
       " [81, '->', 91]]"
      ]
     },
     "execution_count": 60,
     "metadata": {},
     "output_type": "execute_result"
    }
   ],
   "source": [
    "grades = [95.2, 98, 100, 95, 81]\n",
    "\n",
    "better_grades = [ [g, '->', min(100, g + 10)] for g in grades if type(g) != str]\n",
    "better_grades"
   ]
  },
  {
   "cell_type": "markdown",
   "id": "26646271",
   "metadata": {},
   "source": [
    "Write a for loop to find maximum value in a list."
   ]
  },
  {
   "cell_type": "code",
   "execution_count": null,
   "id": "652e14b2",
   "metadata": {
    "ExecuteTime": {
     "end_time": "2022-12-30T18:17:19.502702Z",
     "start_time": "2022-12-30T18:17:19.498608Z"
    }
   },
   "outputs": [],
   "source": [
    "max_grade = grades[0]\n",
    "\n",
    "for grade in grades[1:]:\n",
    "    if grade > max_grade:\n",
    "        max_grade = grade\n",
    "max_grade"
   ]
  },
  {
   "cell_type": "code",
   "execution_count": null,
   "id": "25195cf7",
   "metadata": {
    "ExecuteTime": {
     "end_time": "2022-12-30T18:17:48.235601Z",
     "start_time": "2022-12-30T18:17:48.231465Z"
    }
   },
   "outputs": [],
   "source": [
    "max_grade = grades[0]\n",
    "\n",
    "for grade in grades[1:]:\n",
    "    max_grade = grade if grade > max_grade else max_grade\n",
    "max_grade"
   ]
  },
  {
   "cell_type": "markdown",
   "id": "d71d8145",
   "metadata": {},
   "source": [
    "# Functions"
   ]
  },
  {
   "cell_type": "code",
   "execution_count": 61,
   "id": "a152a083",
   "metadata": {
    "ExecuteTime": {
     "end_time": "2022-12-30T18:19:53.064007Z",
     "start_time": "2022-12-30T18:19:53.060965Z"
    }
   },
   "outputs": [],
   "source": [
    "def max_in_list(lst):\n",
    "    \"\"\"lst: list of numbers\"\"\"\n",
    "    mx = lst[0]\n",
    "    for element in lst[1:]:\n",
    "        if element > mx:\n",
    "            mx = element\n",
    "    return  mx"
   ]
  },
  {
   "cell_type": "code",
   "execution_count": 62,
   "id": "0a88654f",
   "metadata": {
    "ExecuteTime": {
     "end_time": "2022-12-30T18:19:53.541797Z",
     "start_time": "2022-12-30T18:19:53.538450Z"
    }
   },
   "outputs": [
    {
     "data": {
      "text/plain": [
       "<function __main__.max_in_list(lst)>"
      ]
     },
     "execution_count": 62,
     "metadata": {},
     "output_type": "execute_result"
    }
   ],
   "source": [
    "max_in_list"
   ]
  },
  {
   "cell_type": "code",
   "execution_count": 63,
   "id": "66c9c81f",
   "metadata": {
    "ExecuteTime": {
     "end_time": "2022-12-30T18:19:54.310219Z",
     "start_time": "2022-12-30T18:19:54.307397Z"
    }
   },
   "outputs": [
    {
     "name": "stdout",
     "output_type": "stream",
     "text": [
      "Help on function max_in_list in module __main__:\n",
      "\n",
      "max_in_list(lst)\n",
      "    lst: list of numbers\n",
      "\n"
     ]
    }
   ],
   "source": [
    "help(max_in_list)"
   ]
  },
  {
   "cell_type": "code",
   "execution_count": 64,
   "id": "20c6eb4a",
   "metadata": {
    "ExecuteTime": {
     "end_time": "2022-12-30T18:20:17.866527Z",
     "start_time": "2022-12-30T18:20:17.862444Z"
    }
   },
   "outputs": [
    {
     "name": "stdout",
     "output_type": "stream",
     "text": [
      "[95.2, 98, 100, 95, 81]\n"
     ]
    },
    {
     "data": {
      "text/plain": [
       "100"
      ]
     },
     "execution_count": 64,
     "metadata": {},
     "output_type": "execute_result"
    }
   ],
   "source": [
    "print(grades)\n",
    "max_in_list(grades)"
   ]
  },
  {
   "cell_type": "markdown",
   "id": "8441f495",
   "metadata": {},
   "source": [
    "Most commonly useful functions like this are already defined for us."
   ]
  },
  {
   "cell_type": "code",
   "execution_count": null,
   "id": "958572fb",
   "metadata": {
    "ExecuteTime": {
     "end_time": "2022-12-30T18:21:21.250042Z",
     "start_time": "2022-12-30T18:21:21.246491Z"
    }
   },
   "outputs": [],
   "source": [
    "max(grades)"
   ]
  },
  {
   "cell_type": "code",
   "execution_count": null,
   "id": "985442ef",
   "metadata": {
    "ExecuteTime": {
     "end_time": "2022-12-30T18:21:27.413167Z",
     "start_time": "2022-12-30T18:21:27.410205Z"
    }
   },
   "outputs": [],
   "source": [
    "help(max)"
   ]
  },
  {
   "cell_type": "code",
   "execution_count": null,
   "id": "2c6b4d64",
   "metadata": {
    "ExecuteTime": {
     "end_time": "2022-12-30T18:21:50.371869Z",
     "start_time": "2022-12-30T18:21:50.367980Z"
    }
   },
   "outputs": [],
   "source": [
    "print(words)\n",
    "max(words)"
   ]
  },
  {
   "cell_type": "code",
   "execution_count": null,
   "id": "6ab28059",
   "metadata": {
    "ExecuteTime": {
     "end_time": "2022-12-30T18:22:07.703677Z",
     "start_time": "2022-12-30T18:22:07.700036Z"
    }
   },
   "outputs": [],
   "source": [
    "min(words)"
   ]
  },
  {
   "cell_type": "markdown",
   "id": "a8387fa6",
   "metadata": {},
   "source": [
    "If you forget to return a value from a function, the return value is `None`."
   ]
  },
  {
   "cell_type": "code",
   "execution_count": null,
   "id": "f3ff4fd7",
   "metadata": {
    "ExecuteTime": {
     "end_time": "2022-12-30T18:23:03.733101Z",
     "start_time": "2022-12-30T18:23:03.730438Z"
    }
   },
   "outputs": [],
   "source": [
    "def whoops(stuf):\n",
    "    stuff = 5"
   ]
  },
  {
   "cell_type": "code",
   "execution_count": null,
   "id": "88d6d83b",
   "metadata": {
    "ExecuteTime": {
     "end_time": "2022-12-30T18:23:41.157812Z",
     "start_time": "2022-12-30T18:23:41.155578Z"
    }
   },
   "outputs": [],
   "source": [
    "whoops('hi')"
   ]
  },
  {
   "cell_type": "code",
   "execution_count": null,
   "id": "6b5e2d01",
   "metadata": {
    "ExecuteTime": {
     "end_time": "2022-12-30T18:23:48.148169Z",
     "start_time": "2022-12-30T18:23:48.145458Z"
    }
   },
   "outputs": [],
   "source": [
    "print(whoops('hi'))"
   ]
  },
  {
   "cell_type": "markdown",
   "id": "9148fa97",
   "metadata": {},
   "source": [
    "Does python pass arguments by value or by reference?"
   ]
  },
  {
   "cell_type": "code",
   "execution_count": null,
   "id": "42453a91",
   "metadata": {
    "ExecuteTime": {
     "end_time": "2022-12-30T18:25:41.751139Z",
     "start_time": "2022-12-30T18:25:41.748434Z"
    }
   },
   "outputs": [],
   "source": [
    "def times2(x):\n",
    "    x = x * 2"
   ]
  },
  {
   "cell_type": "code",
   "execution_count": null,
   "id": "b3c5fd0b",
   "metadata": {
    "ExecuteTime": {
     "end_time": "2022-12-30T18:25:54.951817Z",
     "start_time": "2022-12-30T18:25:54.948345Z"
    }
   },
   "outputs": [],
   "source": [
    "num = 5\n",
    "times2(num)\n",
    "num"
   ]
  },
  {
   "cell_type": "markdown",
   "id": "3327e5ce",
   "metadata": {},
   "source": [
    "I guess python passes by value."
   ]
  },
  {
   "cell_type": "code",
   "execution_count": null,
   "id": "8c1d109c",
   "metadata": {
    "ExecuteTime": {
     "end_time": "2022-12-30T18:27:57.488097Z",
     "start_time": "2022-12-30T18:27:57.485473Z"
    }
   },
   "outputs": [],
   "source": [
    "def add_to_end(nums, new_value):\n",
    "    nums.append(new_value)"
   ]
  },
  {
   "cell_type": "markdown",
   "id": "0f202e0d",
   "metadata": {
    "ExecuteTime": {
     "end_time": "2022-12-30T18:29:00.611470Z",
     "start_time": "2022-12-30T18:29:00.607668Z"
    }
   },
   "source": [
    "So \n",
    "\n",
    "    values = [1, 2, 3]\n",
    "    add_to_end(values, 4)\n",
    " \n",
    "won't change values, right?"
   ]
  },
  {
   "cell_type": "code",
   "execution_count": null,
   "id": "c72432fe",
   "metadata": {
    "ExecuteTime": {
     "end_time": "2022-12-30T18:29:00.611470Z",
     "start_time": "2022-12-30T18:29:00.607668Z"
    }
   },
   "outputs": [],
   "source": [
    "values = [1, 2, 3]\n",
    "add_to_end(values, 4)\n",
    "values"
   ]
  },
  {
   "cell_type": "markdown",
   "id": "03eb2e95",
   "metadata": {},
   "source": [
    "Primitive types are passed by value. Collections, like lists, and other non-primitive objects are passed by reference."
   ]
  },
  {
   "cell_type": "markdown",
   "id": "3acf0f33",
   "metadata": {},
   "source": [
    "Scope is another tricky thing."
   ]
  },
  {
   "cell_type": "code",
   "execution_count": null,
   "id": "ee196054",
   "metadata": {
    "ExecuteTime": {
     "end_time": "2022-12-30T18:32:28.937280Z",
     "start_time": "2022-12-30T18:32:28.934616Z"
    }
   },
   "outputs": [],
   "source": [
    "year = 2023\n",
    "def update_year():\n",
    "    next_year = year + 1\n",
    "    return next_year"
   ]
  },
  {
   "cell_type": "code",
   "execution_count": null,
   "id": "e8c17c45",
   "metadata": {
    "ExecuteTime": {
     "end_time": "2022-12-30T18:32:29.504811Z",
     "start_time": "2022-12-30T18:32:29.501495Z"
    }
   },
   "outputs": [],
   "source": [
    "update_year()"
   ]
  },
  {
   "cell_type": "code",
   "execution_count": null,
   "id": "0ba6bd8e",
   "metadata": {
    "ExecuteTime": {
     "end_time": "2022-12-30T18:33:05.100174Z",
     "start_time": "2022-12-30T18:33:05.097691Z"
    }
   },
   "outputs": [],
   "source": [
    "year = 2023\n",
    "def update_year():\n",
    "    year = year + 1"
   ]
  },
  {
   "cell_type": "code",
   "execution_count": null,
   "id": "1532a12e",
   "metadata": {
    "ExecuteTime": {
     "end_time": "2022-12-30T18:33:10.079785Z",
     "start_time": "2022-12-30T18:33:10.071917Z"
    }
   },
   "outputs": [],
   "source": [
    "update_year()"
   ]
  },
  {
   "cell_type": "code",
   "execution_count": null,
   "id": "b988ebb7",
   "metadata": {
    "ExecuteTime": {
     "end_time": "2022-12-30T18:33:15.590135Z",
     "start_time": "2022-12-30T18:33:15.587700Z"
    }
   },
   "outputs": [],
   "source": [
    "year = 2023\n",
    "def update_year():\n",
    "    global year\n",
    "    year = year + 1"
   ]
  },
  {
   "cell_type": "code",
   "execution_count": null,
   "id": "7dc8537c",
   "metadata": {
    "ExecuteTime": {
     "end_time": "2022-12-30T18:33:16.760062Z",
     "start_time": "2022-12-30T18:33:16.757782Z"
    }
   },
   "outputs": [],
   "source": [
    "update_year()"
   ]
  },
  {
   "cell_type": "code",
   "execution_count": null,
   "id": "ed4e220a",
   "metadata": {
    "ExecuteTime": {
     "end_time": "2022-12-30T18:33:17.146252Z",
     "start_time": "2022-12-30T18:33:17.143019Z"
    }
   },
   "outputs": [],
   "source": [
    "year"
   ]
  },
  {
   "cell_type": "markdown",
   "id": "7b25c453",
   "metadata": {},
   "source": [
    "# Using python code written in a python script file"
   ]
  },
  {
   "cell_type": "markdown",
   "id": "74ce2166",
   "metadata": {},
   "source": [
    "Let's create a script file containing this recursive function that returns the greatest comon divisor of two integers.  First let's test it."
   ]
  },
  {
   "cell_type": "code",
   "execution_count": null,
   "id": "828c6dd2",
   "metadata": {
    "ExecuteTime": {
     "end_time": "2022-12-30T18:36:53.877081Z",
     "start_time": "2022-12-30T18:36:53.873127Z"
    }
   },
   "outputs": [],
   "source": [
    "def gcd(x, y):\n",
    "    x, y = sorted([x, y])\n",
    "    return x if y % x == 0 else gcd(x, y % x)\n",
    "\n",
    "gcd(54, 45)"
   ]
  },
  {
   "cell_type": "code",
   "execution_count": null,
   "id": "1eb37234",
   "metadata": {
    "ExecuteTime": {
     "end_time": "2022-12-30T18:41:15.047126Z",
     "start_time": "2022-12-30T18:41:15.037044Z"
    }
   },
   "outputs": [],
   "source": [
    "%%writefile mycode.py\n",
    "def gcd(x, y):\n",
    "    x, y = sorted([x, y])\n",
    "    return x if y % x == 0 else gcd(x, y % x)"
   ]
  },
  {
   "cell_type": "code",
   "execution_count": null,
   "id": "cbfafe69",
   "metadata": {
    "ExecuteTime": {
     "end_time": "2022-12-30T18:41:15.925314Z",
     "start_time": "2022-12-30T18:41:15.801832Z"
    }
   },
   "outputs": [],
   "source": [
    "!cat mycode.py"
   ]
  },
  {
   "cell_type": "code",
   "execution_count": null,
   "id": "1d11c76d",
   "metadata": {
    "ExecuteTime": {
     "end_time": "2022-12-30T18:41:16.604044Z",
     "start_time": "2022-12-30T18:41:16.594534Z"
    }
   },
   "outputs": [],
   "source": [
    "import mycode"
   ]
  },
  {
   "cell_type": "code",
   "execution_count": null,
   "id": "649f08ea",
   "metadata": {
    "ExecuteTime": {
     "end_time": "2022-12-30T18:41:17.034992Z",
     "start_time": "2022-12-30T18:41:17.026134Z"
    }
   },
   "outputs": [],
   "source": [
    "mycode.gcd(54, 45)"
   ]
  },
  {
   "cell_type": "markdown",
   "id": "b623102d",
   "metadata": {},
   "source": [
    "If you edit `mycode.py`, `import mycode` will not re-import it.  If you want jupyter to re-import the changed file, run the following code cell.  It can be useful to include this code cell at the top of any notebook you write that imports code you are developing."
   ]
  },
  {
   "cell_type": "code",
   "execution_count": null,
   "id": "3d2ddddb",
   "metadata": {
    "ExecuteTime": {
     "end_time": "2022-12-30T18:41:05.932151Z",
     "start_time": "2022-12-30T18:41:05.922008Z"
    }
   },
   "outputs": [],
   "source": [
    "%load_ext autoreload\n",
    "%autoreload 2"
   ]
  },
  {
   "cell_type": "markdown",
   "id": "3b78b05a",
   "metadata": {},
   "source": [
    "*This notebook is part of  course materials for CS 345: Machine Learning Foundations and Practice at Colorado State University. Authors include Asa Ben-Hur, Ross Beveridge, and Chuck Anderson.*\n",
    "\n",
    "*The text is released under the [CC BY-SA license](https://creativecommons.org/licenses/by-sa/4.0/), and code is released under the [MIT license](https://opensource.org/licenses/MIT).*"
   ]
  }
 ],
 "metadata": {
  "jupytext": {
   "formats": "ipynb,auto:light"
  },
  "kernelspec": {
   "display_name": "Python 3 (ipykernel)",
   "language": "python",
   "name": "python3"
  },
  "language_info": {
   "codemirror_mode": {
    "name": "ipython",
    "version": 3
   },
   "file_extension": ".py",
   "mimetype": "text/x-python",
   "name": "python",
   "nbconvert_exporter": "python",
   "pygments_lexer": "ipython3",
   "version": "3.9.13"
  },
  "toc": {
   "base_numbering": 1,
   "nav_menu": {},
   "number_sections": true,
   "sideBar": true,
   "skip_h1_title": false,
   "title_cell": "Table of Contents",
   "title_sidebar": "Contents",
   "toc_cell": false,
   "toc_position": {},
   "toc_section_display": true,
   "toc_window_display": false
  }
 },
 "nbformat": 4,
 "nbformat_minor": 5
}
