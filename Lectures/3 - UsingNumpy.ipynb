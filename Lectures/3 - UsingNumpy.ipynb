{
 "cells": [
  {
   "cell_type": "markdown",
   "metadata": {
    "toc": true
   },
   "source": [
    "<h1>Table of Contents<span class=\"tocSkip\"></span></h1>\n",
    "<div class=\"toc\"><ul class=\"toc-item\"><li><span><a href=\"#What-is-NumPy?\" data-toc-modified-id=\"What-is-NumPy?-1\"><span class=\"toc-item-num\">1&nbsp;&nbsp;</span>What is NumPy?</a></span></li><li><span><a href=\"#Operations-on-numpy-arrays\" data-toc-modified-id=\"Operations-on-numpy-arrays-2\"><span class=\"toc-item-num\">2&nbsp;&nbsp;</span>Operations on <code>numpy</code> arrays</a></span><ul class=\"toc-item\"><li><span><a href=\"#Data-types\" data-toc-modified-id=\"Data-types-2.1\"><span class=\"toc-item-num\">2.1&nbsp;&nbsp;</span>Data types</a></span></li></ul></li><li><span><a href=\"#Creating-numpy-arrays\" data-toc-modified-id=\"Creating-numpy-arrays-3\"><span class=\"toc-item-num\">3&nbsp;&nbsp;</span>Creating <code>numpy</code> arrays</a></span></li><li><span><a href=\"#Array-indexing-and-slicing\" data-toc-modified-id=\"Array-indexing-and-slicing-4\"><span class=\"toc-item-num\">4&nbsp;&nbsp;</span>Array indexing and slicing</a></span><ul class=\"toc-item\"><li><span><a href=\"#Two-dimensional-arrays\" data-toc-modified-id=\"Two-dimensional-arrays-4.1\"><span class=\"toc-item-num\">4.1&nbsp;&nbsp;</span>Two dimensional arrays</a></span></li><li><span><a href=\"#Exercises\" data-toc-modified-id=\"Exercises-4.2\"><span class=\"toc-item-num\">4.2&nbsp;&nbsp;</span>Exercises</a></span></li><li><span><a href=\"#Boolean-indexing\" data-toc-modified-id=\"Boolean-indexing-4.3\"><span class=\"toc-item-num\">4.3&nbsp;&nbsp;</span>Boolean indexing</a></span></li></ul></li><li><span><a href=\"#Element-Wise-Array-Functions\" data-toc-modified-id=\"Element-Wise-Array-Functions-5\"><span class=\"toc-item-num\">5&nbsp;&nbsp;</span>Element-Wise Array Functions</a></span></li><li><span><a href=\"#Stacking-arrays\" data-toc-modified-id=\"Stacking-arrays-6\"><span class=\"toc-item-num\">6&nbsp;&nbsp;</span>Stacking arrays</a></span></li><li><span><a href=\"#Avoid-loops-when-you-can\" data-toc-modified-id=\"Avoid-loops-when-you-can-7\"><span class=\"toc-item-num\">7&nbsp;&nbsp;</span>Avoid loops when you can</a></span></li><li><span><a href=\"#Mathematical--and-statistical-operations-on-arrays\" data-toc-modified-id=\"Mathematical--and-statistical-operations-on-arrays-8\"><span class=\"toc-item-num\">8&nbsp;&nbsp;</span>Mathematical  and statistical operations on arrays</a></span><ul class=\"toc-item\"><li><span><a href=\"#numpy-as-a-tool-for-expressing-mathematical-formulas\" data-toc-modified-id=\"numpy-as-a-tool-for-expressing-mathematical-formulas-8.1\"><span class=\"toc-item-num\">8.1&nbsp;&nbsp;</span><code>numpy</code> as a tool for expressing mathematical formulas</a></span></li><li><span><a href=\"#Exercise\" data-toc-modified-id=\"Exercise-8.2\"><span class=\"toc-item-num\">8.2&nbsp;&nbsp;</span>Exercise</a></span></li></ul></li><li><span><a href=\"#Example:--Random-Walks\" data-toc-modified-id=\"Example:--Random-Walks-9\"><span class=\"toc-item-num\">9&nbsp;&nbsp;</span>Example:  Random Walks</a></span></li></ul></div>"
   ]
  },
  {
   "cell_type": "markdown",
   "metadata": {},
   "source": [
    "<div align=\"center\"><font size=\"6\">Using Numpy for Multidimensional Arrays</font></div>"
   ]
  },
  {
   "cell_type": "markdown",
   "metadata": {},
   "source": [
    "# What is NumPy?\n",
    "\n",
    "\n",
    "[NumPy](https://numpy.org/) (Numerical Python) is Python's library for computing with numerical data collected in vectors, matrices, multidimensional arrays.\n",
    "\n",
    "NumPy features include\n",
    "  * a fast and efficient multidimensional array object called the `ndarray`,\n",
    "  * functions for performing computations on arrays,\n",
    "  * tools for writing and reading array-based datasets to and from files,\n",
    "  * linear algebra operations, and\n",
    "  * random number generation.\n",
    "\n",
    "This tutorial is a brief introduction.  For more information please refer to one of the following resources.\n",
    "\n",
    "* [Complete Python NumPy Tutorial](https://www.youtube.com/watch?v=GB9ByFAIAH4) a Youtube video by Keith Galli.\n",
    "* The NumPy [documentation](https://numpy.org/doc/stable/), which includes multiple tutorials.\n",
    "* The [Python Data Science Handbook](https://github.com/jakevdp/PythonDataScienceHandbook) by Jake Vander Plas.\n",
    "\n",
    "NumPy is going to be our primary Python programming tool for this course, and is one of the primary programming tools used in machine learning.\n",
    "\n",
    "Our first step is to `import` the package.\n",
    "\n",
    "We can do that in several ways, such as\n",
    "\n",
    "    import numpy\n",
    "    from numpy import *\n",
    "    import numpy as np\n",
    "    \n",
    "The last form is the most commonly used.  You would use the `numpy` `sqrt` function to calculate the square root of 72 differently for each `import` form, as\n",
    "\n",
    "    numpy.sqrt(72)\n",
    "    sqrt(72)\n",
    "    np.sqrt(72)\n",
    "    \n",
    "The last form is preferred because `np` is faster to type and takes less space, but does indicate which package contains the `sqrt` function being called.  Also, `from numpy import *` will import functions, such as `min` and `max`, that prevent you from using the built-in functions with the same names."
   ]
  },
  {
   "cell_type": "code",
   "execution_count": null,
   "metadata": {
    "ExecuteTime": {
     "end_time": "2023-01-05T22:39:15.809456Z",
     "start_time": "2023-01-05T22:39:15.806766Z"
    }
   },
   "outputs": [],
   "source": [
    "import numpy as np"
   ]
  },
  {
   "cell_type": "markdown",
   "metadata": {},
   "source": [
    "As is the convention for all python packes, you can check which version of NumPy you have installed."
   ]
  },
  {
   "cell_type": "code",
   "execution_count": null,
   "metadata": {
    "ExecuteTime": {
     "end_time": "2023-01-05T22:39:15.822326Z",
     "start_time": "2023-01-05T22:39:15.812517Z"
    }
   },
   "outputs": [],
   "source": [
    "np.__version__"
   ]
  },
  {
   "cell_type": "markdown",
   "metadata": {},
   "source": [
    "Arrays are the standard data containers in NumPy, and can have any number of dimensions.\n",
    "\n",
    "Let's start with a one dimensional array."
   ]
  },
  {
   "cell_type": "code",
   "execution_count": null,
   "metadata": {
    "ExecuteTime": {
     "end_time": "2023-01-05T22:39:15.828132Z",
     "start_time": "2023-01-05T22:39:15.824568Z"
    }
   },
   "outputs": [],
   "source": [
    "my_array = np.array([1, 2, 3])\n",
    "my_array"
   ]
  },
  {
   "cell_type": "markdown",
   "metadata": {},
   "source": [
    "And its pure Python counterpart."
   ]
  },
  {
   "cell_type": "code",
   "execution_count": null,
   "metadata": {
    "ExecuteTime": {
     "end_time": "2023-01-05T22:39:15.834328Z",
     "start_time": "2023-01-05T22:39:15.829789Z"
    }
   },
   "outputs": [],
   "source": [
    "my_list = [1, 2, 3]\n",
    "my_list"
   ]
  },
  {
   "cell_type": "markdown",
   "metadata": {},
   "source": [
    "Unlike NumPy arrays, Python lists can handle heterogeneous data types."
   ]
  },
  {
   "cell_type": "code",
   "execution_count": null,
   "metadata": {
    "ExecuteTime": {
     "end_time": "2023-01-05T22:39:15.840958Z",
     "start_time": "2023-01-05T22:39:15.835990Z"
    }
   },
   "outputs": [],
   "source": [
    "my_list = [1, 2.0, True, 'Python', [1,2,3]]\n",
    "\n",
    "# let's show the types of each element in the list:\n",
    "[type(item) for item in my_list]"
   ]
  },
  {
   "cell_type": "markdown",
   "metadata": {},
   "source": [
    "What have we gained over using a Python list?  In fact, NumPy arrays are less flexible than Python lists."
   ]
  },
  {
   "cell_type": "code",
   "execution_count": null,
   "metadata": {
    "ExecuteTime": {
     "end_time": "2023-01-05T22:39:15.845425Z",
     "start_time": "2023-01-05T22:39:15.842275Z"
    }
   },
   "outputs": [],
   "source": [
    "my_list[0] = 'a'"
   ]
  },
  {
   "cell_type": "code",
   "execution_count": null,
   "metadata": {
    "ExecuteTime": {
     "end_time": "2023-01-05T22:39:15.853372Z",
     "start_time": "2023-01-05T22:39:15.846742Z"
    }
   },
   "outputs": [],
   "source": [
    "my_array[0] = 'a'"
   ]
  },
  {
   "cell_type": "markdown",
   "metadata": {},
   "source": [
    "Remember, we can make more informative error messages using `try-except`."
   ]
  },
  {
   "cell_type": "code",
   "execution_count": null,
   "metadata": {
    "ExecuteTime": {
     "end_time": "2023-01-05T22:39:15.855010Z",
     "start_time": "2023-01-05T22:39:15.855000Z"
    }
   },
   "outputs": [],
   "source": [
    "try:\n",
    "    my_array[0] = 'a'\n",
    "except:\n",
    "    print(\"wrong type in assignment\")"
   ]
  },
  {
   "cell_type": "markdown",
   "metadata": {},
   "source": [
    "As we just saw, Python lists are very flexible - they can store any type of data.  But that comes at a cost, both in speed and memory.\n",
    "\n",
    "To understand this cost we need to understand the implementation of Python a little better.  Python is written in C, and under the hood, every Python object is essentialy pointer to a C structure.\n",
    "\n",
    "Memory-wise, the Python list, is thus a pointer to a block of pointers, each of which in turn points to a Python object (even an integer is an object in Python).\n",
    "\n",
    "![Array Memory Layout](https://github.com/jakevdp/PythonDataScienceHandbook/raw/master/notebooks/figures/array_vs_list.png)\n",
    "\n",
    "*from  [Python Data Science Handbook](https://github.com/jakevdp/PythonDataScienceHandbook) by Jake Vander Plas.*"
   ]
  },
  {
   "cell_type": "markdown",
   "metadata": {},
   "source": [
    "The reduced flexibility of `numpy` arrays comes with improved efficiency both in terms of storage (why?), execution, and a wealth of functionality for fast manipulation of numeric data.\n",
    "\n",
    "Furthermore, using `numpy`'s C API, libraries written in C or Fortran, can operate on the data stored in a `numpy` array without needing to copy the data. \n",
    "\n",
    "Let's demonstrate the speed advantage of `numpy` arrays"
   ]
  },
  {
   "cell_type": "code",
   "execution_count": 1,
   "metadata": {
    "ExecuteTime": {
     "end_time": "2023-01-23T19:18:14.660075Z",
     "start_time": "2023-01-23T19:18:14.651755Z"
    }
   },
   "outputs": [
    {
     "data": {
      "text/plain": [
       "(1000000, 1000000)"
      ]
     },
     "execution_count": 1,
     "metadata": {},
     "output_type": "execute_result"
    }
   ],
   "source": [
    "1000000, 1_000_000"
   ]
  },
  {
   "cell_type": "code",
   "execution_count": null,
   "metadata": {
    "ExecuteTime": {
     "end_time": "2023-01-05T22:39:15.856043Z",
     "start_time": "2023-01-05T22:39:15.856028Z"
    }
   },
   "outputs": [],
   "source": [
    "import numpy as np\n",
    "my_array = np.arange(1_000_000)\n",
    "my_list = list(range(1_000_000))  # why not simply do my_list = range(10000000)?"
   ]
  },
  {
   "cell_type": "code",
   "execution_count": null,
   "metadata": {
    "ExecuteTime": {
     "end_time": "2023-01-05T22:39:15.857106Z",
     "start_time": "2023-01-05T22:39:15.857092Z"
    }
   },
   "outputs": [],
   "source": [
    "my_array[:10]"
   ]
  },
  {
   "cell_type": "code",
   "execution_count": null,
   "metadata": {
    "ExecuteTime": {
     "end_time": "2023-01-05T22:39:15.858778Z",
     "start_time": "2023-01-05T22:39:15.858761Z"
    }
   },
   "outputs": [],
   "source": [
    "%timeit my_array2 = my_array * 2"
   ]
  },
  {
   "cell_type": "code",
   "execution_count": null,
   "metadata": {
    "ExecuteTime": {
     "end_time": "2023-01-05T22:39:15.859888Z",
     "start_time": "2023-01-05T22:39:15.859872Z"
    }
   },
   "outputs": [],
   "source": [
    "%timeit my_list2 = [x * 2 for x in my_list]"
   ]
  },
  {
   "cell_type": "markdown",
   "metadata": {},
   "source": [
    "The above results show the advantage of using `numpy` arrays over lists in terms of computation speed.\n",
    "\n",
    "They also show the simpler syntax possible with `numpy` arrays.  When we multipled `my_array` by 2, the `numpy` package is defined to \"broadcast\" a scalar multiplication to all elements of the array, as happend in our code `my_array * 2`.\n",
    "\n",
    "We could do this broadcasting ourselves using a for loop"
   ]
  },
  {
   "cell_type": "code",
   "execution_count": null,
   "metadata": {
    "ExecuteTime": {
     "end_time": "2023-01-05T22:39:15.860885Z",
     "start_time": "2023-01-05T22:39:15.860871Z"
    }
   },
   "outputs": [],
   "source": [
    "%timeit for i in range(len(my_array)): my_array[i] = my_array[i] * 2"
   ]
  },
  {
   "cell_type": "markdown",
   "metadata": {},
   "source": [
    "but this is must slower than `my_array * 2`.  This is because for most operations on `numpy` arrays python performs the calculations by calling functions in low-level, highly-optimized, BLAS and LAPACK libraries.\n",
    "\n",
    "To take advantage of `numpy`, in this class we will shift our thinking away from lists and for loops and towards expressions involving vectors and matrices.  We will also do this in our mathematical derivations of machine learning algorithms.  By doing so, we end of with very concise mathematical expressions that can be directly implemented in `numpy` code!  Stay tuned to be amazed! "
   ]
  },
  {
   "cell_type": "markdown",
   "metadata": {},
   "source": [
    "# Operations on `numpy` arrays"
   ]
  },
  {
   "cell_type": "code",
   "execution_count": null,
   "metadata": {
    "ExecuteTime": {
     "end_time": "2023-01-05T22:39:15.863560Z",
     "start_time": "2023-01-05T22:39:15.863545Z"
    }
   },
   "outputs": [],
   "source": [
    "data = np.array([[1, 2, 3], [4, 5, 6]])\n",
    "data"
   ]
  },
  {
   "cell_type": "code",
   "execution_count": null,
   "metadata": {
    "ExecuteTime": {
     "end_time": "2023-01-05T22:39:15.865387Z",
     "start_time": "2023-01-05T22:39:15.865375Z"
    }
   },
   "outputs": [],
   "source": [
    "data + data  # add arrays"
   ]
  },
  {
   "cell_type": "code",
   "execution_count": null,
   "metadata": {
    "ExecuteTime": {
     "end_time": "2023-01-05T22:39:15.870104Z",
     "start_time": "2023-01-05T22:39:15.866739Z"
    }
   },
   "outputs": [],
   "source": [
    "data * 10    # multiply array by a scalar"
   ]
  },
  {
   "cell_type": "code",
   "execution_count": null,
   "metadata": {
    "ExecuteTime": {
     "end_time": "2023-01-05T22:39:15.875252Z",
     "start_time": "2023-01-05T22:39:15.871396Z"
    }
   },
   "outputs": [],
   "source": [
    "a1 = np.array([[1., 2., 3.], [4., 5., 6.]])\n",
    "a1"
   ]
  },
  {
   "cell_type": "code",
   "execution_count": null,
   "metadata": {
    "ExecuteTime": {
     "end_time": "2023-01-05T22:39:15.880711Z",
     "start_time": "2023-01-05T22:39:15.876531Z"
    }
   },
   "outputs": [],
   "source": [
    "a2 = np.array([[0., 4., 1.], [7., 2., 12.]])\n",
    "a2"
   ]
  },
  {
   "cell_type": "code",
   "execution_count": null,
   "metadata": {
    "ExecuteTime": {
     "end_time": "2023-01-05T22:39:15.886584Z",
     "start_time": "2023-01-05T22:39:15.881909Z"
    }
   },
   "outputs": [],
   "source": [
    "a2 > a1"
   ]
  },
  {
   "cell_type": "markdown",
   "metadata": {},
   "source": [
    "Every array has a `shape`, which is a tuple indicating the size of each dimension, and a `dtype`, an object describing the data type of the elements in the array."
   ]
  },
  {
   "cell_type": "code",
   "execution_count": null,
   "metadata": {
    "ExecuteTime": {
     "end_time": "2023-01-05T22:39:15.891723Z",
     "start_time": "2023-01-05T22:39:15.888361Z"
    }
   },
   "outputs": [],
   "source": [
    "data.shape, data.dtype"
   ]
  },
  {
   "cell_type": "markdown",
   "metadata": {},
   "source": [
    "Notice the enclosing parentheses?  This is a `tuple` of two items. You can include the surrounding parentheses in your code to return the same result."
   ]
  },
  {
   "cell_type": "code",
   "execution_count": null,
   "metadata": {
    "ExecuteTime": {
     "end_time": "2023-01-05T22:39:15.897072Z",
     "start_time": "2023-01-05T22:39:15.892820Z"
    }
   },
   "outputs": [],
   "source": [
    "(data.shape, data.dtype)"
   ]
  },
  {
   "cell_type": "code",
   "execution_count": null,
   "metadata": {
    "ExecuteTime": {
     "end_time": "2023-01-05T22:39:15.902220Z",
     "start_time": "2023-01-05T22:39:15.898236Z"
    }
   },
   "outputs": [],
   "source": [
    "a2.shape, a2.dtype"
   ]
  },
  {
   "cell_type": "markdown",
   "metadata": {},
   "source": [
    "The syntax `a2.shape` returns the value of the `shape` attribute of the `a2` array object.  You can get the same result by calling `numpy` functions."
   ]
  },
  {
   "cell_type": "code",
   "execution_count": null,
   "metadata": {
    "ExecuteTime": {
     "end_time": "2023-01-05T22:39:15.907853Z",
     "start_time": "2023-01-05T22:39:15.903260Z"
    }
   },
   "outputs": [],
   "source": [
    "np.shape(a2)"
   ]
  },
  {
   "cell_type": "markdown",
   "metadata": {},
   "source": [
    "but not for all attributes."
   ]
  },
  {
   "cell_type": "code",
   "execution_count": null,
   "metadata": {
    "ExecuteTime": {
     "end_time": "2023-01-05T22:39:15.912614Z",
     "start_time": "2023-01-05T22:39:15.909080Z"
    }
   },
   "outputs": [],
   "source": [
    "# np.dtype(a2)"
   ]
  },
  {
   "cell_type": "markdown",
   "metadata": {},
   "source": [
    "The python function `len` does not return the total number of elements in a `numpy` array.  It returns the number of rows!"
   ]
  },
  {
   "cell_type": "code",
   "execution_count": null,
   "metadata": {
    "ExecuteTime": {
     "end_time": "2023-01-05T22:39:15.918753Z",
     "start_time": "2023-01-05T22:39:15.915038Z"
    }
   },
   "outputs": [],
   "source": [
    "a2"
   ]
  },
  {
   "cell_type": "code",
   "execution_count": null,
   "metadata": {
    "ExecuteTime": {
     "end_time": "2023-01-05T22:39:15.924265Z",
     "start_time": "2023-01-05T22:39:15.919880Z"
    }
   },
   "outputs": [],
   "source": [
    "a2.shape"
   ]
  },
  {
   "cell_type": "code",
   "execution_count": null,
   "metadata": {
    "ExecuteTime": {
     "end_time": "2023-01-05T22:39:15.929493Z",
     "start_time": "2023-01-05T22:39:15.925289Z"
    }
   },
   "outputs": [],
   "source": [
    "len(a2)"
   ]
  },
  {
   "cell_type": "markdown",
   "metadata": {},
   "source": [
    "To get the total number of elemens we can use the `size` attribute."
   ]
  },
  {
   "cell_type": "code",
   "execution_count": null,
   "metadata": {
    "ExecuteTime": {
     "end_time": "2023-01-05T22:39:15.934647Z",
     "start_time": "2023-01-05T22:39:15.930656Z"
    }
   },
   "outputs": [],
   "source": [
    "a2.size"
   ]
  },
  {
   "cell_type": "code",
   "execution_count": null,
   "metadata": {
    "ExecuteTime": {
     "end_time": "2023-01-05T22:39:15.940274Z",
     "start_time": "2023-01-05T22:39:15.935785Z"
    }
   },
   "outputs": [],
   "source": [
    "np.size(a2)"
   ]
  },
  {
   "cell_type": "markdown",
   "metadata": {},
   "source": [
    "## Data types\n",
    "\n",
    "As described above, the dtype associated with an array is the type used to store the elements of the array.\n",
    "The numerical dtypes are named as follows: a type name, like float or int, followed by a number indicating the number of bits per element. A standard double-precision floating-point value (whatâ€™s used under the hood in Pythonâ€™s float object) takes up 64 bits. Thus, this type is known in NumPy as ``float64``."
   ]
  },
  {
   "cell_type": "code",
   "execution_count": null,
   "metadata": {
    "ExecuteTime": {
     "end_time": "2023-01-05T22:39:15.945953Z",
     "start_time": "2023-01-05T22:39:15.941411Z"
    }
   },
   "outputs": [],
   "source": [
    "a1 = np.array([1, 2, 3], dtype=np.float64)\n",
    "a2 = np.array([1, 2, 3], dtype=np.int64)\n",
    "a1.dtype, a2.dtype"
   ]
  },
  {
   "cell_type": "code",
   "execution_count": null,
   "metadata": {
    "ExecuteTime": {
     "end_time": "2023-01-05T22:39:15.952161Z",
     "start_time": "2023-01-05T22:39:15.947013Z"
    }
   },
   "outputs": [],
   "source": [
    "a1 = np.array([1, 2, 3], dtype=np.float32)\n",
    "a2 = np.array([1, 2, 3], dtype=np.int32)\n",
    "a1.dtype, a2.dtype"
   ]
  },
  {
   "cell_type": "markdown",
   "metadata": {},
   "source": [
    "What would be the resulting data type for an array that contains strings and numbers?"
   ]
  },
  {
   "cell_type": "code",
   "execution_count": null,
   "metadata": {
    "ExecuteTime": {
     "end_time": "2023-01-05T22:39:15.957028Z",
     "start_time": "2023-01-05T22:39:15.953149Z"
    }
   },
   "outputs": [],
   "source": [
    "# create an array that contains strings and \n",
    "# numbers and check its data type"
   ]
  },
  {
   "cell_type": "markdown",
   "metadata": {},
   "source": [
    "What is the data type of the first element of the array?"
   ]
  },
  {
   "cell_type": "markdown",
   "metadata": {},
   "source": [
    "# Creating `numpy` arrays\n",
    "\n",
    "NumPy has plenty of ways for creating all kinds of arrays - initialized with zeros, ones, or random values.  Typically they have a `shape` argument that determines the size of the array in each dimension."
   ]
  },
  {
   "cell_type": "code",
   "execution_count": null,
   "metadata": {
    "ExecuteTime": {
     "end_time": "2023-01-05T22:39:15.963003Z",
     "start_time": "2023-01-05T22:39:15.958131Z"
    }
   },
   "outputs": [],
   "source": [
    "np.zeros((2, 3))"
   ]
  },
  {
   "cell_type": "code",
   "execution_count": null,
   "metadata": {
    "ExecuteTime": {
     "end_time": "2023-01-05T22:39:15.969285Z",
     "start_time": "2023-01-05T22:39:15.965518Z"
    }
   },
   "outputs": [],
   "source": [
    "np.ones((5, 3))"
   ]
  },
  {
   "cell_type": "markdown",
   "metadata": {},
   "source": [
    "Random numbers are very useful in machine learning!  `numpy` includes functions for creating arrays of random values."
   ]
  },
  {
   "cell_type": "code",
   "execution_count": null,
   "metadata": {
    "ExecuteTime": {
     "end_time": "2023-01-05T22:39:15.974517Z",
     "start_time": "2023-01-05T22:39:15.970725Z"
    }
   },
   "outputs": [],
   "source": [
    "np.random.randint(20, 42)"
   ]
  },
  {
   "cell_type": "code",
   "execution_count": null,
   "metadata": {
    "ExecuteTime": {
     "end_time": "2023-01-05T22:39:15.980566Z",
     "start_time": "2023-01-05T22:39:15.975964Z"
    }
   },
   "outputs": [],
   "source": [
    "np.random.randint(20, 40, size=(5, 3))"
   ]
  },
  {
   "cell_type": "markdown",
   "metadata": {},
   "source": [
    "Run that code cell again to see new random numbers."
   ]
  },
  {
   "cell_type": "code",
   "execution_count": null,
   "metadata": {
    "ExecuteTime": {
     "end_time": "2023-01-05T22:39:15.986653Z",
     "start_time": "2023-01-05T22:39:15.982010Z"
    }
   },
   "outputs": [],
   "source": [
    "np.random.uniform(0., 1., size=(3, 6))"
   ]
  },
  {
   "cell_type": "code",
   "execution_count": null,
   "metadata": {
    "ExecuteTime": {
     "end_time": "2023-01-05T22:39:15.992606Z",
     "start_time": "2023-01-05T22:39:15.988148Z"
    }
   },
   "outputs": [],
   "source": [
    "np.random.uniform(size=(3, 6))  # default low and high values are 0.0 and 1.0"
   ]
  },
  {
   "cell_type": "markdown",
   "metadata": {},
   "source": [
    "NumPy can also generate random numbers with other distributions, such as a Normal (aka Gaussian) distribution."
   ]
  },
  {
   "cell_type": "code",
   "execution_count": null,
   "metadata": {
    "ExecuteTime": {
     "end_time": "2023-01-05T22:39:15.998153Z",
     "start_time": "2023-01-05T22:39:15.994038Z"
    }
   },
   "outputs": [],
   "source": [
    "np.random.normal(10.0, 2.0, size=(5,))"
   ]
  },
  {
   "cell_type": "code",
   "execution_count": null,
   "metadata": {
    "ExecuteTime": {
     "end_time": "2023-01-05T22:39:16.003903Z",
     "start_time": "2023-01-05T22:39:15.999193Z"
    }
   },
   "outputs": [],
   "source": [
    "np.random.normal(-3, 0.2, size=(5,))"
   ]
  },
  {
   "cell_type": "markdown",
   "metadata": {},
   "source": [
    "What do you suppose the first two arguments to `np.random.normal` are?  How can you find out?"
   ]
  },
  {
   "cell_type": "code",
   "execution_count": 15,
   "metadata": {
    "ExecuteTime": {
     "end_time": "2023-01-05T22:39:16.194131Z",
     "start_time": "2023-01-05T22:39:16.004987Z"
    }
   },
   "outputs": [
    {
     "name": "stderr",
     "output_type": "stream",
     "text": [
      "Unable to revert mtime: /Library/Fonts\n"
     ]
    },
    {
     "data": {
      "image/png": "[encoded data removed]",
      "text/plain": [
       "<Figure size 640x480 with 1 Axes>"
      ]
     },
     "metadata": {},
     "output_type": "display_data"
    }
   ],
   "source": [
    "import matplotlib.pyplot as plt\n",
    "\n",
    "sample = np.random.normal(0.0, 1.0, size=100000)\n",
    "plt.hist(sample, 100);"
   ]
  },
  {
   "cell_type": "markdown",
   "metadata": {},
   "source": [
    "`plt.hist` can scale the counts in each bin so that the sum of across all bins is 1, making this a true probability density function.  \n",
    "\n",
    "Then, if we know the formula for the [Normal density function](https://en.wikipedia.org/wiki/Normal_distribution), given mean $\\mu$ and standard deviaton $\\sigma$, we can draw the Normal density curve.\n",
    "\n",
    "$$ \n",
    "f(x) = \\frac{1}{\\sigma \\sqrt{2 \\pi}} e^{ -\\frac{1}{2} \\left ( \\frac{x - \\mu}{\\sigma} \\right ) ^2 }\n",
    "$$\n"
   ]
  },
  {
   "cell_type": "code",
   "execution_count": 16,
   "metadata": {
    "ExecuteTime": {
     "end_time": "2023-01-05T22:39:16.537380Z",
     "start_time": "2023-01-05T22:39:16.195311Z"
    }
   },
   "outputs": [
    {
     "data": {
      "image/png": "[encoded data removed]",
      "text/plain": [
       "<Figure size 640x480 with 1 Axes>"
      ]
     },
     "metadata": {},
     "output_type": "display_data"
    }
   ],
   "source": [
    "plt.hist(sample, 100, density=True)\n",
    "\n",
    "x = np.linspace(-4, 4, 1000)\n",
    "\n",
    "mu = 0.0\n",
    "sigma = 1.0\n",
    "\n",
    "f = 1 / (sigma * np.sqrt(2 * np.pi)) * np.exp(-0.5 * ((x - mu) / sigma)**2)\n",
    "\n",
    "f_label =  r'$\\frac{1}{\\sigma \\sqrt{2 \\pi}} e^{ -\\frac{1}{2} \\left ( \\frac{x - \\mu}{\\sigma} \\right ) ^2 }$' \n",
    "plt.plot(x, f, label=f_label, lw=5, alpha=0.5)\n",
    "plt.legend(fontsize='16');"
   ]
  },
  {
   "cell_type": "markdown",
   "metadata": {},
   "source": [
    "There is something truly fundamental about the usefulness of random variables. Randomness has pratical value and your understanding of its usefulness will grow with your experience.  An example we will see later this semester is [stochastic gradient descent](https://en.wikipedia.org/wiki/Stochastic_gradient_descent), an example of an algorithm made better by randomness."
   ]
  },
  {
   "cell_type": "markdown",
   "metadata": {},
   "source": [
    "`arange` is the `numpy` equivalent of the `range` function.  It is more flexible than its pure Python counterpart and provides fractional strides."
   ]
  },
  {
   "cell_type": "code",
   "execution_count": null,
   "metadata": {
    "ExecuteTime": {
     "end_time": "2023-01-05T22:39:16.541959Z",
     "start_time": "2023-01-05T22:39:16.538793Z"
    }
   },
   "outputs": [],
   "source": [
    "np.arange(2, 3, 0.1)"
   ]
  },
  {
   "cell_type": "markdown",
   "metadata": {},
   "source": [
    "The `linspace` function provides similar functionality with a slightly different interface."
   ]
  },
  {
   "cell_type": "code",
   "execution_count": null,
   "metadata": {
    "ExecuteTime": {
     "end_time": "2023-01-05T22:39:16.554114Z",
     "start_time": "2023-01-05T22:39:16.543413Z"
    }
   },
   "outputs": [],
   "source": [
    "np.linspace(1., 4., 6)"
   ]
  },
  {
   "cell_type": "code",
   "execution_count": null,
   "metadata": {
    "ExecuteTime": {
     "end_time": "2023-01-05T22:39:16.558461Z",
     "start_time": "2023-01-05T22:39:16.555328Z"
    }
   },
   "outputs": [],
   "source": [
    "#help(np.linspace)"
   ]
  },
  {
   "cell_type": "markdown",
   "metadata": {},
   "source": [
    "# Array indexing and slicing\n",
    "\n",
    "Indexing in `numpy` behaves like you would expect in Python"
   ]
  },
  {
   "cell_type": "code",
   "execution_count": null,
   "metadata": {
    "ExecuteTime": {
     "end_time": "2023-01-05T22:39:16.564598Z",
     "start_time": "2023-01-05T22:39:16.559573Z"
    }
   },
   "outputs": [],
   "source": [
    "a = np.array([2, 3, 4])\n",
    "a"
   ]
  },
  {
   "cell_type": "code",
   "execution_count": null,
   "metadata": {
    "ExecuteTime": {
     "end_time": "2023-01-05T22:39:16.570012Z",
     "start_time": "2023-01-05T22:39:16.565672Z"
    }
   },
   "outputs": [],
   "source": [
    "a[0] = 5                  # Change an element of the array\n",
    "a"
   ]
  },
  {
   "cell_type": "markdown",
   "metadata": {},
   "source": [
    "Similarly to Python lists, you can use negative numbers to index `numpy` arrays.  For example `a[-1]` is the last element in an array."
   ]
  },
  {
   "cell_type": "code",
   "execution_count": null,
   "metadata": {
    "ExecuteTime": {
     "end_time": "2023-01-05T22:39:16.575626Z",
     "start_time": "2023-01-05T22:39:16.571039Z"
    }
   },
   "outputs": [],
   "source": [
    "a[-1]"
   ]
  },
  {
   "cell_type": "code",
   "execution_count": null,
   "metadata": {
    "ExecuteTime": {
     "end_time": "2023-01-05T22:39:16.581727Z",
     "start_time": "2023-01-05T22:39:16.576607Z"
    }
   },
   "outputs": [],
   "source": [
    "a = np.arange(10)\n",
    "a"
   ]
  },
  {
   "cell_type": "code",
   "execution_count": null,
   "metadata": {
    "ExecuteTime": {
     "end_time": "2023-01-05T22:39:16.587235Z",
     "start_time": "2023-01-05T22:39:16.583136Z"
    }
   },
   "outputs": [],
   "source": [
    "b = a\n",
    "b"
   ]
  },
  {
   "cell_type": "code",
   "execution_count": null,
   "metadata": {
    "ExecuteTime": {
     "end_time": "2023-01-05T22:39:16.593255Z",
     "start_time": "2023-01-05T22:39:16.588686Z"
    }
   },
   "outputs": [],
   "source": [
    "a, b"
   ]
  },
  {
   "cell_type": "markdown",
   "metadata": {},
   "source": [
    "But, we need to know if `b` is now a new `numpy` array or just a reference to the `numpy` array assigned to `a`.  Which do you think is the right answer? How would you figure this out?"
   ]
  },
  {
   "cell_type": "code",
   "execution_count": null,
   "metadata": {
    "ExecuteTime": {
     "end_time": "2023-01-05T22:39:16.601144Z",
     "start_time": "2023-01-05T22:39:16.598252Z"
    }
   },
   "outputs": [],
   "source": [
    "b[0], a[0]"
   ]
  },
  {
   "cell_type": "code",
   "execution_count": null,
   "metadata": {
    "ExecuteTime": {
     "end_time": "2023-01-05T22:39:16.606744Z",
     "start_time": "2023-01-05T22:39:16.602396Z"
    }
   },
   "outputs": [],
   "source": [
    "b[0] = 1000\n",
    "b"
   ]
  },
  {
   "cell_type": "code",
   "execution_count": null,
   "metadata": {
    "ExecuteTime": {
     "end_time": "2023-01-05T22:39:16.612131Z",
     "start_time": "2023-01-05T22:39:16.607943Z"
    }
   },
   "outputs": [],
   "source": [
    "a"
   ]
  },
  {
   "cell_type": "markdown",
   "metadata": {},
   "source": [
    "Ah ha!  There is just one `numpy` array, and both `a` and `b` both refer to the same location in memory!\n",
    "\n",
    "But, what if we do want two distinct arrays?"
   ]
  },
  {
   "cell_type": "code",
   "execution_count": 17,
   "metadata": {
    "ExecuteTime": {
     "end_time": "2023-01-05T22:39:16.618148Z",
     "start_time": "2023-01-05T22:39:16.613260Z"
    }
   },
   "outputs": [
    {
     "ename": "NameError",
     "evalue": "name 'a' is not defined",
     "output_type": "error",
     "traceback": [
      "\u001b[0;31m---------------------------------------------------------------------------\u001b[0m",
      "\u001b[0;31mNameError\u001b[0m                                 Traceback (most recent call last)",
      "\u001b[0;32m/var/folders/5s/_68k3zsd12q1r1v36_nt1jsm0000gn/T/ipykernel_20507/2720137858.py\u001b[0m in \u001b[0;36m<module>\u001b[0;34m\u001b[0m\n\u001b[0;32m----> 1\u001b[0;31m \u001b[0mb\u001b[0m \u001b[0;34m=\u001b[0m \u001b[0mnp\u001b[0m\u001b[0;34m.\u001b[0m\u001b[0mcopy\u001b[0m\u001b[0;34m(\u001b[0m\u001b[0ma\u001b[0m\u001b[0;34m)\u001b[0m\u001b[0;34m\u001b[0m\u001b[0;34m\u001b[0m\u001b[0m\n\u001b[0m\u001b[1;32m      2\u001b[0m \u001b[0mc\u001b[0m \u001b[0;34m=\u001b[0m \u001b[0ma\u001b[0m\u001b[0;34m.\u001b[0m\u001b[0mcopy\u001b[0m\u001b[0;34m(\u001b[0m\u001b[0;34m)\u001b[0m\u001b[0;34m\u001b[0m\u001b[0;34m\u001b[0m\u001b[0m\n\u001b[1;32m      3\u001b[0m \u001b[0ma\u001b[0m\u001b[0;34m,\u001b[0m \u001b[0mb\u001b[0m\u001b[0;34m\u001b[0m\u001b[0;34m\u001b[0m\u001b[0m\n",
      "\u001b[0;31mNameError\u001b[0m: name 'a' is not defined"
     ]
    }
   ],
   "source": [
    "b = np.copy(a)\n",
    "c = a.copy()\n",
    "a, b"
   ]
  },
  {
   "cell_type": "code",
   "execution_count": 18,
   "metadata": {
    "ExecuteTime": {
     "end_time": "2023-01-05T22:39:16.623860Z",
     "start_time": "2023-01-05T22:39:16.619249Z"
    }
   },
   "outputs": [
    {
     "ename": "NameError",
     "evalue": "name 'c' is not defined",
     "output_type": "error",
     "traceback": [
      "\u001b[0;31m---------------------------------------------------------------------------\u001b[0m",
      "\u001b[0;31mNameError\u001b[0m                                 Traceback (most recent call last)",
      "\u001b[0;32m/var/folders/5s/_68k3zsd12q1r1v36_nt1jsm0000gn/T/ipykernel_20507/2993120214.py\u001b[0m in \u001b[0;36m<module>\u001b[0;34m\u001b[0m\n\u001b[0;32m----> 1\u001b[0;31m \u001b[0mc\u001b[0m\u001b[0;34m[\u001b[0m\u001b[0;36m1\u001b[0m\u001b[0;34m]\u001b[0m \u001b[0;34m=\u001b[0m \u001b[0;34m-\u001b[0m\u001b[0;36m999\u001b[0m\u001b[0;34m\u001b[0m\u001b[0;34m\u001b[0m\u001b[0m\n\u001b[0m\u001b[1;32m      2\u001b[0m \u001b[0ma\u001b[0m\u001b[0;34m,\u001b[0m \u001b[0mb\u001b[0m\u001b[0;34m,\u001b[0m \u001b[0mc\u001b[0m\u001b[0;34m\u001b[0m\u001b[0;34m\u001b[0m\u001b[0m\n",
      "\u001b[0;31mNameError\u001b[0m: name 'c' is not defined"
     ]
    }
   ],
   "source": [
    "c[1] = -999\n",
    "a, b, c"
   ]
  },
  {
   "cell_type": "markdown",
   "metadata": {},
   "source": [
    "Now for slices..."
   ]
  },
  {
   "cell_type": "code",
   "execution_count": 19,
   "metadata": {
    "ExecuteTime": {
     "end_time": "2023-01-05T22:39:16.629797Z",
     "start_time": "2023-01-05T22:39:16.624991Z"
    }
   },
   "outputs": [
    {
     "ename": "NameError",
     "evalue": "name 'a' is not defined",
     "output_type": "error",
     "traceback": [
      "\u001b[0;31m---------------------------------------------------------------------------\u001b[0m",
      "\u001b[0;31mNameError\u001b[0m                                 Traceback (most recent call last)",
      "\u001b[0;32m/var/folders/5s/_68k3zsd12q1r1v36_nt1jsm0000gn/T/ipykernel_20507/1693402416.py\u001b[0m in \u001b[0;36m<module>\u001b[0;34m\u001b[0m\n\u001b[0;32m----> 1\u001b[0;31m \u001b[0ma\u001b[0m\u001b[0;34m[\u001b[0m\u001b[0;36m5\u001b[0m\u001b[0;34m:\u001b[0m\u001b[0;36m8\u001b[0m\u001b[0;34m]\u001b[0m\u001b[0;34m\u001b[0m\u001b[0;34m\u001b[0m\u001b[0m\n\u001b[0m",
      "\u001b[0;31mNameError\u001b[0m: name 'a' is not defined"
     ]
    }
   ],
   "source": [
    "a[5:8]"
   ]
  },
  {
   "cell_type": "markdown",
   "metadata": {},
   "source": [
    "You can assign values to a slice."
   ]
  },
  {
   "cell_type": "code",
   "execution_count": null,
   "metadata": {
    "ExecuteTime": {
     "end_time": "2023-01-05T22:39:16.636055Z",
     "start_time": "2023-01-05T22:39:16.631028Z"
    }
   },
   "outputs": [],
   "source": [
    "a[5:8] = 12\n",
    "a"
   ]
  },
  {
   "cell_type": "markdown",
   "metadata": {},
   "source": [
    "Do slices create copies of the underlying data?  Let's see."
   ]
  },
  {
   "cell_type": "code",
   "execution_count": null,
   "metadata": {
    "ExecuteTime": {
     "end_time": "2023-01-05T22:39:16.641548Z",
     "start_time": "2023-01-05T22:39:16.637055Z"
    }
   },
   "outputs": [],
   "source": [
    "a_slice = a[5:8]\n",
    "a_slice"
   ]
  },
  {
   "cell_type": "code",
   "execution_count": null,
   "metadata": {
    "ExecuteTime": {
     "end_time": "2023-01-05T22:39:16.646951Z",
     "start_time": "2023-01-05T22:39:16.642593Z"
    }
   },
   "outputs": [],
   "source": [
    "a_slice[1] = 12345\n",
    "a"
   ]
  },
  {
   "cell_type": "markdown",
   "metadata": {},
   "source": [
    "So, no, slices do not create copies.  They return *views* of the array."
   ]
  },
  {
   "cell_type": "markdown",
   "metadata": {},
   "source": [
    "NumPy has been designed to be able to work with very large arrays, so eagerly copying data could cause severe performance and memory problems.\n",
    "\n",
    "If you want a copy of a slice instead of a view, use `copy` as shown above, like `arr[5:8].copy()`.\n"
   ]
  },
  {
   "cell_type": "markdown",
   "metadata": {},
   "source": [
    "## Two dimensional arrays\n",
    "\n",
    "Let's look at two dimensional arrays or *matrices*."
   ]
  },
  {
   "cell_type": "code",
   "execution_count": null,
   "metadata": {
    "ExecuteTime": {
     "end_time": "2023-01-05T22:39:16.652803Z",
     "start_time": "2023-01-05T22:39:16.647936Z"
    }
   },
   "outputs": [],
   "source": [
    "a = np.array([[1,2,3,4], [5,6,7,8], [9,10,11,12]])\n",
    "a"
   ]
  },
  {
   "cell_type": "markdown",
   "metadata": {},
   "source": [
    "You can determine the shape of a `numpy` array with the `shape` attribute."
   ]
  },
  {
   "cell_type": "code",
   "execution_count": null,
   "metadata": {
    "ExecuteTime": {
     "end_time": "2023-01-05T22:39:16.658005Z",
     "start_time": "2023-01-05T22:39:16.654322Z"
    }
   },
   "outputs": [],
   "source": [
    "a.shape"
   ]
  },
  {
   "cell_type": "code",
   "execution_count": null,
   "metadata": {
    "ExecuteTime": {
     "end_time": "2023-01-05T22:39:16.663057Z",
     "start_time": "2023-01-05T22:39:16.659017Z"
    }
   },
   "outputs": [],
   "source": [
    "a.reshape(2, 6)"
   ]
  },
  {
   "cell_type": "markdown",
   "metadata": {},
   "source": [
    "`numpy` can figure out size of an undefined, single dimension, if specified as -1."
   ]
  },
  {
   "cell_type": "code",
   "execution_count": null,
   "metadata": {
    "ExecuteTime": {
     "end_time": "2023-01-05T22:39:16.668424Z",
     "start_time": "2023-01-05T22:39:16.664055Z"
    }
   },
   "outputs": [],
   "source": [
    "a.reshape(2, -1)"
   ]
  },
  {
   "cell_type": "code",
   "execution_count": null,
   "metadata": {
    "ExecuteTime": {
     "end_time": "2023-01-05T22:39:16.673728Z",
     "start_time": "2023-01-05T22:39:16.669416Z"
    }
   },
   "outputs": [],
   "source": [
    "a.reshape(12)"
   ]
  },
  {
   "cell_type": "code",
   "execution_count": null,
   "metadata": {
    "ExecuteTime": {
     "end_time": "2023-01-05T22:39:16.679362Z",
     "start_time": "2023-01-05T22:39:16.675204Z"
    }
   },
   "outputs": [],
   "source": [
    "a.reshape(-1)"
   ]
  },
  {
   "cell_type": "markdown",
   "metadata": {},
   "source": [
    "The transpose of a 2-dimensional matrix flips the matrix around the diagonal."
   ]
  },
  {
   "cell_type": "code",
   "execution_count": null,
   "metadata": {
    "ExecuteTime": {
     "end_time": "2023-01-05T22:39:16.685440Z",
     "start_time": "2023-01-05T22:39:16.680863Z"
    }
   },
   "outputs": [],
   "source": [
    "a"
   ]
  },
  {
   "cell_type": "code",
   "execution_count": null,
   "metadata": {
    "ExecuteTime": {
     "end_time": "2023-01-05T22:39:16.691147Z",
     "start_time": "2023-01-05T22:39:16.686536Z"
    }
   },
   "outputs": [],
   "source": [
    "a.T"
   ]
  },
  {
   "cell_type": "code",
   "execution_count": null,
   "metadata": {
    "ExecuteTime": {
     "end_time": "2023-01-05T22:39:16.696815Z",
     "start_time": "2023-01-05T22:39:16.692175Z"
    }
   },
   "outputs": [],
   "source": [
    "a.shape, a.T.shape"
   ]
  },
  {
   "cell_type": "code",
   "execution_count": null,
   "metadata": {
    "ExecuteTime": {
     "end_time": "2023-01-05T22:39:16.702849Z",
     "start_time": "2023-01-05T22:39:16.697975Z"
    }
   },
   "outputs": [],
   "source": [
    "np.transpose(a)"
   ]
  },
  {
   "cell_type": "code",
   "execution_count": null,
   "metadata": {
    "ExecuteTime": {
     "end_time": "2023-01-05T22:39:16.708231Z",
     "start_time": "2023-01-05T22:39:16.703913Z"
    }
   },
   "outputs": [],
   "source": [
    "a.transpose()"
   ]
  },
  {
   "cell_type": "markdown",
   "metadata": {},
   "source": [
    "But, the transpose is not just a `reshape`!!"
   ]
  },
  {
   "cell_type": "code",
   "execution_count": null,
   "metadata": {
    "ExecuteTime": {
     "end_time": "2023-01-05T22:39:16.713514Z",
     "start_time": "2023-01-05T22:39:16.709374Z"
    }
   },
   "outputs": [],
   "source": [
    "a.reshape(4, 3)"
   ]
  },
  {
   "cell_type": "markdown",
   "metadata": {},
   "source": [
    "Here are two ways of indexing an element in a two dimensional array."
   ]
  },
  {
   "cell_type": "code",
   "execution_count": null,
   "metadata": {
    "ExecuteTime": {
     "end_time": "2023-01-05T22:39:16.718115Z",
     "start_time": "2023-01-05T22:39:16.714667Z"
    }
   },
   "outputs": [],
   "source": [
    "print(a[0, 0], a[0, 1])\n",
    "print(a[0][0], a[0][1])"
   ]
  },
  {
   "cell_type": "markdown",
   "metadata": {},
   "source": [
    "The latter form of indexing works, because each row of a two dimensional array is an array as well."
   ]
  },
  {
   "cell_type": "markdown",
   "metadata": {},
   "source": [
    "So, to access the first row:"
   ]
  },
  {
   "cell_type": "code",
   "execution_count": null,
   "metadata": {
    "ExecuteTime": {
     "end_time": "2023-01-05T22:39:16.724170Z",
     "start_time": "2023-01-05T22:39:16.719449Z"
    }
   },
   "outputs": [],
   "source": [
    "row = a[0]    # the first row of a\n",
    "row, row.shape"
   ]
  },
  {
   "cell_type": "markdown",
   "metadata": {},
   "source": [
    "To access a column:"
   ]
  },
  {
   "cell_type": "code",
   "execution_count": null,
   "metadata": {
    "ExecuteTime": {
     "end_time": "2023-01-05T22:39:16.730664Z",
     "start_time": "2023-01-05T22:39:16.725309Z"
    }
   },
   "outputs": [],
   "source": [
    "print(a)\n",
    "col = a[:, 0]\n",
    "col, col.shape"
   ]
  },
  {
   "cell_type": "markdown",
   "metadata": {},
   "source": [
    "This returned a one-dimensional array. Accessing two columns returns a two-dimensional array, as it should."
   ]
  },
  {
   "cell_type": "code",
   "execution_count": null,
   "metadata": {
    "ExecuteTime": {
     "end_time": "2023-01-05T22:39:16.736650Z",
     "start_time": "2023-01-05T22:39:16.732052Z"
    }
   },
   "outputs": [],
   "source": [
    "cols = a[:, 0:2]\n",
    "cols, cols.shape"
   ]
  },
  {
   "cell_type": "markdown",
   "metadata": {},
   "source": [
    "If you want to keep the dimensionality (shape) of the column, you can index it as a one-element slice).\n",
    "\n",
    "Why doesn't the following expression return two columns?"
   ]
  },
  {
   "cell_type": "code",
   "execution_count": null,
   "metadata": {
    "ExecuteTime": {
     "end_time": "2023-01-05T22:39:16.742724Z",
     "start_time": "2023-01-05T22:39:16.737805Z"
    }
   },
   "outputs": [],
   "source": [
    "a[:, 0:1]"
   ]
  },
  {
   "cell_type": "markdown",
   "metadata": {},
   "source": [
    "We can perform slicing on multiple dimensions, creating a submatrix."
   ]
  },
  {
   "cell_type": "code",
   "execution_count": null,
   "metadata": {
    "ExecuteTime": {
     "end_time": "2023-01-05T22:39:16.748023Z",
     "start_time": "2023-01-05T22:39:16.743967Z"
    }
   },
   "outputs": [],
   "source": [
    "a"
   ]
  },
  {
   "cell_type": "code",
   "execution_count": null,
   "metadata": {
    "ExecuteTime": {
     "end_time": "2023-01-05T22:39:16.753437Z",
     "start_time": "2023-01-05T22:39:16.749082Z"
    }
   },
   "outputs": [],
   "source": [
    "a[1:3, 2:4]"
   ]
  },
  {
   "cell_type": "markdown",
   "metadata": {},
   "source": [
    "You can extract columns or rows using a lists, or tuple, of integers."
   ]
  },
  {
   "cell_type": "code",
   "execution_count": null,
   "metadata": {
    "ExecuteTime": {
     "end_time": "2023-01-05T22:39:16.758928Z",
     "start_time": "2023-01-05T22:39:16.754627Z"
    }
   },
   "outputs": [],
   "source": [
    "a"
   ]
  },
  {
   "cell_type": "code",
   "execution_count": null,
   "metadata": {
    "ExecuteTime": {
     "end_time": "2023-01-05T22:39:16.764942Z",
     "start_time": "2023-01-05T22:39:16.760014Z"
    }
   },
   "outputs": [],
   "source": [
    "a[[0, 2]]"
   ]
  },
  {
   "cell_type": "code",
   "execution_count": null,
   "metadata": {
    "ExecuteTime": {
     "end_time": "2023-01-05T22:39:16.770080Z",
     "start_time": "2023-01-05T22:39:16.765993Z"
    }
   },
   "outputs": [],
   "source": [
    "a[[0, 2], :]  # a little easier to read."
   ]
  },
  {
   "cell_type": "code",
   "execution_count": null,
   "metadata": {
    "ExecuteTime": {
     "end_time": "2023-01-05T22:39:16.775810Z",
     "start_time": "2023-01-05T22:39:16.771268Z"
    }
   },
   "outputs": [],
   "source": [
    "a[:, [0, 2]]  # extract a given set of columns"
   ]
  },
  {
   "cell_type": "markdown",
   "metadata": {},
   "source": [
    "But,"
   ]
  },
  {
   "cell_type": "code",
   "execution_count": null,
   "metadata": {
    "ExecuteTime": {
     "end_time": "2023-01-05T22:39:16.781198Z",
     "start_time": "2023-01-05T22:39:16.777071Z"
    }
   },
   "outputs": [],
   "source": [
    "a[[0, 2], [1, 3]]"
   ]
  },
  {
   "cell_type": "markdown",
   "metadata": {},
   "source": [
    "Need to figure this out with a little bit of googling.  Searching for \"numpy matrix extract submmatrix using list of indices\" shows these solutions."
   ]
  },
  {
   "cell_type": "code",
   "execution_count": null,
   "metadata": {
    "ExecuteTime": {
     "end_time": "2023-01-05T22:39:16.787004Z",
     "start_time": "2023-01-05T22:39:16.782414Z"
    }
   },
   "outputs": [],
   "source": [
    "a"
   ]
  },
  {
   "cell_type": "code",
   "execution_count": null,
   "metadata": {
    "ExecuteTime": {
     "end_time": "2023-01-05T22:39:16.792948Z",
     "start_time": "2023-01-05T22:39:16.788325Z"
    }
   },
   "outputs": [],
   "source": [
    "a[[0, 2], :][:, [1, 3]]"
   ]
  },
  {
   "cell_type": "code",
   "execution_count": null,
   "metadata": {
    "ExecuteTime": {
     "end_time": "2023-01-05T22:39:16.798976Z",
     "start_time": "2023-01-05T22:39:16.794163Z"
    }
   },
   "outputs": [],
   "source": [
    "a[np.array([0, 2]), np.array([1, 3])]"
   ]
  },
  {
   "cell_type": "markdown",
   "metadata": {},
   "source": [
    "The arrays `[0, 2]` and `[1, 3]` have the same shape, so `numpy` combines them element by element, to return values at `[0, 1]`, and `[1, 3]`.  \n",
    "\n",
    "To prevent this broadcasting behavior, we need to make the row indices into a different shape. If we change `[0, 2]` into a `(2, 1)` shape, and leave `[1, 3]` as a row vector, then `numpy` pairs each row index 0 and 2 with each column index 1 and 3."
   ]
  },
  {
   "cell_type": "code",
   "execution_count": null,
   "metadata": {
    "ExecuteTime": {
     "end_time": "2023-01-05T22:39:16.804665Z",
     "start_time": "2023-01-05T22:39:16.800283Z"
    }
   },
   "outputs": [],
   "source": [
    "a[np.array([0, 2]).reshape(-1, 1), np.array([1, 3])]"
   ]
  },
  {
   "cell_type": "markdown",
   "metadata": {},
   "source": [
    "Does indexing using an array create a copy of the array or simply a view, as in the case of slicing?"
   ]
  },
  {
   "cell_type": "code",
   "execution_count": null,
   "metadata": {
    "ExecuteTime": {
     "end_time": "2023-01-05T22:39:16.809280Z",
     "start_time": "2023-01-05T22:39:16.806148Z"
    }
   },
   "outputs": [],
   "source": [
    "## write some code in class to answer this question"
   ]
  },
  {
   "cell_type": "markdown",
   "metadata": {},
   "source": [
    "## Exercises\n",
    "\n",
    "Describe the effect of each of the following slices:"
   ]
  },
  {
   "cell_type": "code",
   "execution_count": null,
   "metadata": {
    "ExecuteTime": {
     "end_time": "2023-01-05T22:39:16.815303Z",
     "start_time": "2023-01-05T22:39:16.810527Z"
    }
   },
   "outputs": [],
   "source": [
    "a2d = np.array([[1, 2, 3], [4, 5, 6], [7, 8, 9]])\n",
    "a2d"
   ]
  },
  {
   "cell_type": "code",
   "execution_count": null,
   "metadata": {
    "ExecuteTime": {
     "end_time": "2023-01-05T22:39:16.821040Z",
     "start_time": "2023-01-05T22:39:16.816582Z"
    }
   },
   "outputs": [],
   "source": [
    "a2d[:2]"
   ]
  },
  {
   "cell_type": "code",
   "execution_count": null,
   "metadata": {
    "ExecuteTime": {
     "end_time": "2023-01-05T22:39:16.826254Z",
     "start_time": "2023-01-05T22:39:16.822122Z"
    }
   },
   "outputs": [],
   "source": [
    "a2d[:2, 1:]"
   ]
  },
  {
   "cell_type": "code",
   "execution_count": null,
   "metadata": {
    "ExecuteTime": {
     "end_time": "2023-01-05T22:39:16.831692Z",
     "start_time": "2023-01-05T22:39:16.827536Z"
    }
   },
   "outputs": [],
   "source": [
    "a2d[-1, :2]"
   ]
  },
  {
   "cell_type": "code",
   "execution_count": null,
   "metadata": {
    "ExecuteTime": {
     "end_time": "2023-01-05T22:39:16.836677Z",
     "start_time": "2023-01-05T22:39:16.832684Z"
    }
   },
   "outputs": [],
   "source": [
    "a2d[:, :]"
   ]
  },
  {
   "cell_type": "markdown",
   "metadata": {},
   "source": [
    "## Boolean indexing\n",
    "\n",
    "You are about to see another very powerful aspect of arrays in `numpy`:\n",
    " selectively accessing parts of an array based on a Boolean condition.\n",
    "This is called **Boolean indexing**."
   ]
  },
  {
   "cell_type": "code",
   "execution_count": null,
   "metadata": {
    "ExecuteTime": {
     "end_time": "2023-01-05T22:39:16.841129Z",
     "start_time": "2023-01-05T22:39:16.837651Z"
    }
   },
   "outputs": [],
   "source": [
    "# np.random.randn?"
   ]
  },
  {
   "cell_type": "code",
   "execution_count": null,
   "metadata": {
    "ExecuteTime": {
     "end_time": "2023-01-05T22:39:16.846618Z",
     "start_time": "2023-01-05T22:39:16.842255Z"
    }
   },
   "outputs": [],
   "source": [
    "names = np.array(['Bob', 'Joe', 'Will', 'Bob', 'Will', 'Joe', 'Joe'])\n",
    "data = np.random.randint(1, 10, size=(4, 7))  # what is mean and standard deviation\n",
    "print(f'{names=}')\n",
    "print(f'{data=}')"
   ]
  },
  {
   "cell_type": "code",
   "execution_count": null,
   "metadata": {
    "ExecuteTime": {
     "end_time": "2023-01-05T22:39:16.852454Z",
     "start_time": "2023-01-05T22:39:16.847697Z"
    }
   },
   "outputs": [],
   "source": [
    "names == 'Bob'"
   ]
  },
  {
   "cell_type": "code",
   "execution_count": null,
   "metadata": {
    "ExecuteTime": {
     "end_time": "2023-01-05T22:39:16.860098Z",
     "start_time": "2023-01-05T22:39:16.853465Z"
    }
   },
   "outputs": [],
   "source": [
    "data[:, names == 'Bob']"
   ]
  },
  {
   "cell_type": "code",
   "execution_count": null,
   "metadata": {
    "ExecuteTime": {
     "end_time": "2023-01-05T22:39:16.865945Z",
     "start_time": "2023-01-05T22:39:16.861122Z"
    }
   },
   "outputs": [],
   "source": [
    "cond = names == 'Bob'\n",
    "print(~cond)\n",
    "data[:, ~cond]"
   ]
  },
  {
   "cell_type": "code",
   "execution_count": null,
   "metadata": {
    "ExecuteTime": {
     "end_time": "2023-01-05T22:39:16.872425Z",
     "start_time": "2023-01-05T22:39:16.867004Z"
    }
   },
   "outputs": [],
   "source": [
    "cond = names == 'Bob'\n",
    "print(~cond)\n",
    "data[:, ~cond]"
   ]
  },
  {
   "cell_type": "code",
   "execution_count": null,
   "metadata": {
    "ExecuteTime": {
     "end_time": "2023-01-05T22:39:16.878295Z",
     "start_time": "2023-01-05T22:39:16.873438Z"
    }
   },
   "outputs": [],
   "source": [
    "cond = names == 'Bob'\n",
    "print(cond == False)\n",
    "data[:, cond == False]"
   ]
  },
  {
   "cell_type": "code",
   "execution_count": null,
   "metadata": {
    "ExecuteTime": {
     "end_time": "2023-01-05T22:39:16.884784Z",
     "start_time": "2023-01-05T22:39:16.879459Z"
    }
   },
   "outputs": [],
   "source": [
    "cond = (names == 'Bob') | (names == 'Will')\n",
    "print(cond)\n",
    "data[:, cond]"
   ]
  },
  {
   "cell_type": "markdown",
   "metadata": {},
   "source": [
    "**Note:** The Python keywords ``and`` and ``or`` do not work with boolean arrays. You need to use the operators & and | instead of `and` / `or`, as you have just seen above."
   ]
  },
  {
   "cell_type": "markdown",
   "metadata": {},
   "source": [
    "We can use conditions to modify an array:"
   ]
  },
  {
   "cell_type": "code",
   "execution_count": null,
   "metadata": {
    "ExecuteTime": {
     "end_time": "2023-01-05T22:39:16.890290Z",
     "start_time": "2023-01-05T22:39:16.886099Z"
    }
   },
   "outputs": [],
   "source": [
    "data < 4"
   ]
  },
  {
   "cell_type": "code",
   "execution_count": null,
   "metadata": {
    "ExecuteTime": {
     "end_time": "2023-01-05T22:39:16.896042Z",
     "start_time": "2023-01-05T22:39:16.891635Z"
    }
   },
   "outputs": [],
   "source": [
    "data[data < 4] = 99\n",
    "data"
   ]
  },
  {
   "cell_type": "code",
   "execution_count": null,
   "metadata": {
    "ExecuteTime": {
     "end_time": "2023-01-05T22:39:16.905904Z",
     "start_time": "2023-01-05T22:39:16.902964Z"
    }
   },
   "outputs": [],
   "source": [
    "data[:, names != 'Joe'] = 0\n",
    "data"
   ]
  },
  {
   "cell_type": "markdown",
   "metadata": {},
   "source": [
    "# Element-Wise Array Functions\n",
    "\n",
    "Many `numpy` functions are applied on each element of an array and return an array of the same shape of all results. These are called *ufuncs*, short for universal functions."
   ]
  },
  {
   "cell_type": "code",
   "execution_count": null,
   "metadata": {
    "ExecuteTime": {
     "end_time": "2023-01-05T22:39:16.911663Z",
     "start_time": "2023-01-05T22:39:16.907338Z"
    }
   },
   "outputs": [],
   "source": [
    "a = np.arange(5)\n",
    "a"
   ]
  },
  {
   "cell_type": "code",
   "execution_count": null,
   "metadata": {
    "ExecuteTime": {
     "end_time": "2023-01-05T22:39:16.916594Z",
     "start_time": "2023-01-05T22:39:16.912803Z"
    }
   },
   "outputs": [],
   "source": [
    "print(f'Square root:\\t{np.sqrt(a)}')"
   ]
  },
  {
   "cell_type": "code",
   "execution_count": null,
   "metadata": {
    "ExecuteTime": {
     "end_time": "2023-01-05T22:39:16.921595Z",
     "start_time": "2023-01-05T22:39:16.917752Z"
    }
   },
   "outputs": [],
   "source": [
    "np.set_printoptions(precision=3)"
   ]
  },
  {
   "cell_type": "code",
   "execution_count": null,
   "metadata": {
    "ExecuteTime": {
     "end_time": "2023-01-05T22:39:16.926959Z",
     "start_time": "2023-01-05T22:39:16.922847Z"
    }
   },
   "outputs": [],
   "source": [
    "print(f'Square root:\\t{np.sqrt(a)}')"
   ]
  },
  {
   "cell_type": "code",
   "execution_count": null,
   "metadata": {
    "ExecuteTime": {
     "end_time": "2023-01-05T22:39:16.937752Z",
     "start_time": "2023-01-05T22:39:16.933791Z"
    }
   },
   "outputs": [],
   "source": [
    "print(f'Exponentiated:\\t{np.exp(a)}')"
   ]
  },
  {
   "cell_type": "code",
   "execution_count": null,
   "metadata": {
    "ExecuteTime": {
     "end_time": "2023-01-05T22:39:16.937752Z",
     "start_time": "2023-01-05T22:39:16.933791Z"
    }
   },
   "outputs": [],
   "source": [
    "print(f'Squared:\\t{np.square(a)}')"
   ]
  },
  {
   "cell_type": "markdown",
   "metadata": {},
   "source": [
    "A complete list of ufuncs is available in the [NumPy documentation](https://docs.scipy.org/doc/numpy/reference/ufuncs.html#available-ufuncs)."
   ]
  },
  {
   "cell_type": "markdown",
   "metadata": {},
   "source": [
    "# Stacking arrays\n",
    "\n",
    "You can extend arrays by stacking them horizontally or vertically:"
   ]
  },
  {
   "cell_type": "code",
   "execution_count": null,
   "metadata": {
    "ExecuteTime": {
     "end_time": "2023-01-05T22:39:16.943941Z",
     "start_time": "2023-01-05T22:39:16.938834Z"
    }
   },
   "outputs": [],
   "source": [
    "x = np.array([[1, 2], [3, 4]])\n",
    "x"
   ]
  },
  {
   "cell_type": "code",
   "execution_count": null,
   "metadata": {
    "ExecuteTime": {
     "end_time": "2023-01-05T22:39:16.949957Z",
     "start_time": "2023-01-05T22:39:16.944943Z"
    }
   },
   "outputs": [],
   "source": [
    "y = np.array([[5, 6], [7, 8]])\n",
    "y"
   ]
  },
  {
   "cell_type": "code",
   "execution_count": null,
   "metadata": {
    "ExecuteTime": {
     "end_time": "2023-01-05T22:39:16.961050Z",
     "start_time": "2023-01-05T22:39:16.956677Z"
    }
   },
   "outputs": [],
   "source": [
    "np.vstack([x, y])"
   ]
  },
  {
   "cell_type": "code",
   "execution_count": null,
   "metadata": {
    "ExecuteTime": {
     "end_time": "2023-01-05T22:39:16.961050Z",
     "start_time": "2023-01-05T22:39:16.956677Z"
    }
   },
   "outputs": [],
   "source": [
    "np.hstack([x, y])"
   ]
  },
  {
   "cell_type": "markdown",
   "metadata": {},
   "source": [
    "Do `vstack` and `hstack` make copies of the original arrays?\n",
    "\n",
    "We can also `stack` arrays along a new dimension."
   ]
  },
  {
   "cell_type": "code",
   "execution_count": null,
   "metadata": {
    "ExecuteTime": {
     "end_time": "2023-01-05T22:39:16.966413Z",
     "start_time": "2023-01-05T22:39:16.962080Z"
    }
   },
   "outputs": [],
   "source": [
    "z = np.stack([x, y, x, y])\n",
    "z"
   ]
  },
  {
   "cell_type": "code",
   "execution_count": null,
   "metadata": {
    "ExecuteTime": {
     "end_time": "2023-01-05T22:39:16.972074Z",
     "start_time": "2023-01-05T22:39:16.967513Z"
    }
   },
   "outputs": [],
   "source": [
    "z.shape"
   ]
  },
  {
   "cell_type": "markdown",
   "metadata": {},
   "source": [
    "In machine learning stacking of arrays can be used to add features or training examples to a feature matrix $X$."
   ]
  },
  {
   "cell_type": "markdown",
   "metadata": {},
   "source": [
    "# Avoid loops when you can\n",
    "\n",
    "Let's add a 3-component vector to each row of a 5 x 3 matrix."
   ]
  },
  {
   "cell_type": "code",
   "execution_count": null,
   "metadata": {
    "ExecuteTime": {
     "end_time": "2023-01-05T22:39:16.978573Z",
     "start_time": "2023-01-05T22:39:16.973207Z"
    }
   },
   "outputs": [],
   "source": [
    "x = np.array([[1, 2, 3], [4, 5, 6], [7, 8, 9], [10, 11, 12]])\n",
    "v = np.array([1, 0, 1])\n",
    "x, v"
   ]
  },
  {
   "cell_type": "code",
   "execution_count": null,
   "metadata": {
    "ExecuteTime": {
     "end_time": "2023-01-05T22:39:16.984283Z",
     "start_time": "2023-01-05T22:39:16.979557Z"
    }
   },
   "outputs": [],
   "source": [
    "for i in range(4):  # i is 0, 1, 2, and 3\n",
    "    x[i] = x[i] + v\n",
    "x"
   ]
  },
  {
   "cell_type": "markdown",
   "metadata": {},
   "source": [
    "There is a much more efficient way of doing this that does not use a loop:"
   ]
  },
  {
   "cell_type": "code",
   "execution_count": null,
   "metadata": {
    "ExecuteTime": {
     "end_time": "2023-01-05T22:39:16.989841Z",
     "start_time": "2023-01-05T22:39:16.985319Z"
    }
   },
   "outputs": [],
   "source": [
    "x = np.array([[1,2,3], [4,5,6], [7,8,9], [10, 11, 12]])\n",
    "v = np.array([1, 0, 1])\n",
    "x + v"
   ]
  },
  {
   "cell_type": "markdown",
   "metadata": {},
   "source": [
    "This is called **broadcasting**.\n",
    "The following image explains what NumPy is doing in this case:\n",
    "\n",
    "<img style=\"padding: 10px; float:center;\" alt=\"broadcasting\" src=\"https://numpy.org/doc/stable/_images/broadcasting_2.png\" width=\"500\">\n",
    "\n",
    "This figure and broadcasting is described in greater detail in the [NumPy documentation](https://numpy.org/doc/stable/user/basics.broadcasting.html) and [data science handbook](https://jakevdp.github.io/PythonDataScienceHandbook/02.05-computation-on-arrays-broadcasting.html).\n"
   ]
  },
  {
   "cell_type": "markdown",
   "metadata": {},
   "source": [
    "# Mathematical  and statistical operations on arrays\n",
    "\n",
    "`numpy` provides functionality for a variety of mathematical operations over arrays, such as\n",
    "\n",
    "* `np.sum` - sum,\n",
    "* `np.mean` - arithmetic mean,\n",
    "* `np.average` - average (can compute weighted averages),\n",
    "* `np.std` - standard deviation,\n",
    "* `np.median` - median,\n",
    "* `np.max`, `np.min` - maximum/minimum, and\n",
    "* `np.argmax`, `np.argmin` - index of maximum/minimum.\n",
    "\n",
    "And many [more](https://numpy.org/doc/stable/reference/routines.statistics.html).\n",
    "\n",
    "Applying these methods to a two dimensional array performs the operation over the entire array."
   ]
  },
  {
   "cell_type": "code",
   "execution_count": null,
   "metadata": {
    "ExecuteTime": {
     "end_time": "2023-01-05T22:39:16.995419Z",
     "start_time": "2023-01-05T22:39:16.991009Z"
    }
   },
   "outputs": [],
   "source": [
    "a = np.random.randint(1, 5, size=(4, 3))\n",
    "a"
   ]
  },
  {
   "cell_type": "code",
   "execution_count": null,
   "metadata": {
    "ExecuteTime": {
     "end_time": "2023-01-05T22:39:17.001056Z",
     "start_time": "2023-01-05T22:39:16.996478Z"
    }
   },
   "outputs": [],
   "source": [
    "a.sum() # same as np.sum(a) "
   ]
  },
  {
   "cell_type": "markdown",
   "metadata": {},
   "source": [
    "Sums can be performed along a given axis."
   ]
  },
  {
   "cell_type": "code",
   "execution_count": null,
   "metadata": {
    "ExecuteTime": {
     "end_time": "2023-01-05T22:39:17.006576Z",
     "start_time": "2023-01-05T22:39:17.002113Z"
    }
   },
   "outputs": [],
   "source": [
    "a.sum(axis=0)"
   ]
  },
  {
   "cell_type": "markdown",
   "metadata": {},
   "source": [
    "The `sum` is applied along the first (index 0) dimension, which is the rows. Since `a` has 3 columns, the answer contains 3 values, one for each column.\n",
    "\n",
    "If `sum` is applied across columns, we will get 4 answers, one for each row."
   ]
  },
  {
   "cell_type": "code",
   "execution_count": null,
   "metadata": {
    "ExecuteTime": {
     "end_time": "2023-01-05T22:39:17.012057Z",
     "start_time": "2023-01-05T22:39:17.007551Z"
    }
   },
   "outputs": [],
   "source": [
    "a.sum(axis=1)"
   ]
  },
  {
   "cell_type": "markdown",
   "metadata": {},
   "source": [
    "Let's demonstrate just how much faster the `numpy` `sum` function is than its  Python `list` counterpart."
   ]
  },
  {
   "cell_type": "code",
   "execution_count": null,
   "metadata": {
    "ExecuteTime": {
     "end_time": "2023-01-05T22:39:17.018057Z",
     "start_time": "2023-01-05T22:39:17.013007Z"
    }
   },
   "outputs": [],
   "source": [
    "n = 10\n",
    "big_array = np.random.uniform(size=n)  # or size=(n,)\n",
    "big_array"
   ]
  },
  {
   "cell_type": "code",
   "execution_count": null,
   "metadata": {
    "ExecuteTime": {
     "end_time": "2023-01-05T22:39:17.024301Z",
     "start_time": "2023-01-05T22:39:17.019057Z"
    }
   },
   "outputs": [],
   "source": [
    "big_list = big_array.tolist()\n",
    "big_list"
   ]
  },
  {
   "cell_type": "code",
   "execution_count": null,
   "metadata": {
    "ExecuteTime": {
     "end_time": "2023-01-05T22:39:27.132424Z",
     "start_time": "2023-01-05T22:39:17.025280Z"
    }
   },
   "outputs": [],
   "source": [
    "%timeit sum(big_list)\n",
    "%timeit np.sum(big_array)"
   ]
  },
  {
   "cell_type": "code",
   "execution_count": null,
   "metadata": {
    "ExecuteTime": {
     "end_time": "2023-01-05T22:39:27.136263Z",
     "start_time": "2023-01-05T22:39:27.133730Z"
    }
   },
   "outputs": [],
   "source": [
    "print('For n =', n, 'np.sum is', 2.2 / 0.103, 'times faster.')"
   ]
  },
  {
   "cell_type": "code",
   "execution_count": null,
   "metadata": {
    "ExecuteTime": {
     "end_time": "2023-01-05T22:39:31.439910Z",
     "start_time": "2023-01-05T22:39:27.137312Z"
    }
   },
   "outputs": [],
   "source": [
    "n = 100000\n",
    "big_array = np.random.uniform(size=n)\n",
    "big_list = big_array.tolist()\n",
    "%timeit sum(big_list)\n",
    "%timeit np.sum(big_array)"
   ]
  },
  {
   "cell_type": "code",
   "execution_count": null,
   "metadata": {
    "ExecuteTime": {
     "end_time": "2023-01-05T22:39:31.444427Z",
     "start_time": "2023-01-05T22:39:31.441489Z"
    }
   },
   "outputs": [],
   "source": [
    "print('For n =', n, 'np.sum is', 292 / 22.1, 'times faster.')"
   ]
  },
  {
   "cell_type": "markdown",
   "metadata": {},
   "source": [
    "## `numpy` as a tool for expressing mathematical formulas\n",
    "\n",
    "One of the great advantages of using `numpy` is that many of the mathematical formulas that are common in machine learning can be succinctly expressed.  Consider for example the computation of the mean-squared error which is used to quantify the quality of a regression method.\n",
    "\n",
    "$$\n",
    "\\text{MSE} = \\frac{1}{N}\\sum_{i=1}^N (\\hat{y}_i - y_i)^2.\n",
    "$$\n",
    "\n",
    "Here $y_1,\\ldots,y_N$ are the given labels and $\\hat{y}_1,\\ldots,\\hat{y}_N$ are the predicted labels for each of $N$ values.\n",
    "\n",
    "This formula is easy to express using a single line of code."
   ]
  },
  {
   "cell_type": "code",
   "execution_count": null,
   "metadata": {
    "ExecuteTime": {
     "end_time": "2023-01-05T22:39:31.458427Z",
     "start_time": "2023-01-05T22:39:31.445808Z"
    }
   },
   "outputs": [],
   "source": [
    "y = np.array([1, 1.5, 2])\n",
    "y_predicted = np.array([0.8, 1.6, 2.4])\n",
    "\n",
    "1 / len(y) * np.sum( (y_predicted - y)**2 )"
   ]
  },
  {
   "cell_type": "markdown",
   "metadata": {},
   "source": [
    "Rather than calculating the mean ourselves, let's call `np.mean`.  This is easier to read and understand!"
   ]
  },
  {
   "cell_type": "code",
   "execution_count": null,
   "metadata": {
    "ExecuteTime": {
     "end_time": "2023-01-05T22:39:31.464978Z",
     "start_time": "2023-01-05T22:39:31.460116Z"
    }
   },
   "outputs": [],
   "source": [
    "np.mean((y_predicted - y)**2)"
   ]
  },
  {
   "cell_type": "markdown",
   "metadata": {},
   "source": [
    "## Exercise\n",
    "\n",
    "Compute the accuracy of a machine learning classifier.  In this case the labels are discrete, and the error is expressed as:\n",
    "$$\n",
    "\\text{accuracy} = \\frac{1}{N}\\sum_{i=1}^N \\left[\\hat{y}_i = y_i\\right].\n",
    "$$\n",
    "Here the notation $[\\mathrm{condition}]$ is the [Iverson bracket](https://en.wikipedia.org/wiki/Iverson_bracket), which is equal to 1 if the condition is true, and 0 otherwise.\n",
    "Also note that the equality sign in this formula corresponds to the programming `==` operator."
   ]
  },
  {
   "cell_type": "code",
   "execution_count": null,
   "metadata": {
    "ExecuteTime": {
     "end_time": "2023-01-05T22:39:31.470185Z",
     "start_time": "2023-01-05T22:39:31.466334Z"
    }
   },
   "outputs": [],
   "source": [
    "y = np.array([0, 1, 1, 1, 0])\n",
    "y_predicted = np.array([1, 0, 1, 1, 0])\n",
    "\n",
    "# accuracy = ...\n"
   ]
  },
  {
   "cell_type": "markdown",
   "metadata": {},
   "source": [
    "For your reference here is a pure Python implementation."
   ]
  },
  {
   "cell_type": "code",
   "execution_count": null,
   "metadata": {
    "ExecuteTime": {
     "end_time": "2023-01-05T22:39:31.479239Z",
     "start_time": "2023-01-05T22:39:31.471414Z"
    }
   },
   "outputs": [],
   "source": [
    "accuracy = sum([y[i] == y_predicted[i] for i in range(len(y))]) / len(y)\n",
    "accuracy"
   ]
  },
  {
   "cell_type": "markdown",
   "metadata": {},
   "source": [
    "# Example:  Random Walks\n",
    "\n",
    "A random walk in one dimension is a random process where at each step the walker takes a step either to the left or to the right.  Random walks have interesting statistical properties that can be investigated by simulating them."
   ]
  },
  {
   "cell_type": "code",
   "execution_count": null,
   "metadata": {
    "ExecuteTime": {
     "end_time": "2023-01-05T22:39:31.490063Z",
     "start_time": "2023-01-05T22:39:31.480508Z"
    }
   },
   "outputs": [],
   "source": [
    "import random   # this is not the numpy random package\n",
    "\n",
    "def random_walk(n_steps):\n",
    "    \"\"\"Return a list of positions in a random walk\"\"\"\n",
    "    position = 0\n",
    "    walk = [position]\n",
    "    for i in range(n_steps):\n",
    "        position += 2 * random.randint(0, 1) - 1  # plus or minus 1\n",
    "        walk.append(position)\n",
    "    return walk\n",
    "\n",
    "walk_length = 1000\n",
    "walk = random_walk(walk_length)\n",
    "print(walk[:20])"
   ]
  },
  {
   "cell_type": "code",
   "execution_count": null,
   "metadata": {
    "ExecuteTime": {
     "end_time": "2023-01-05T22:39:36.287458Z",
     "start_time": "2023-01-05T22:39:31.491282Z"
    }
   },
   "outputs": [],
   "source": [
    "%timeit random_walk(walk_length)"
   ]
  },
  {
   "cell_type": "markdown",
   "metadata": {},
   "source": [
    "Here's a much more efficient `numpy` version."
   ]
  },
  {
   "cell_type": "code",
   "execution_count": null,
   "metadata": {
    "ExecuteTime": {
     "end_time": "2023-01-05T22:39:36.292781Z",
     "start_time": "2023-01-05T22:39:36.288877Z"
    }
   },
   "outputs": [],
   "source": [
    "steps = np.random.choice([-1, 1], 16)\n",
    "np.cumsum(steps)"
   ]
  },
  {
   "cell_type": "code",
   "execution_count": null,
   "metadata": {
    "ExecuteTime": {
     "end_time": "2023-01-05T22:39:36.305355Z",
     "start_time": "2023-01-05T22:39:36.293957Z"
    }
   },
   "outputs": [],
   "source": [
    "def random_walk_vectorized(n_steps):\n",
    "    steps = np.random.choice([-1, 1], n_steps)\n",
    "    return np.cumsum(steps)\n",
    "\n",
    "walk = random_walk_vectorized(walk_length)"
   ]
  },
  {
   "cell_type": "code",
   "execution_count": null,
   "metadata": {
    "ExecuteTime": {
     "end_time": "2023-01-05T22:39:38.000471Z",
     "start_time": "2023-01-05T22:39:36.307041Z"
    }
   },
   "outputs": [],
   "source": [
    "%timeit random_walk_vectorized(walk_length)"
   ]
  },
  {
   "cell_type": "code",
   "execution_count": null,
   "metadata": {
    "ExecuteTime": {
     "end_time": "2023-01-05T22:39:38.104418Z",
     "start_time": "2023-01-05T22:39:38.002207Z"
    }
   },
   "outputs": [],
   "source": [
    "num_steps = 10000\n",
    "distance = random_walk_vectorized(num_steps)\n",
    "plt.plot(distance)\n",
    "plt.plot([0, num_steps], [0, 0], '--', alpha=0.5);  # <- what is this semicolon doing?"
   ]
  },
  {
   "cell_type": "markdown",
   "metadata": {},
   "source": [
    "*This notebook is part of  course materials for CS 345: Machine Learning Foundations and Practice at Colorado State University. Authors include Asa Ben-Hur, Ross Beveridge, and Chuck Anderson.*\n",
    "\n",
    "*The text is released under the [CC BY-SA license](https://creativecommons.org/licenses/by-sa/4.0/), and code is released under the [MIT license](https://opensource.org/licenses/MIT).*"
   ]
  }
 ],
 "metadata": {
  "kernelspec": {
   "display_name": "Python 3 (ipykernel)",
   "language": "python",
   "name": "python3"
  },
  "language_info": {
   "codemirror_mode": {
    "name": "ipython",
    "version": 3
   },
   "file_extension": ".py",
   "mimetype": "text/x-python",
   "name": "python",
   "nbconvert_exporter": "python",
   "pygments_lexer": "ipython3",
   "version": "3.9.13"
  },
  "toc": {
   "base_numbering": 1,
   "nav_menu": {},
   "number_sections": true,
   "sideBar": true,
   "skip_h1_title": false,
   "title_cell": "Table of Contents",
   "title_sidebar": "Contents",
   "toc_cell": true,
   "toc_position": {
    "height": "calc(100% - 180px)",
    "left": "10px",
    "top": "150px",
    "width": "465.455px"
   },
   "toc_section_display": true,
   "toc_window_display": false
  }
 },
 "nbformat": 4,
 "nbformat_minor": 4
}
