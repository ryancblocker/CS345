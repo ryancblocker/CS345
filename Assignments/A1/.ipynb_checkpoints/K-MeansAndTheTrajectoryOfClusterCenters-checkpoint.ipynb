{
 "cells": [
  {
   "cell_type": "markdown",
   "id": "f34c4f2e",
   "metadata": {},
   "source": [
    "# Assignment 1: K-Means and the Trajectories of Cluster Centers"
   ]
  },
  {
   "cell_type": "markdown",
   "id": "4b994023",
   "metadata": {},
   "source": [
    "By typing my name, I confirm that the code, experiments, results, and discussions are all written by me, except for the code provided by the instructor.  \n",
    "\n",
    "*type your name here*"
   ]
  },
  {
   "cell_type": "markdown",
   "id": "8ed8d1f7",
   "metadata": {
    "toc": true
   },
   "source": [
    "<h1>Table of Contents<span class=\"tocSkip\"></span></h1>\n",
    "<div class=\"toc\"><ul class=\"toc-item\"><li><span><a href=\"#Summary\" data-toc-modified-id=\"Summary-1\"><span class=\"toc-item-num\">1&nbsp;&nbsp;</span>Summary</a></span></li><li><span><a href=\"#60-points:-Code-Requirements\" data-toc-modified-id=\"60-points:-Code-Requirements-2\"><span class=\"toc-item-num\">2&nbsp;&nbsp;</span><font color=\"red\"><strong>60 points</strong></font>: Code Requirements</a></span></li><li><span><a href=\"#40-points:-Experiment-and-Discussion-Requirements\" data-toc-modified-id=\"40-points:-Experiment-and-Discussion-Requirements-3\"><span class=\"toc-item-num\">3&nbsp;&nbsp;</span><font color=\"red\"><strong>40 points</strong></font>: Experiment and Discussion Requirements</a></span></li></ul></div>"
   ]
  },
  {
   "cell_type": "markdown",
   "id": "1c8110ce",
   "metadata": {},
   "source": [
    "## Summary"
   ]
  },
  {
   "cell_type": "markdown",
   "id": "d5aa2047",
   "metadata": {},
   "source": [
    "In class we developed our implementation of k-means and applied it to the Old Faithful data.\n",
    "\n",
    "In this assignment, you will investigate how the k-means algorithm adjusts the cluster centers by plotting the trajectory of each center superimposed on the scatter plot of the data."
   ]
  },
  {
   "cell_type": "markdown",
   "id": "408ad803",
   "metadata": {},
   "source": [
    "##  <font color=\"red\">**60 points**</font>: Code Requirements"
   ]
  },
  {
   "cell_type": "markdown",
   "id": "3b1d5d21",
   "metadata": {},
   "source": [
    "Start with the k-means implementation from lecture notes [05 Clustering](https://nbviewer.org/url/www.cs.colostate.edu/~anderson/cs345/notebooks/05%20Clustering.ipynb).  Copy and paste it in the next code cell, along with the `calc_J` function.  Don't forget to start with \n",
    "\n",
    "    import numpy as np\n",
    "    import matplotlib.pyplot as plt\n",
    "    import pandas as pd\n",
    "\n",
    "**<font color=\"purple\">Edited Feb. 2:</font>** Now modify the k-means function to keep track of the cluster centers for each iteration in a local variable named `centers_trajectories`.  The variable `centers_trajectories` must be a `numpy.array` of shape $(n+1, k, 2)$ where $n$ is the number of iterations, $k$ is the number of cluster centers, and 2 is the dimension of your data.  Include the initial centers as the first entry in `centers_trajectories`, which results in having $n+1$ centers stored in `centers_trajectories`. Since we are using the Old Faithful data, the data is two-dimensional. Your `kmeans` function must then return `centers_trajectories`."
   ]
  },
  {
   "cell_type": "code",
   "execution_count": 1,
   "id": "5e05e3cf",
   "metadata": {
    "ExecuteTime": {
     "end_time": "2023-02-01T18:26:30.740644Z",
     "start_time": "2023-02-01T18:26:30.737756Z"
    }
   },
   "outputs": [],
   "source": [
    "## calc_J and your modified kmeans functions\n",
    "\n",
    "# ..."
   ]
  },
  {
   "cell_type": "markdown",
   "id": "d2f22d68",
   "metadata": {},
   "source": [
    "Here is a simple test. You should get the same answer as shown here."
   ]
  },
  {
   "cell_type": "code",
   "execution_count": 3,
   "id": "e4c56e9a",
   "metadata": {
    "ExecuteTime": {
     "end_time": "2023-01-31T17:36:20.062231Z",
     "start_time": "2023-01-31T17:36:20.056302Z"
    }
   },
   "outputs": [
    {
     "data": {
      "text/plain": [
       "array([[1.1, 2.2],\n",
       "       [2.3, 1.5],\n",
       "       [1.9, 2.1],\n",
       "       [5.6, 4.6],\n",
       "       [5.1, 5.5],\n",
       "       [4. , 6. ]])"
      ]
     },
     "execution_count": 3,
     "metadata": {},
     "output_type": "execute_result"
    }
   ],
   "source": [
    "data = np.array([[1.1, 2.2],\n",
    "                 [2.3, 1.5],\n",
    "                 [1.9, 2.1],\n",
    "                 [5.6, 4.6],\n",
    "                 [5.1, 5.5],\n",
    "                 [4.0, 6.0]])\n",
    "data"
   ]
  },
  {
   "cell_type": "markdown",
   "id": "5cc38520",
   "metadata": {},
   "source": [
    "We will set the seed of the random number generator so we all get the same result."
   ]
  },
  {
   "cell_type": "code",
   "execution_count": 4,
   "id": "74f3d1dd",
   "metadata": {
    "ExecuteTime": {
     "end_time": "2023-01-31T17:36:20.072496Z",
     "start_time": "2023-01-31T17:36:20.063718Z"
    }
   },
   "outputs": [
    {
     "data": {
      "text/plain": [
       "array([[1.76666667, 1.93333333],\n",
       "       [4.9       , 5.36666667]])"
      ]
     },
     "execution_count": 4,
     "metadata": {},
     "output_type": "execute_result"
    }
   ],
   "source": [
    "# rng = np.random.default_rng(seed=42)\n",
    "\n",
    "np.random.seed(42)\n",
    "\n",
    "centers, J, closest, centers_trajectories = kmeans(data, k=2, n_iterations=5)\n",
    "centers"
   ]
  },
  {
   "cell_type": "code",
   "execution_count": 5,
   "id": "08f9a949",
   "metadata": {
    "ExecuteTime": {
     "end_time": "2023-01-31T17:36:20.081097Z",
     "start_time": "2023-01-31T17:36:20.074010Z"
    }
   },
   "outputs": [
    {
     "data": {
      "text/plain": [
       "[67.71000000000001, 32.676249999999996, 18.80666666666667, 3.38, 3.38, 3.38]"
      ]
     },
     "execution_count": 5,
     "metadata": {},
     "output_type": "execute_result"
    }
   ],
   "source": [
    "J"
   ]
  },
  {
   "cell_type": "code",
   "execution_count": 6,
   "id": "5912ef3a",
   "metadata": {
    "ExecuteTime": {
     "end_time": "2023-01-31T17:36:20.259262Z",
     "start_time": "2023-01-31T17:36:20.256048Z"
    }
   },
   "outputs": [
    {
     "data": {
      "text/plain": [
       "array([0, 0, 0, 1, 1, 1])"
      ]
     },
     "execution_count": 6,
     "metadata": {},
     "output_type": "execute_result"
    }
   ],
   "source": [
    "closest  # answer could be array([1, 0]) or array([0, 1])"
   ]
  },
  {
   "cell_type": "code",
   "execution_count": 7,
   "id": "0f1b1441",
   "metadata": {
    "ExecuteTime": {
     "end_time": "2023-01-31T17:36:20.531845Z",
     "start_time": "2023-01-31T17:36:20.528395Z"
    }
   },
   "outputs": [
    {
     "data": {
      "text/plain": [
       "(6, 2, 2)"
      ]
     },
     "execution_count": 7,
     "metadata": {},
     "output_type": "execute_result"
    }
   ],
   "source": [
    "centers_trajectories.shape"
   ]
  },
  {
   "cell_type": "code",
   "execution_count": 8,
   "id": "37bd3f82",
   "metadata": {
    "ExecuteTime": {
     "end_time": "2023-01-31T17:36:20.875881Z",
     "start_time": "2023-01-31T17:36:20.872536Z"
    }
   },
   "outputs": [
    {
     "data": {
      "text/plain": [
       "array([[[1.1       , 2.2       ],\n",
       "        [2.3       , 1.5       ]],\n",
       "\n",
       "       [[2.55      , 4.1       ],\n",
       "        [3.725     , 3.425     ]],\n",
       "\n",
       "       [[2.33333333, 3.43333333],\n",
       "        [4.33333333, 3.86666667]],\n",
       "\n",
       "       [[1.76666667, 1.93333333],\n",
       "        [4.9       , 5.36666667]],\n",
       "\n",
       "       [[1.76666667, 1.93333333],\n",
       "        [4.9       , 5.36666667]],\n",
       "\n",
       "       [[1.76666667, 1.93333333],\n",
       "        [4.9       , 5.36666667]]])"
      ]
     },
     "execution_count": 8,
     "metadata": {},
     "output_type": "execute_result"
    }
   ],
   "source": [
    "centers_trajectories"
   ]
  },
  {
   "cell_type": "markdown",
   "id": "e3698a1b",
   "metadata": {},
   "source": [
    "**<font color=\"purple\">Edited Feb. 2:</font>** Now define a function named `plot_kmeans` that accepts as arguments `data`, `closest` and `centers_trajectories` and plots the scatter plot of `data` and the `centers_trajectories`."
   ]
  },
  {
   "cell_type": "code",
   "execution_count": 9,
   "id": "32497b22",
   "metadata": {
    "ExecuteTime": {
     "end_time": "2023-01-31T17:36:21.627592Z",
     "start_time": "2023-01-31T17:36:21.625125Z"
    }
   },
   "outputs": [],
   "source": [
    "# plot_kmeans function defined here\n",
    "\n",
    "# ..."
   ]
  },
  {
   "cell_type": "markdown",
   "id": "7b5a5b66",
   "metadata": {},
   "source": [
    "Here is an example of the plots that your function should produce."
   ]
  },
  {
   "cell_type": "code",
   "execution_count": 10,
   "id": "00e9b37c",
   "metadata": {
    "ExecuteTime": {
     "end_time": "2023-01-31T17:36:23.640989Z",
     "start_time": "2023-01-31T17:36:23.465589Z"
    },
    "scrolled": false
   },
   "outputs": [
    {
     "data": {
      "image/png": "[encoded data removed]",
      "text/plain": [
       "<Figure size 640x480 with 1 Axes>"
      ]
     },
     "metadata": {},
     "output_type": "display_data"
    }
   ],
   "source": [
    "plot_kmeans(data, closest, centers_trajectories)"
   ]
  },
  {
   "cell_type": "markdown",
   "id": "2540cf14",
   "metadata": {},
   "source": [
    "##  <font color=\"red\">**40 points**</font>: Experiment and Discussion Requirements  \n",
    "\n"
   ]
  },
  {
   "cell_type": "markdown",
   "id": "7d27c94d",
   "metadata": {},
   "source": [
    "Add markdown and code cells below this cell to complete each of the following steps."
   ]
  },
  {
   "cell_type": "markdown",
   "id": "78427d4f",
   "metadata": {},
   "source": [
    "1. Run kmeans on the Old Faithful data with $k = 2$ three times, plotting the data and the center trajectories each time.\n",
    "2. After all three runs, add a markdown cell describing the center trajectories.  Discuss how and why they differ among the three runs.\n",
    "3. Run kmeans on the Old Faithful data with $k = 4$ three times, plotting the data and the center trajectories each time.\n",
    "4. After all three runs, add a markdown cell describing the center trajectories.  Discuss how and why they differ among the three runs.\n",
    "5. At the end of your notebook, add one more markdown cell and describe the parts of this assignment that were difficult for you."
   ]
  }
 ],
 "metadata": {
  "kernelspec": {
   "display_name": "Python 3 (ipykernel)",
   "language": "python",
   "name": "python3"
  },
  "language_info": {
   "codemirror_mode": {
    "name": "ipython",
    "version": 3
   },
   "file_extension": ".py",
   "mimetype": "text/x-python",
   "name": "python",
   "nbconvert_exporter": "python",
   "pygments_lexer": "ipython3",
   "version": "3.9.13"
  },
  "toc": {
   "base_numbering": 1,
   "nav_menu": {},
   "number_sections": true,
   "sideBar": true,
   "skip_h1_title": true,
   "title_cell": "Table of Contents",
   "title_sidebar": "Contents",
   "toc_cell": true,
   "toc_position": {},
   "toc_section_display": true,
   "toc_window_display": false
  }
 },
 "nbformat": 4,
 "nbformat_minor": 5
}
